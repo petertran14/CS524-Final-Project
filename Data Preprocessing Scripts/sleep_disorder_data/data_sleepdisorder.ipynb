{
 "cells": [
  {
   "cell_type": "markdown",
   "id": "d466b146",
   "metadata": {},
   "source": [
    "# Import"
   ]
  },
  {
   "cell_type": "code",
   "execution_count": 1,
   "id": "e716a6ca",
   "metadata": {},
   "outputs": [],
   "source": [
    "import pandas as pd\n",
    "import numpy as np\n",
    "from functools import reduce"
   ]
  },
  {
   "cell_type": "markdown",
   "id": "5eaca712",
   "metadata": {},
   "source": [
    "# Load Dataset"
   ]
  },
  {
   "cell_type": "code",
   "execution_count": 2,
   "id": "634786c5",
   "metadata": {},
   "outputs": [],
   "source": [
    "# SEQN - Respondent sequence number\n",
    "# 2015-2016\n",
    "df_demo1 = pd.read_sas(\"2015-2016_DEMO_I.XPT\")#Demographic Variables and Sample Weights,1)Gender:'RIAGENDR', 2)Age:'RIDAGEYR', 3)Pregnancy:'RIDEXPRG'\n",
    "df_demo1 = df_demo1[['SEQN','RIAGENDR', 'RIDAGEYR', 'RIDEXPRG']]\n",
    "\n",
    "df_sleep1 = pd.read_sas(\"2015-2016_SLQ_I.XPT\")#Sleep Disorders, *1)Sleep hours:'SLD012', *2)How often do you snore?:'SLQ030', 3)How often do you snort or stop breathing:'SLQ040', 4)Ever told doctor had trouble sleeping?:'SLQ050'\n",
    "df_sleep1 = df_sleep1[['SEQN', 'SLQ040', 'SLQ050']]\n",
    "\n",
    "df_physical1 = pd.read_sas(\"2015-2016_PAQ_I.XPT\")#Physical Activity,1)Vigorous work activity:'PAQ605', 2)Moderate work activity:'PAQ620'\n",
    "df_physical1 = df_physical1[['SEQN', 'PAQ605', 'PAQ620']]\n",
    "\n",
    "df_smoking1 = pd.read_sas(\"2015-2016_SMQ_I.XPT\")#Smoking - Cigarette Use, 1)Do you now smoke cigarettes?:'SMQ040'\n",
    "df_smoking1 = df_smoking1[['SEQN', 'SMQ040']]\n",
    "\n",
    "df_alcohol1 = pd.read_sas(\"2015-2016_ALQ_I.XPT\")#Alcohol Use: 1)Avg alcoholic drinks/day - past 12 mos:'ALQ130'\n",
    "df_alcohol1 = df_alcohol1[['SEQN', 'ALQ130']]\n",
    "\n",
    "df_diabetes1 = pd.read_sas(\"2015-2016_DIQ_I.XPT\")#Diabetes: 1)Doctor told you have diabetes: 'DIQ010'\n",
    "df_diabetes1 = df_diabetes1[['SEQN', 'DIQ010']]\n",
    "\n",
    "df_bmi1 = pd.read_sas(\"2015-2016_BMX_I.XPT\")#Body Mass Index:'BMXBMI'\n",
    "df_bmi1 = df_bmi1[['SEQN', 'BMXBMI']]\n",
    "\n",
    "# 2017-2018\n",
    "df_demo2 = pd.read_sas(\"2017-2018_DEMO_J.XPT\")#Demographic Variables and Sample Weights,1)Gender:'RIAGENDR', 2)Age:'RIDAGEYR', 3)Pregnancy:'RIDEXPRG'\n",
    "df_demo2 = df_demo2[['SEQN','RIAGENDR', 'RIDAGEYR', 'RIDEXPRG']]\n",
    "\n",
    "df_sleep2 = pd.read_sas(\"2017-2018_SLQ_J.XPT\")#Sleep Disorders, 1)Sleep hours:'SLD012', 2)How often do you snore?:'SLQ030', 3)How often do you snort or stop breathing:'SLQ040', 4)Ever told doctor had trouble sleeping?:'SLQ050'\n",
    "df_sleep2 = df_sleep2[['SEQN', 'SLQ040', 'SLQ050']]\n",
    "\n",
    "df_physical2 = pd.read_sas(\"2017-2018_PAQ_J.XPT\")#Physical Activity,1)Vigorous work activity:'PAQ605', 2)Moderate work activity:'PAQ620'\n",
    "df_physical2 = df_physical2[['SEQN', 'PAQ605', 'PAQ620']]\n",
    "\n",
    "df_smoking2 = pd.read_sas(\"2017-2018_SMQ_J.XPT\")#Smoking - Cigarette Use, 1)SMQ040 - Do you now smoke cigarettes?:'SMQ040'\n",
    "df_smoking2 = df_smoking2[['SEQN', 'SMQ040']]\n",
    "\n",
    "df_alcohol2 = pd.read_sas(\"2017-2018_ALQ_J.XPT\")#Alcohol Use: 1)Avg alcoholic drinks/day - past 12 mos:'ALQ130'\n",
    "df_alcohol2 = df_alcohol2[['SEQN', 'ALQ130']]\n",
    "\n",
    "df_diabetes2 = pd.read_sas(\"2017-2018_DIQ_J.XPT\")#Diabetes: 1)Doctor told you have diabetes: 'DIQ010'\n",
    "df_diabetes2 = df_diabetes2[['SEQN', 'DIQ010']]\n",
    "\n",
    "df_bmi2 = pd.read_sas(\"2017-2018_BMX_J.XPT\")#Body Mass Index:'BMXBMI'\n",
    "df_bmi2 = df_bmi2[['SEQN', 'BMXBMI']]"
   ]
  },
  {
   "cell_type": "code",
   "execution_count": 3,
   "id": "8a998ddc",
   "metadata": {},
   "outputs": [
    {
     "data": {
      "text/plain": [
       "(11268, 12)"
      ]
     },
     "execution_count": 3,
     "metadata": {},
     "output_type": "execute_result"
    }
   ],
   "source": [
    "# 2015-2016 merged by 'SEQN'\n",
    "dfs1 = [df_demo1, df_sleep1, df_physical1, df_smoking1, df_alcohol1, df_diabetes1, df_bmi1]\n",
    "df_2015 = reduce(lambda left, right: pd.merge(left, right, on='SEQN', how='inner'), dfs1)\n",
    "\n",
    "# 2017-2018 merged by 'SEQN'\n",
    "dfs2 = [df_demo2, df_sleep2, df_physical2, df_smoking2, df_alcohol2, df_diabetes2, df_bmi2]\n",
    "df_2017 = reduce(lambda left, right: pd.merge(left, right, on='SEQN', how='inner'), dfs2)\n",
    "\n",
    "# 2015-2016 & 2017-2018 merge\n",
    "df = pd.concat([df_2015, df_2017], axis=0)\n",
    "\n",
    "df.shape"
   ]
  },
  {
   "cell_type": "markdown",
   "id": "29662ca3",
   "metadata": {},
   "source": [
    "# Data Preprocessing"
   ]
  },
  {
   "cell_type": "code",
   "execution_count": 4,
   "id": "a0ab579e",
   "metadata": {},
   "outputs": [],
   "source": [
    "#Demographic Variables\n",
    "\n",
    "# Drop pregnancy\n",
    "df = df[df['RIDEXPRG'] != 1]\n",
    "df = df.drop('RIDEXPRG', axis=1)\n",
    "# Filter Age older than 18\n",
    "df = df[(df['RIDAGEYR'] >= 18)]"
   ]
  },
  {
   "cell_type": "code",
   "execution_count": 5,
   "id": "6ca83ab7",
   "metadata": {},
   "outputs": [],
   "source": [
    "# Filter valid data about Sleep Disorder\n",
    "valid_values = [0, 1, 2, 3]\n",
    "df = df[df['SLQ040'].isin(valid_values) | df['SLQ050'].isin(valid_values)]"
   ]
  },
  {
   "cell_type": "code",
   "execution_count": 6,
   "id": "60e73c2c",
   "metadata": {},
   "outputs": [],
   "source": [
    "# Filter valid data about Physical Activity, Smoking, Diebetes\n",
    "valid_values = [1, 2, 3]\n",
    "df = df[(df['PAQ605'].isin(valid_values) | df['PAQ620'].isin(valid_values)) & df['SMQ040'].isin(valid_values) & df['DIQ010'].isin(valid_values)]"
   ]
  },
  {
   "cell_type": "code",
   "execution_count": 7,
   "id": "ffe9f8a9",
   "metadata": {},
   "outputs": [],
   "source": [
    "# Filter valid data about Alcohol\n",
    "valid_values = [1, 2, 3, 4, 5, 6, 7, 8, 9, 10, 11, 12, 13, 14, 15]\n",
    "df = df[df['ALQ130'].isin(valid_values)]"
   ]
  },
  {
   "cell_type": "code",
   "execution_count": 8,
   "id": "2315c22a",
   "metadata": {},
   "outputs": [],
   "source": [
    "# Filter valid data about BMI\n",
    "columns_to_check = ['BMXBMI']\n",
    "\n",
    "for col in columns_to_check:\n",
    "    df = df[pd.to_numeric(df[col], errors='coerce').notna()]"
   ]
  },
  {
   "cell_type": "code",
   "execution_count": 9,
   "id": "860c0008",
   "metadata": {},
   "outputs": [],
   "source": [
    "# Filter valid data about BMI\n",
    "df = df[pd.to_numeric(df['BMXBMI'], errors='coerce').notna()]"
   ]
  },
  {
   "cell_type": "code",
   "execution_count": 10,
   "id": "00e4c346",
   "metadata": {},
   "outputs": [
    {
     "data": {
      "text/plain": [
       "(3054, 11)"
      ]
     },
     "execution_count": 10,
     "metadata": {},
     "output_type": "execute_result"
    }
   ],
   "source": [
    "#Replace outliers with 0\n",
    "df[df < 1e-10] = 0\n",
    "df.shape"
   ]
  },
  {
   "cell_type": "code",
   "execution_count": 11,
   "id": "27a5ed86",
   "metadata": {},
   "outputs": [
    {
     "name": "stdout",
     "output_type": "stream",
     "text": [
      "male：1904\n",
      "female：1150\n"
     ]
    }
   ],
   "source": [
    "count_male = df['RIAGENDR'].value_counts().get(1, 0)\n",
    "count_female = df['RIAGENDR'].value_counts().get(2, 0)\n",
    "\n",
    "print(f'male：{count_male}')\n",
    "print(f'female：{count_female}')"
   ]
  },
  {
   "cell_type": "markdown",
   "id": "d980b433",
   "metadata": {},
   "source": [
    "# Set categorical features"
   ]
  },
  {
   "cell_type": "code",
   "execution_count": 12,
   "id": "181faf9e",
   "metadata": {},
   "outputs": [
    {
     "name": "stdout",
     "output_type": "stream",
     "text": [
      "sleep disorder：1474\n"
     ]
    }
   ],
   "source": [
    "# add category: 0-no sleep problems;  1-sleep disorder\n",
    "def apply_condition_sleep(df):\n",
    "    if df['SLQ040'] in [1, 2, 3] or df['SLQ050'] == 1:\n",
    "        return 1\n",
    "    else:\n",
    "        return 0\n",
    "\n",
    "df['sleep_disorder'] = df.apply(apply_condition_sleep, axis=1)\n",
    "sleep_disorder = df['sleep_disorder'].sum()\n",
    "print(f'sleep disorder：{sleep_disorder}')"
   ]
  },
  {
   "cell_type": "code",
   "execution_count": 13,
   "id": "bcf27ad6",
   "metadata": {},
   "outputs": [
    {
     "name": "stdout",
     "output_type": "stream",
     "text": [
      "physical_activity：1666\n"
     ]
    }
   ],
   "source": [
    "# 0-no physical activity; 1-have physical activity\n",
    "def apply_condition_physical(df):\n",
    "    if df['PAQ605'] ==1 or df['PAQ620'] == 1:\n",
    "        return 1\n",
    "    else:\n",
    "        return 0\n",
    "\n",
    "df['physical_activity'] = df.apply(apply_condition_physical, axis=1)\n",
    "physical_activity = df['physical_activity'].sum()\n",
    "print(f'physical_activity：{physical_activity}')"
   ]
  },
  {
   "cell_type": "code",
   "execution_count": 14,
   "id": "bf7d75f4",
   "metadata": {},
   "outputs": [
    {
     "name": "stdout",
     "output_type": "stream",
     "text": [
      "smoking：1465\n"
     ]
    }
   ],
   "source": [
    "# 0-no smoking; 1-smoking\n",
    "def apply_condition_smoking(df):\n",
    "    if df['SMQ040'] ==3:\n",
    "        return 0\n",
    "    else:\n",
    "        return 1\n",
    "\n",
    "df['smoking'] = df.apply(apply_condition_smoking, axis=1)\n",
    "smoking = df['smoking'].sum()\n",
    "print(f'smoking：{smoking}')"
   ]
  },
  {
   "cell_type": "code",
   "execution_count": 15,
   "id": "77915823",
   "metadata": {},
   "outputs": [
    {
     "name": "stdout",
     "output_type": "stream",
     "text": [
      "alcohol：25\n"
     ]
    }
   ],
   "source": [
    "# 0-no or less alcohol; 1-alcohol\n",
    "def apply_condition_alcohol(df):\n",
    "    if df['ALQ130'] ==15:\n",
    "        return 1\n",
    "    else:\n",
    "        return 0\n",
    "\n",
    "df['alcohol'] = df.apply(apply_condition_alcohol, axis=1)\n",
    "alcohol = df['alcohol'].sum()\n",
    "print(f'alcohol：{alcohol}')"
   ]
  },
  {
   "cell_type": "code",
   "execution_count": 16,
   "id": "40975612",
   "metadata": {},
   "outputs": [
    {
     "name": "stdout",
     "output_type": "stream",
     "text": [
      "diabetes：438\n"
     ]
    }
   ],
   "source": [
    "# 0-no diabetes; 1-diabetes\n",
    "def apply_condition_diabetes(df):\n",
    "    if df['DIQ010'] ==1:\n",
    "        return 1\n",
    "    else:\n",
    "        return 0\n",
    "\n",
    "df['diabetes'] = df.apply(apply_condition_diabetes, axis=1)\n",
    "diabetes = df['diabetes'].sum()\n",
    "print(f'diabetes：{diabetes}')"
   ]
  },
  {
   "cell_type": "markdown",
   "id": "ad2ec98f",
   "metadata": {},
   "source": [
    "from sklearn.preprocessing import StandardScaler\n",
    "\n",
    "scaler = StandardScaler()\n",
    "feature_to_scale = 'BMXBMI'\n",
    "df['BMXBMI'] = scaler.fit_transform(df[['BMXBMI']])"
   ]
  },
  {
   "cell_type": "code",
   "execution_count": 17,
   "id": "d40172e8",
   "metadata": {},
   "outputs": [
    {
     "name": "stdout",
     "output_type": "stream",
     "text": [
      "The count of \"Normal Weight\" in the column is: 791\n",
      "The count of \"Overweight\" in the column is: 976\n",
      "The count of \"Obesity\" in the column is: 1287\n"
     ]
    }
   ],
   "source": [
    "# bin\n",
    "\n",
    "df['BMI_bins'] = pd.cut(df['BMXBMI'], bins=[0, 24.9, 29.9, float('inf')], labels=['Normal Weight', 'Overweight', 'Obesity'])\n",
    "\n",
    "normal_count = df['BMI_bins'].value_counts().get('Normal Weight', 0)\n",
    "Overweight_count = df['BMI_bins'].value_counts().get('Overweight', 0)\n",
    "Obesity_count = df['BMI_bins'].value_counts().get('Obesity', 0)\n",
    "\n",
    "print(f'The count of \"Normal Weight\" in the column is: {normal_count}')\n",
    "print(f'The count of \"Overweight\" in the column is: {Overweight_count}')\n",
    "print(f'The count of \"Obesity\" in the column is: {Obesity_count}')"
   ]
  },
  {
   "cell_type": "code",
   "execution_count": 18,
   "id": "7abf8da3",
   "metadata": {},
   "outputs": [
    {
     "data": {
      "text/html": [
       "<div>\n",
       "<style scoped>\n",
       "    .dataframe tbody tr th:only-of-type {\n",
       "        vertical-align: middle;\n",
       "    }\n",
       "\n",
       "    .dataframe tbody tr th {\n",
       "        vertical-align: top;\n",
       "    }\n",
       "\n",
       "    .dataframe thead th {\n",
       "        text-align: right;\n",
       "    }\n",
       "</style>\n",
       "<table border=\"1\" class=\"dataframe\">\n",
       "  <thead>\n",
       "    <tr style=\"text-align: right;\">\n",
       "      <th></th>\n",
       "      <th>sleep_disorder</th>\n",
       "      <th>physical_activity</th>\n",
       "      <th>smoking</th>\n",
       "      <th>diabetes</th>\n",
       "      <th>alcohol</th>\n",
       "      <th>BMI_bins</th>\n",
       "    </tr>\n",
       "  </thead>\n",
       "  <tbody>\n",
       "    <tr>\n",
       "      <th>0</th>\n",
       "      <td>1</td>\n",
       "      <td>1</td>\n",
       "      <td>0</td>\n",
       "      <td>1</td>\n",
       "      <td>0</td>\n",
       "      <td>Overweight</td>\n",
       "    </tr>\n",
       "    <tr>\n",
       "      <th>1</th>\n",
       "      <td>0</td>\n",
       "      <td>0</td>\n",
       "      <td>1</td>\n",
       "      <td>0</td>\n",
       "      <td>0</td>\n",
       "      <td>Obesity</td>\n",
       "    </tr>\n",
       "    <tr>\n",
       "      <th>6</th>\n",
       "      <td>0</td>\n",
       "      <td>0</td>\n",
       "      <td>1</td>\n",
       "      <td>0</td>\n",
       "      <td>0</td>\n",
       "      <td>Overweight</td>\n",
       "    </tr>\n",
       "    <tr>\n",
       "      <th>10</th>\n",
       "      <td>1</td>\n",
       "      <td>0</td>\n",
       "      <td>1</td>\n",
       "      <td>0</td>\n",
       "      <td>0</td>\n",
       "      <td>Overweight</td>\n",
       "    </tr>\n",
       "    <tr>\n",
       "      <th>11</th>\n",
       "      <td>0</td>\n",
       "      <td>0</td>\n",
       "      <td>0</td>\n",
       "      <td>0</td>\n",
       "      <td>0</td>\n",
       "      <td>Normal Weight</td>\n",
       "    </tr>\n",
       "  </tbody>\n",
       "</table>\n",
       "</div>"
      ],
      "text/plain": [
       "    sleep_disorder  physical_activity  smoking  diabetes  alcohol  \\\n",
       "0                1                  1        0         1        0   \n",
       "1                0                  0        1         0        0   \n",
       "6                0                  0        1         0        0   \n",
       "10               1                  0        1         0        0   \n",
       "11               0                  0        0         0        0   \n",
       "\n",
       "         BMI_bins  \n",
       "0      Overweight  \n",
       "1         Obesity  \n",
       "6      Overweight  \n",
       "10     Overweight  \n",
       "11  Normal Weight  "
      ]
     },
     "execution_count": 18,
     "metadata": {},
     "output_type": "execute_result"
    }
   ],
   "source": [
    "df_ml = df[['sleep_disorder', 'physical_activity', 'smoking', 'diabetes', 'alcohol', 'BMI_bins']]\n",
    "df_ml.head()"
   ]
  },
  {
   "cell_type": "code",
   "execution_count": null,
   "id": "4c52d38a",
   "metadata": {},
   "outputs": [],
   "source": []
  }
 ],
 "metadata": {
  "kernelspec": {
   "display_name": "Python 3 (ipykernel)",
   "language": "python",
   "name": "python3"
  },
  "language_info": {
   "codemirror_mode": {
    "name": "ipython",
    "version": 3
   },
   "file_extension": ".py",
   "mimetype": "text/x-python",
   "name": "python",
   "nbconvert_exporter": "python",
   "pygments_lexer": "ipython3",
   "version": "3.11.4"
  }
 },
 "nbformat": 4,
 "nbformat_minor": 5
}
