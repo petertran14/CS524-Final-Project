{
 "cells": [
  {
   "cell_type": "code",
   "execution_count": 1,
   "id": "598d362a",
   "metadata": {},
   "outputs": [],
   "source": [
    "import pandas as pd"
   ]
  },
  {
   "cell_type": "code",
   "execution_count": 3,
   "id": "634786c5",
   "metadata": {},
   "outputs": [],
   "source": [
    "# 2015-2016\n",
    "df0 = pd.read_sas(\"00_DIQ_I.XPT\")\n",
    "df1 = pd.read_sas(\"10_DEMO_I.XPT\")\n",
    "df2 = pd.read_sas(\"20_BMX_I.XPT\")\n",
    "df3 = pd.read_sas(\"30_GHB_I.XPT\")\n",
    "df4 = pd.read_sas(\"40_HDL_I.XPT\")\n",
    "df41 = pd.read_sas(\"41_TRIGLY_I.XPT\")\n",
    "df5 = pd.read_sas(\"50_BPX_I.XPT\")\n",
    "# 2017-2018\n",
    "df0_ = pd.read_sas(\"00_DIQ_J.XPT\")\n",
    "df1_ = pd.read_sas(\"10_DEMO_J.XPT\")\n",
    "df2_ = pd.read_sas(\"20_BMX_J.XPT\")\n",
    "df3_ = pd.read_sas(\"30_GHB_J.XPT\")\n",
    "df4_ = pd.read_sas(\"40_HDL_J.XPT\")\n",
    "df41_ = pd.read_sas(\"41_TRIGLY_J.XPT\")\n",
    "df5_ = pd.read_sas(\"50_BPX_J.XPT\")"
   ]
  },
  {
   "cell_type": "code",
   "execution_count": 26,
   "id": "8a998ddc",
   "metadata": {},
   "outputs": [],
   "source": [
    "# 2015-2016 merge by 'SEQN'\n",
    "df0_1 = df0[['SEQN','DIQ010', 'DIQ172']].copy()\n",
    "df1_1 = df1[['SEQN', 'RIAGENDR', 'RIDAGEYR', 'RIDEXPRG']].copy()\n",
    "df2_1 = df2[['SEQN', 'BMXBMI']].copy()\n",
    "df4_1 = df4[['SEQN', 'LBDHDD']].copy()\n",
    "df41_1 = df41[['SEQN', 'LBDLDL', 'LBXTR']].copy()\n",
    "df5_1 = df5[['SEQN', 'BPXSY1', 'BPXDI1', 'BPXSY2', 'BPXDI2', 'BPXSY3', 'BPXDI3']].copy()\n",
    "merged_df = df0_1.merge(df1_1, on='SEQN', how = 'inner')\n",
    "merged_df = merged_df.merge(df2_1, on='SEQN', how = 'inner')\n",
    "merged_df = merged_df.merge(df3, on='SEQN', how = 'inner')\n",
    "merged_df = merged_df.merge(df4_1, on='SEQN', how = 'inner')\n",
    "merged_df = merged_df.merge(df41_1, on='SEQN', how = 'inner')\n",
    "merged_df = merged_df.merge(df5_1, on='SEQN', how = 'inner')\n",
    "# 2017-2018 merge by 'SEQN'\n",
    "df0_1_ = df0_[['SEQN', 'DIQ010', 'DIQ172']].copy()\n",
    "df1_1_ = df1_[['SEQN', 'RIAGENDR', 'RIDAGEYR', 'RIDEXPRG']].copy()\n",
    "df2_1_ = df2_[['SEQN', 'BMXBMI']].copy()\n",
    "df4_1_ = df4_[['SEQN', 'LBDHDD']].copy()\n",
    "df41_1_ = df41_[['SEQN', 'LBDLDL', 'LBXTR']].copy()\n",
    "df5_1_ = df5_[['SEQN', 'BPXSY1', 'BPXDI1', 'BPXSY2', 'BPXDI2', 'BPXSY3', 'BPXDI3']].copy()\n",
    "merged_df_ = df0_1_.merge(df1_1_, on='SEQN', how = 'inner')\n",
    "merged_df_ = merged_df_.merge(df2_1_, on='SEQN', how = 'inner')\n",
    "merged_df_ = merged_df_.merge(df3_, on='SEQN', how = 'inner')\n",
    "merged_df_ = merged_df_.merge(df4_1_, on='SEQN', how = 'inner')\n",
    "merged_df_ = merged_df_.merge(df41_1_, on='SEQN', how = 'inner')\n",
    "merged_df_ = merged_df_.merge(df5_1_, on='SEQN', how = 'inner')\n",
    "# 2015-2016 & 2017-2018 merge\n",
    "df = pd.concat([merged_df, merged_df_], axis=0)"
   ]
  },
  {
   "cell_type": "code",
   "execution_count": 27,
   "id": "a0ab579e",
   "metadata": {},
   "outputs": [],
   "source": [
    "# Delete pregnancy and drop the column\n",
    "df = df[df['RIDEXPRG'] != 1]\n",
    "df = df.drop(columns=['RIDEXPRG'])\n",
    "\n",
    "# Delete NA\n",
    "df = df.dropna(how='all')\n",
    "\n",
    "# Filter Age>18\n",
    "df = df[df['RIDAGEYR'] > 18]"
   ]
  },
  {
   "cell_type": "code",
   "execution_count": 28,
   "id": "d52007ac",
   "metadata": {},
   "outputs": [
    {
     "data": {
      "text/plain": [
       "(5195, 16)"
      ]
     },
     "execution_count": 28,
     "metadata": {},
     "output_type": "execute_result"
    }
   ],
   "source": [
    "df.shape"
   ]
  },
  {
   "cell_type": "code",
   "execution_count": 29,
   "id": "c053a9cb",
   "metadata": {},
   "outputs": [
    {
     "name": "stdout",
     "output_type": "stream",
     "text": [
      "1774\n",
      "0.34148219441770933\n"
     ]
    }
   ],
   "source": [
    "# Control Group 0 -> has diabetes: Glycohemoglobin (%) > 5.6 & BMI > 25\n",
    "HasDiabetes = (df['LBXGH'] > 5.6) & (df['BMXBMI'] > 25)\n",
    "count0 = df[HasDiabetes].shape[0]\n",
    "percent0 = count0/df.shape[0]\n",
    "print(count0)\n",
    "print(percent0)"
   ]
  },
  {
   "cell_type": "code",
   "execution_count": 30,
   "id": "e5ad1565",
   "metadata": {},
   "outputs": [
    {
     "name": "stdout",
     "output_type": "stream",
     "text": [
      "929\n",
      "0.17882579403272378\n"
     ]
    }
   ],
   "source": [
    "# Variable Group 1 -> Learn and evaluate on diabetes + cholesterol data only\n",
    "# HDL < 40 | LDL > 130 | Triglyceride > 150\n",
    "HasHighCholesterol = (df['LBXGH'] > 5.6) & (df['BMXBMI'] > 25) & ((df['LBDHDD'] < 40) | (df['LBDLDL'] > 130) | (df['LBXTR'] > 150))\n",
    "count1 = df[HasHighCholesterol].shape[0]\n",
    "percent1 = count1/df.shape[0]\n",
    "print(count1)\n",
    "print(percent1)"
   ]
  },
  {
   "cell_type": "code",
   "execution_count": 31,
   "id": "1487e371",
   "metadata": {},
   "outputs": [
    {
     "name": "stdout",
     "output_type": "stream",
     "text": [
      "1252\n",
      "0.2410009624639076\n"
     ]
    }
   ],
   "source": [
    "# Variable Group 2 -> Learn and evaluate on diabetes + blood pressure data only\n",
    "# Caculate mean of blood pressure\n",
    "Systolic_columns = df[['BPXSY1', 'BPXSY2', 'BPXSY3']]\n",
    "Diastolic_columns = df[['BPXDI1', 'BPXDI2', 'BPXDI3']]\n",
    "df['SystolicMean'] = Systolic_columns.mean(axis=1)\n",
    "df['DiastolicMean'] = Diastolic_columns.mean(axis=1)\n",
    "\n",
    "HasHighBloodPressure = (df['LBXGH'] > 5.6) & (df['BMXBMI'] > 25) & ((df['SystolicMean'] > 120) | (df['DiastolicMean'] > 80))\n",
    "count2 = df[HasHighBloodPressure].shape[0]\n",
    "percent2 = count2/df.shape[0]\n",
    "print(count2)\n",
    "print(percent2)"
   ]
  },
  {
   "cell_type": "code",
   "execution_count": 32,
   "id": "1a8a97fb",
   "metadata": {},
   "outputs": [
    {
     "name": "stdout",
     "output_type": "stream",
     "text": [
      "677\n",
      "0.13031761308950915\n"
     ]
    }
   ],
   "source": [
    "# Variable Group #3 (Learn and evaluate on diabetes + cholesterol + blood pressure data)\n",
    "HasBoth = HasHighCholesterol & HasHighBloodPressure\n",
    "count3 = df[HasBoth].shape[0]\n",
    "percent3 = count3/df.shape[0]\n",
    "print(count3)\n",
    "print(percent3)"
   ]
  },
  {
   "cell_type": "code",
   "execution_count": null,
   "id": "a0bf89f9",
   "metadata": {},
   "outputs": [],
   "source": []
  }
 ],
 "metadata": {
  "kernelspec": {
   "display_name": "Python 3 (ipykernel)",
   "language": "python",
   "name": "python3"
  },
  "language_info": {
   "codemirror_mode": {
    "name": "ipython",
    "version": 3
   },
   "file_extension": ".py",
   "mimetype": "text/x-python",
   "name": "python",
   "nbconvert_exporter": "python",
   "pygments_lexer": "ipython3",
   "version": "3.11.4"
  }
 },
 "nbformat": 4,
 "nbformat_minor": 5
}
