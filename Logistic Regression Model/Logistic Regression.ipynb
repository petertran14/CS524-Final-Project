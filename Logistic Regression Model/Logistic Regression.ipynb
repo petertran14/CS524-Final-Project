{
 "cells": [
  {
   "cell_type": "markdown",
   "id": "0263d0bb",
   "metadata": {},
   "source": [
    "# Import "
   ]
  },
  {
   "cell_type": "code",
   "execution_count": 97,
   "id": "9c7d3bc7",
   "metadata": {},
   "outputs": [],
   "source": [
    "# Data structure libraries\n",
    "import pandas as pd\n",
    "import numpy as np\n",
    "\n",
    "# ML libraries\n",
    "from sklearn.linear_model import LogisticRegression\n",
    "from sklearn.model_selection import train_test_split\n",
    "from sklearn.preprocessing import PolynomialFeatures\n",
    "\n",
    "# Visualization libraries\n",
    "import matplotlib.pyplot as plt\n",
    "from sklearn.metrics import classification_report, confusion_matrix"
   ]
  },
  {
   "cell_type": "markdown",
   "id": "7f88e9fb",
   "metadata": {},
   "source": [
    "# Load Dataset"
   ]
  },
  {
   "cell_type": "code",
   "execution_count": 78,
   "id": "29ac6456",
   "metadata": {},
   "outputs": [],
   "source": [
    "sleep_data = pd.read_csv('./data/processed_data.csv')"
   ]
  },
  {
   "cell_type": "markdown",
   "id": "ab3f0318",
   "metadata": {},
   "source": [
    "# Data Preprocessing"
   ]
  },
  {
   "cell_type": "code",
   "execution_count": 79,
   "id": "27e6d58d",
   "metadata": {},
   "outputs": [],
   "source": [
    "# Removing unnamed column\n",
    "sleep_data = sleep_data.loc[:, ~sleep_data.columns.str.contains('^Unnamed')]"
   ]
  },
  {
   "cell_type": "code",
   "execution_count": 36,
   "id": "e81622df",
   "metadata": {},
   "outputs": [],
   "source": [
    "# Moving label as the last column\n",
    "sleep_data = sleep_data[['SEQN', 'RIAGENDR', 'RIDAGEYR', 'SLQ040', 'SLQ050', 'PAQ605', 'PAQ620', 'SMQ040', 'ALQ130',\n",
    "                         'DIQ010', 'BMXBMI', 'physical_activity', 'smoking', 'alcohol', 'diabetes', 'sleep_disorder']]"
   ]
  },
  {
   "cell_type": "markdown",
   "id": "394e5df0",
   "metadata": {},
   "source": [
    "# Train - Validation - Test Split"
   ]
  },
  {
   "cell_type": "code",
   "execution_count": 39,
   "id": "8646d3da",
   "metadata": {},
   "outputs": [],
   "source": [
    "# All feature data\n",
    "features = sleep_data.iloc[:,:-1]\n",
    "# All label data\n",
    "labels = sleep_data.iloc[:,-1:]\n",
    "\n",
    "# Split into train test, addded parameters to ensure that both groups have similar label distribution\n",
    "feature_train, feature_test, label_train, label_test = train_test_split(features, labels, test_size=0.1, stratify=labels)\n",
    "\n",
    "# Using the remaining training records, split into validation, slightly larger split to make it comparable to test size\n",
    "feature_train, feature_val, label_train, label_val = train_test_split(feature_train, label_train, test_size=0.2, stratify=label_train)\n",
    "\n",
    "# In the end, we get 3 groups:\n",
    "\n",
    "# feature_train\n",
    "# label_train\n",
    "\n",
    "# feature_test\n",
    "# label_test\n",
    "\n",
    "# feature_validation\n",
    "# label_validation"
   ]
  },
  {
   "cell_type": "markdown",
   "id": "c142c8b5",
   "metadata": {},
   "source": [
    "# Investigating potiential non linear relationships via basis function"
   ]
  },
  {
   "cell_type": "code",
   "execution_count": 98,
   "id": "329c1b2f",
   "metadata": {},
   "outputs": [
    {
     "ename": "InvalidIndexError",
     "evalue": "(slice(None, None, None), None)",
     "output_type": "error",
     "traceback": [
      "\u001b[0;31m---------------------------------------------------------------------------\u001b[0m",
      "\u001b[0;31mTypeError\u001b[0m                                 Traceback (most recent call last)",
      "File \u001b[0;32m~/opt/anaconda3/lib/python3.9/site-packages/pandas/core/indexes/base.py:3621\u001b[0m, in \u001b[0;36mIndex.get_loc\u001b[0;34m(self, key, method, tolerance)\u001b[0m\n\u001b[1;32m   3620\u001b[0m \u001b[38;5;28;01mtry\u001b[39;00m:\n\u001b[0;32m-> 3621\u001b[0m     \u001b[38;5;28;01mreturn\u001b[39;00m \u001b[38;5;28;43mself\u001b[39;49m\u001b[38;5;241;43m.\u001b[39;49m\u001b[43m_engine\u001b[49m\u001b[38;5;241;43m.\u001b[39;49m\u001b[43mget_loc\u001b[49m\u001b[43m(\u001b[49m\u001b[43mcasted_key\u001b[49m\u001b[43m)\u001b[49m\n\u001b[1;32m   3622\u001b[0m \u001b[38;5;28;01mexcept\u001b[39;00m \u001b[38;5;167;01mKeyError\u001b[39;00m \u001b[38;5;28;01mas\u001b[39;00m err:\n",
      "File \u001b[0;32m~/opt/anaconda3/lib/python3.9/site-packages/pandas/_libs/index.pyx:136\u001b[0m, in \u001b[0;36mpandas._libs.index.IndexEngine.get_loc\u001b[0;34m()\u001b[0m\n",
      "File \u001b[0;32m~/opt/anaconda3/lib/python3.9/site-packages/pandas/_libs/index.pyx:142\u001b[0m, in \u001b[0;36mpandas._libs.index.IndexEngine.get_loc\u001b[0;34m()\u001b[0m\n",
      "\u001b[0;31mTypeError\u001b[0m: '(slice(None, None, None), None)' is an invalid key",
      "\nDuring handling of the above exception, another exception occurred:\n",
      "\u001b[0;31mInvalidIndexError\u001b[0m                         Traceback (most recent call last)",
      "Input \u001b[0;32mIn [98]\u001b[0m, in \u001b[0;36m<cell line: 2>\u001b[0;34m()\u001b[0m\n\u001b[1;32m      1\u001b[0m poly \u001b[38;5;241m=\u001b[39m PolynomialFeatures(\u001b[38;5;241m3\u001b[39m, include_bias\u001b[38;5;241m=\u001b[39m\u001b[38;5;28;01mFalse\u001b[39;00m)\n\u001b[0;32m----> 2\u001b[0m poly\u001b[38;5;241m.\u001b[39mfit_transform(\u001b[43mfeature_val\u001b[49m\u001b[43m[\u001b[49m\u001b[43m:\u001b[49m\u001b[43m,\u001b[49m\u001b[43m \u001b[49m\u001b[38;5;28;43;01mNone\u001b[39;49;00m\u001b[43m]\u001b[49m)\n",
      "File \u001b[0;32m~/opt/anaconda3/lib/python3.9/site-packages/pandas/core/frame.py:3505\u001b[0m, in \u001b[0;36mDataFrame.__getitem__\u001b[0;34m(self, key)\u001b[0m\n\u001b[1;32m   3503\u001b[0m \u001b[38;5;28;01mif\u001b[39;00m \u001b[38;5;28mself\u001b[39m\u001b[38;5;241m.\u001b[39mcolumns\u001b[38;5;241m.\u001b[39mnlevels \u001b[38;5;241m>\u001b[39m \u001b[38;5;241m1\u001b[39m:\n\u001b[1;32m   3504\u001b[0m     \u001b[38;5;28;01mreturn\u001b[39;00m \u001b[38;5;28mself\u001b[39m\u001b[38;5;241m.\u001b[39m_getitem_multilevel(key)\n\u001b[0;32m-> 3505\u001b[0m indexer \u001b[38;5;241m=\u001b[39m \u001b[38;5;28;43mself\u001b[39;49m\u001b[38;5;241;43m.\u001b[39;49m\u001b[43mcolumns\u001b[49m\u001b[38;5;241;43m.\u001b[39;49m\u001b[43mget_loc\u001b[49m\u001b[43m(\u001b[49m\u001b[43mkey\u001b[49m\u001b[43m)\u001b[49m\n\u001b[1;32m   3506\u001b[0m \u001b[38;5;28;01mif\u001b[39;00m is_integer(indexer):\n\u001b[1;32m   3507\u001b[0m     indexer \u001b[38;5;241m=\u001b[39m [indexer]\n",
      "File \u001b[0;32m~/opt/anaconda3/lib/python3.9/site-packages/pandas/core/indexes/base.py:3628\u001b[0m, in \u001b[0;36mIndex.get_loc\u001b[0;34m(self, key, method, tolerance)\u001b[0m\n\u001b[1;32m   3623\u001b[0m         \u001b[38;5;28;01mraise\u001b[39;00m \u001b[38;5;167;01mKeyError\u001b[39;00m(key) \u001b[38;5;28;01mfrom\u001b[39;00m \u001b[38;5;21;01merr\u001b[39;00m\n\u001b[1;32m   3624\u001b[0m     \u001b[38;5;28;01mexcept\u001b[39;00m \u001b[38;5;167;01mTypeError\u001b[39;00m:\n\u001b[1;32m   3625\u001b[0m         \u001b[38;5;66;03m# If we have a listlike key, _check_indexing_error will raise\u001b[39;00m\n\u001b[1;32m   3626\u001b[0m         \u001b[38;5;66;03m#  InvalidIndexError. Otherwise we fall through and re-raise\u001b[39;00m\n\u001b[1;32m   3627\u001b[0m         \u001b[38;5;66;03m#  the TypeError.\u001b[39;00m\n\u001b[0;32m-> 3628\u001b[0m         \u001b[38;5;28;43mself\u001b[39;49m\u001b[38;5;241;43m.\u001b[39;49m\u001b[43m_check_indexing_error\u001b[49m\u001b[43m(\u001b[49m\u001b[43mkey\u001b[49m\u001b[43m)\u001b[49m\n\u001b[1;32m   3629\u001b[0m         \u001b[38;5;28;01mraise\u001b[39;00m\n\u001b[1;32m   3631\u001b[0m \u001b[38;5;66;03m# GH#42269\u001b[39;00m\n",
      "File \u001b[0;32m~/opt/anaconda3/lib/python3.9/site-packages/pandas/core/indexes/base.py:5637\u001b[0m, in \u001b[0;36mIndex._check_indexing_error\u001b[0;34m(self, key)\u001b[0m\n\u001b[1;32m   5633\u001b[0m \u001b[38;5;28;01mdef\u001b[39;00m \u001b[38;5;21m_check_indexing_error\u001b[39m(\u001b[38;5;28mself\u001b[39m, key):\n\u001b[1;32m   5634\u001b[0m     \u001b[38;5;28;01mif\u001b[39;00m \u001b[38;5;129;01mnot\u001b[39;00m is_scalar(key):\n\u001b[1;32m   5635\u001b[0m         \u001b[38;5;66;03m# if key is not a scalar, directly raise an error (the code below\u001b[39;00m\n\u001b[1;32m   5636\u001b[0m         \u001b[38;5;66;03m# would convert to numpy arrays and raise later any way) - GH29926\u001b[39;00m\n\u001b[0;32m-> 5637\u001b[0m         \u001b[38;5;28;01mraise\u001b[39;00m InvalidIndexError(key)\n",
      "\u001b[0;31mInvalidIndexError\u001b[0m: (slice(None, None, None), None)"
     ]
    }
   ],
   "source": [
    "poly = PolynomialFeatures(3, include_bias=False)\n",
    "poly.fit_transform(feature_val[:, None])"
   ]
  },
  {
   "cell_type": "markdown",
   "id": "fe0ebb06",
   "metadata": {},
   "source": [
    "# Hyperparameter Tuning"
   ]
  },
  {
   "cell_type": "code",
   "execution_count": 87,
   "id": "a3b6491e",
   "metadata": {},
   "outputs": [],
   "source": [
    "accuracy_list = []\n",
    "c_range = np.geomspace(start=0.001, stop=100, num=100)\n",
    "\n",
    "for c in c_range:\n",
    "    # Hyperparameter is the number of regularization strength (C), l2 by default\n",
    "    model = LogisticRegression(solver='liblinear', C=c, random_state=0)\n",
    "    \n",
    "    # Learn the model over the training data\n",
    "    model.fit(feature_train, label_train.values.ravel())\n",
    "\n",
    "    # Predict labels over the validation data\n",
    "    model.predict(feature_val)\n",
    "\n",
    "    # Evaluate accuracy over the validation data\n",
    "    accuracy_list.append(model.score(feature_val, label_val))"
   ]
  },
  {
   "cell_type": "code",
   "execution_count": 88,
   "id": "5514a7f0",
   "metadata": {},
   "outputs": [
    {
     "data": {
      "image/png": "[encoded data removed]",
      "text/plain": [
       "<Figure size 432x288 with 1 Axes>"
      ]
     },
     "metadata": {
      "needs_background": "light"
     },
     "output_type": "display_data"
    }
   ],
   "source": [
    "plt.scatter(c_range, accuracy_list, s = 10)\n",
    "plt.show()"
   ]
  },
  {
   "cell_type": "code",
   "execution_count": 89,
   "id": "43e04a15",
   "metadata": {},
   "outputs": [],
   "source": [
    "best_accuracy = max(accuracy_list)\n",
    "best_accuracy_index = accuracy_list.index(best_accuracy)\n",
    "best_c = c_range[best_accuracy_index]"
   ]
  },
  {
   "cell_type": "code",
   "execution_count": 90,
   "id": "419ecfc4",
   "metadata": {},
   "outputs": [
    {
     "name": "stdout",
     "output_type": "stream",
     "text": [
      "Best Accuracy:  0.8418181818181818\n",
      "Best regularization value 0.05857020818056667\n"
     ]
    }
   ],
   "source": [
    "print('Best Accuracy: ', best_accuracy)\n",
    "print('Best regularization value', best_c)"
   ]
  },
  {
   "cell_type": "markdown",
   "id": "0ac99435",
   "metadata": {},
   "source": [
    "# Logistic Regression"
   ]
  },
  {
   "cell_type": "code",
   "execution_count": null,
   "id": "5ee66a98",
   "metadata": {},
   "outputs": [],
   "source": [
    "# Hyperparameter is the number of regularization strength (C), l2 by default\n",
    "model = LogisticRegression(solver='liblinear', C=best_c, random_state=0)\n",
    "\n",
    "# Learn the model over the training data\n",
    "model.fit(feature_train, label_train.values.ravel())\n",
    "\n",
    "# Predict labels over the validation data\n",
    "model.predict(feature_test)\n",
    "\n",
    "# Evaluate accuracy over the validation data\n",
    "accuracy = model.score(feature_test, label_test)"
   ]
  },
  {
   "cell_type": "markdown",
   "id": "412702f1",
   "metadata": {},
   "source": [
    "# Interpret Results"
   ]
  },
  {
   "cell_type": "code",
   "execution_count": 94,
   "id": "3497c96b",
   "metadata": {},
   "outputs": [
    {
     "data": {
      "image/png": "[encoded data removed]",
      "text/plain": [
       "<Figure size 576x576 with 1 Axes>"
      ]
     },
     "metadata": {
      "needs_background": "light"
     },
     "output_type": "display_data"
    }
   ],
   "source": [
    "cm = confusion_matrix(label_test, model.predict(feature_test))\n",
    "\n",
    "fig, ax = plt.subplots(figsize=(8, 8))\n",
    "ax.imshow(cm)\n",
    "ax.grid(False)\n",
    "ax.xaxis.set(ticks=(0, 1), ticklabels=('Predicted Negative Sleep Disorder ', 'Predicted Positive Sleep Disorder'))\n",
    "ax.yaxis.set(ticks=(0, 1), ticklabels=('Actual Negative Sleep Disorder', 'Actual Positive Sleep Disorder'))\n",
    "ax.set_ylim(1.5, -0.5)\n",
    "for i in range(2):\n",
    "    for j in range(2):\n",
    "        ax.text(j, i, cm[i, j], ha='center', va='center', color='red')\n",
    "plt.show()"
   ]
  },
  {
   "cell_type": "code",
   "execution_count": 96,
   "id": "8c7810be",
   "metadata": {},
   "outputs": [
    {
     "name": "stdout",
     "output_type": "stream",
     "text": [
      "              precision    recall  f1-score   support\n",
      "\n",
      "           0       0.76      0.98      0.86       158\n",
      "           1       0.97      0.67      0.79       148\n",
      "\n",
      "    accuracy                           0.83       306\n",
      "   macro avg       0.87      0.82      0.82       306\n",
      "weighted avg       0.86      0.83      0.83       306\n",
      "\n"
     ]
    }
   ],
   "source": [
    "print(classification_report(label_test, model.predict(feature_test)))"
   ]
  },
  {
   "cell_type": "markdown",
   "id": "a304b731",
   "metadata": {},
   "source": [
    "# Driver (to run entire experiment over k iterations, if needed)"
   ]
  },
  {
   "cell_type": "code",
   "execution_count": null,
   "id": "f7bce041",
   "metadata": {},
   "outputs": [],
   "source": []
  }
 ],
 "metadata": {
  "kernelspec": {
   "display_name": "Python 3 (ipykernel)",
   "language": "python",
   "name": "python3"
  },
  "language_info": {
   "codemirror_mode": {
    "name": "ipython",
    "version": 3
   },
   "file_extension": ".py",
   "mimetype": "text/x-python",
   "name": "python",
   "nbconvert_exporter": "python",
   "pygments_lexer": "ipython3",
   "version": "3.9.12"
  }
 },
 "nbformat": 4,
 "nbformat_minor": 5
}
