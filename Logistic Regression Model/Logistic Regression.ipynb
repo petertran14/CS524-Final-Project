{
 "cells": [
  {
   "cell_type": "markdown",
   "id": "0263d0bb",
   "metadata": {},
   "source": [
    "# Import "
   ]
  },
  {
   "cell_type": "code",
   "execution_count": 370,
   "id": "9c7d3bc7",
   "metadata": {},
   "outputs": [],
   "source": [
    "# Data structure libraries\n",
    "import pandas as pd\n",
    "import numpy as np\n",
    "\n",
    "# ML libraries\n",
    "from sklearn.linear_model import LinearRegression\n",
    "from sklearn.svm import SVR\n",
    "from sklearn.metrics import mean_squared_error, r2_score\n",
    "from sklearn.metrics import accuracy_score, f1_score, precision_score, recall_score\n",
    "from sklearn.linear_model import LogisticRegression\n",
    "from sklearn.model_selection import train_test_split\n",
    "from sklearn.preprocessing import PolynomialFeatures\n",
    "from sklearn.neighbors import KernelDensity\n",
    "\n",
    "# Math libraries\n",
    "from statistics import mean \n",
    "\n",
    "# Visualization libraries\n",
    "import matplotlib.pyplot as plt\n",
    "from sklearn.metrics import classification_report, confusion_matrix"
   ]
  },
  {
   "cell_type": "markdown",
   "id": "7f88e9fb",
   "metadata": {},
   "source": [
    "# Load Dataset"
   ]
  },
  {
   "cell_type": "code",
   "execution_count": 371,
   "id": "29ac6456",
   "metadata": {},
   "outputs": [],
   "source": [
    "sleep_data = pd.read_csv('./Data/processed_data_II.csv')"
   ]
  },
  {
   "cell_type": "markdown",
   "id": "ab3f0318",
   "metadata": {},
   "source": [
    "# Data Preprocessing"
   ]
  },
  {
   "cell_type": "code",
   "execution_count": 372,
   "id": "e95c5564",
   "metadata": {},
   "outputs": [],
   "source": [
    "def normalize_feature(feature_to_normalize, max_val, min_val) :\n",
    "    feature_length = len(feature_to_normalize)\n",
    "    normalized = []\n",
    "    for i in range(feature_length) :\n",
    "        normalized.append(((feature_to_normalize[i] - min_val) / (max_val - min_val)))\n",
    "    return normalized"
   ]
  },
  {
   "cell_type": "code",
   "execution_count": 373,
   "id": "27e6d58d",
   "metadata": {},
   "outputs": [],
   "source": [
    "# Removing unnamed column\n",
    "sleep_data = sleep_data.loc[:, ~sleep_data.columns.str.contains('^Unnamed')]"
   ]
  },
  {
   "cell_type": "code",
   "execution_count": 374,
   "id": "73b52600",
   "metadata": {},
   "outputs": [],
   "source": [
    "# Removing SEQN\n",
    "sleep_data = sleep_data.loc[:, ~sleep_data.columns.str.contains('SEQN')]"
   ]
  },
  {
   "cell_type": "code",
   "execution_count": 375,
   "id": "77f0c2eb",
   "metadata": {},
   "outputs": [],
   "source": [
    "# Rearrange columns\n",
    "new_cols = ['RIAGENDR', 'RIDAGEYR', 'SLQ040', 'SLQ050', 'DPQ020', 'DPQ030', 'DPQ040', 'BMXBMI',\n",
    "                      'DR1IMAGN', 'DR1IIRON', 'DR1ISFAT', 'DR1IPFAT', 'DR1IMFAT', \n",
    "                      'DR2IMAGN', 'DR2IIRON', 'DR2ISFAT', 'DR2IPFAT', 'DR2IMFAT',\n",
    "                      'SLD012', 'SLQ120', 'sleep_disorder']\n",
    "\n",
    "sleep_data = sleep_data[new_cols]\n",
    "\n",
    "# Normalize data\n",
    "maxList = sleep_data.max()\n",
    "minList = sleep_data.min()\n",
    "\n",
    "# Lists that store the normalized values\n",
    "RIAGENDR_norm = normalize_feature(sleep_data['RIAGENDR'].values.tolist(), maxList[0], minList[0])\n",
    "RIDAGEYR_norm = normalize_feature(sleep_data['RIDAGEYR'].values.tolist(), maxList[1], minList[1])\n",
    "SLQ040_norm = normalize_feature(sleep_data['SLQ040'].values.tolist(), maxList[2], minList[2])\n",
    "SLQ050_norm = normalize_feature(sleep_data['SLQ050'].values.tolist(), maxList[3], minList[3])\n",
    "\n",
    "DPQ020_norm = normalize_feature(sleep_data['DPQ020'].values.tolist(), maxList[4], minList[4])\n",
    "DPQ030_norm = normalize_feature(sleep_data['DPQ030'].values.tolist(), maxList[5], minList[5])\n",
    "DPQ040_norm = normalize_feature(sleep_data['DPQ040'].values.tolist(), maxList[6], minList[6])\n",
    "\n",
    "BMXBMI_norm = normalize_feature(sleep_data['BMXBMI'].values.tolist(), maxList[7], minList[7])\n",
    "\n",
    "DR1IMAGN_norm = normalize_feature(sleep_data['DR1IMAGN'].values.tolist(), maxList[8], minList[8])\n",
    "DR1IIRON_norm = normalize_feature(sleep_data['DR1IIRON'].values.tolist(), maxList[9], minList[9])\n",
    "\n",
    "DR1ISFAT_norm = normalize_feature(sleep_data['DR1ISFAT'].values.tolist(), maxList[10], minList[10])\n",
    "DR1IPFAT_norm = normalize_feature(sleep_data['DR1IPFAT'].values.tolist(), maxList[11], minList[11])\n",
    "DR1IMFAT_norm = normalize_feature(sleep_data['DR1IMFAT'].values.tolist(), maxList[12], minList[12])\n",
    "DR2IMAGN_norm = normalize_feature(sleep_data['DR2IMAGN'].values.tolist(), maxList[13], minList[13])\n",
    "\n",
    "DR2IIRON_norm = normalize_feature(sleep_data['DR2IIRON'].values.tolist(), maxList[14], minList[14])\n",
    "DR2ISFAT_norm = normalize_feature(sleep_data['DR2ISFAT'].values.tolist(), maxList[15], minList[15])\n",
    "DR2IPFAT_norm = normalize_feature(sleep_data['DR2IPFAT'].values.tolist(), maxList[16], minList[16])\n",
    "DR2IMFAT_norm = normalize_feature(sleep_data['DR2IMFAT'].values.tolist(), maxList[17], minList[17])\n",
    "\n",
    "SLD012_norm = normalize_feature(sleep_data['SLD012'].values.tolist(), maxList[18], minList[18])\n",
    "SLQ120_norm = normalize_feature(sleep_data['SLQ120'].values.tolist(), maxList[19], minList[19])\n",
    "\n",
    "sleep_disorder_norm = normalize_feature(sleep_data['sleep_disorder'].values.tolist(), maxList[20], minList[20])\n",
    "\n",
    "# Create a new dataframe with the normalized values\n",
    "normalized_features = {\n",
    "         'RIAGENDR': RIAGENDR_norm,\n",
    "         'RIDAGEYR': RIDAGEYR_norm, \n",
    "         'SLQ040': SLQ040_norm,\n",
    "         'SLQ050': SLQ050_norm,\n",
    "         'DPQ020': DPQ020_norm,\n",
    "         'DPQ030': DPQ030_norm,\n",
    "         'DPQ040': DPQ040_norm,\n",
    "         'BMXBMI': BMXBMI_norm,\n",
    "         'DR1IMAGN': DR1IMAGN_norm,\n",
    "         'DR1IIRON': DR1IIRON_norm, \n",
    "         'DR1ISFAT': DR1ISFAT_norm,\n",
    "         'DR1IPFAT': DR1IPFAT_norm,\n",
    "         'DR1IMFAT': DR1IMFAT_norm,\n",
    "         'DR2IMAGN': DR2IMAGN_norm,\n",
    "         'DR2IIRON': DR2IIRON_norm, \n",
    "         'DR2ISFAT': DR2ISFAT_norm,\n",
    "         'DR2IPFAT': DR2IPFAT_norm,\n",
    "         'DR2IMFAT': DR2IMFAT_norm,\n",
    "         'SLD012': SLD012_norm,\n",
    "         'SLQ120': SLQ120_norm,\n",
    "         'sleep_disorder': sleep_disorder_norm}"
   ]
  },
  {
   "cell_type": "code",
   "execution_count": 376,
   "id": "8e3e39dc",
   "metadata": {},
   "outputs": [],
   "source": [
    "# Convert dictionary into dataframe\n",
    "norm_df = pd.DataFrame.from_dict(normalized_features)"
   ]
  },
  {
   "cell_type": "code",
   "execution_count": 377,
   "id": "2e1ed987",
   "metadata": {},
   "outputs": [],
   "source": [
    "# Drop columns that are already hot encoded, or not helpful\n",
    "norm_df = norm_df.drop(columns=['RIAGENDR', 'SLQ040', 'SLQ050', 'DPQ030'])"
   ]
  },
  {
   "cell_type": "code",
   "execution_count": 378,
   "id": "41e958ac",
   "metadata": {},
   "outputs": [
    {
     "name": "stdout",
     "output_type": "stream",
     "text": [
      "Index(['RIDAGEYR', 'DPQ020', 'DPQ040', 'BMXBMI', 'DR1IMAGN', 'DR1IIRON',\n",
      "       'DR1ISFAT', 'DR1IPFAT', 'DR1IMFAT', 'DR2IMAGN', 'DR2IIRON', 'DR2ISFAT',\n",
      "       'DR2IPFAT', 'DR2IMFAT', 'SLD012', 'SLQ120', 'sleep_disorder'],\n",
      "      dtype='object')\n"
     ]
    }
   ],
   "source": [
    "print(norm_df.columns)"
   ]
  },
  {
   "cell_type": "markdown",
   "id": "f9903a13",
   "metadata": {},
   "source": [
    "#  Investigating potiential non linear relationships via basis function"
   ]
  },
  {
   "cell_type": "markdown",
   "id": "7359d706",
   "metadata": {},
   "source": [
    "Basis functions work in tangent with regression models. That means that the outputs are continues variables. We are a classification model, so we have a binary label. Which means we cannot use our label when computing R^2. An alternative solution is to investigate potiential non linear relationships between feature variables to get a better sense at how the variable interact with each other. "
   ]
  },
  {
   "cell_type": "code",
   "execution_count": 379,
   "id": "27b9ee1c",
   "metadata": {},
   "outputs": [
    {
     "name": "stdout",
     "output_type": "stream",
     "text": [
      "Index(['BMXBMI', 'SLD012'], dtype='object')\n"
     ]
    }
   ],
   "source": [
    "invest_cols = ['BMXBMI', 'SLD012']\n",
    "\n",
    "invest_data = norm_df[invest_cols]\n",
    "print(invest_data.columns)"
   ]
  },
  {
   "cell_type": "code",
   "execution_count": 404,
   "id": "1167da3d",
   "metadata": {},
   "outputs": [],
   "source": [
    "# All feature data\n",
    "features = invest_data.iloc[:,:-1]\n",
    "# All label data\n",
    "labels = invest_data.iloc[:,-1:]\n",
    "\n",
    "# Using the remaining training records, split into validation, slightly larger split to make it comparable to test size\n",
    "og_feature_train, feature_val, og_label_train, label_val = train_test_split(features, labels, test_size=0.1)\n"
   ]
  },
  {
   "cell_type": "code",
   "execution_count": 381,
   "id": "d8757846",
   "metadata": {},
   "outputs": [
    {
     "data": {
      "image/png": "[encoded data removed]",
      "text/plain": [
       "<Figure size 432x288 with 1 Axes>"
      ]
     },
     "metadata": {
      "needs_background": "light"
     },
     "output_type": "display_data"
    }
   ],
   "source": [
    "plt.scatter(og_feature_train, og_label_train, s = 10)\n",
    "plt.show()"
   ]
  },
  {
   "cell_type": "markdown",
   "id": "00efbf35",
   "metadata": {},
   "source": [
    "Generally, the reason why our model struggles is because it appears the features don't have much association with each other. They are all relatively independent."
   ]
  },
  {
   "cell_type": "code",
   "execution_count": 132,
   "id": "df28e3d6",
   "metadata": {},
   "outputs": [
    {
     "name": "stdout",
     "output_type": "stream",
     "text": [
      "Mean squared error:  0.02221696246023245\n",
      "Coefficient of determination:  0.015454493128627678\n"
     ]
    }
   ],
   "source": [
    "# Create linear regression object\n",
    "regr = LinearRegression()\n",
    "\n",
    "# Train the model using the training sets\n",
    "regr.fit(og_feature_train, og_label_train)\n",
    "\n",
    "# Make predictions using the testing set\n",
    "y_pred = regr.predict(feature_val)\n",
    "\n",
    "# The mean squared error\n",
    "print('Mean squared error: ', mean_squared_error(label_val, y_pred))\n",
    "# The coefficient of determination: 1 is perfect prediction\n",
    "print('Coefficient of determination: ', r2_score(label_val, y_pred))"
   ]
  },
  {
   "cell_type": "markdown",
   "id": "376d5a70",
   "metadata": {},
   "source": [
    "There is definitely is a nonlinear relationship between the features and the labels. "
   ]
  },
  {
   "cell_type": "code",
   "execution_count": 133,
   "id": "0eebec67",
   "metadata": {},
   "outputs": [
    {
     "name": "stdout",
     "output_type": "stream",
     "text": [
      "Mean squared error:  0.023848684210526317\n",
      "Coefficient of determination:  -0.05685531612597683\n"
     ]
    }
   ],
   "source": [
    "# Fit a non-liner model using SVR()\n",
    "\n",
    "# We are going to use radial basis function\n",
    "rbf_model = SVR(kernel = 'rbf', C=100, epsilon=1)\n",
    "rbf_model.fit(og_feature_train, og_label_train.values.ravel())\n",
    "\n",
    "# Make predictions using the testing set\n",
    "y_pred = rbf_model.predict(feature_val)\n",
    "\n",
    "# The mean squared error\n",
    "print('Mean squared error: ', mean_squared_error(label_val, y_pred))\n",
    "# The coefficient of determination: 1 is perfect prediction\n",
    "print('Coefficient of determination: ', r2_score(label_val, y_pred))"
   ]
  },
  {
   "cell_type": "markdown",
   "id": "4e7779c8",
   "metadata": {},
   "source": [
    "# Train - Validation Split"
   ]
  },
  {
   "cell_type": "code",
   "execution_count": 437,
   "id": "4fe075ce",
   "metadata": {},
   "outputs": [
    {
     "name": "stdout",
     "output_type": "stream",
     "text": [
      "Index(['RIDAGEYR', 'DPQ020', 'DPQ040', 'BMXBMI', 'DR1IMAGN', 'DR1IIRON',\n",
      "       'DR1ISFAT', 'DR1IPFAT', 'DR1IMFAT', 'DR2IMAGN', 'DR2IIRON', 'DR2ISFAT',\n",
      "       'DR2IPFAT', 'DR2IMFAT', 'SLD012', 'SLQ120'],\n",
      "      dtype='object')\n"
     ]
    }
   ],
   "source": [
    "# All feature data\n",
    "features = norm_df.iloc[:,:-1]\n",
    "# All label data\n",
    "labels = norm_df.iloc[:,-1:]\n",
    "\n",
    "# Using the remaining training records, split into validation, slightly larger split to make it comparable to test size\n",
    "og_feature_train, feature_val, og_label_train, label_val = train_test_split(features, labels, test_size=0.1)\n",
    "feature_train_dump, feature_test, label_train_dump, label_test = train_test_split(og_feature_train, og_label_train, test_size=0.1)\n",
    "# In the end, we get 3 groups:\n",
    "\n",
    "print(og_feature_train.columns)\n",
    "\n",
    "# feature_train\n",
    "# label_train\n",
    "\n",
    "# feature_test\n",
    "# label_test\n",
    "\n",
    "# feature_validation\n",
    "# label_validation"
   ]
  },
  {
   "cell_type": "markdown",
   "id": "a662beff",
   "metadata": {},
   "source": [
    "# Density Estimation Removal (Rank Removal)"
   ]
  },
  {
   "cell_type": "code",
   "execution_count": 438,
   "id": "62fe0efc",
   "metadata": {},
   "outputs": [],
   "source": [
    "def rank_removal(x_train, y_train, feature_col, y_col, rank_threshold) :\n",
    "    '''\n",
    "        :param x_train: the np array of learning data\n",
    "        :param y_train: the np array of labels for learning data\n",
    "        :param feature_col: actual column names []\n",
    "        :param y_col: the label column\n",
    "        :param rank_threshold: the percentage of data we want to drop (like 0.30 to keep the top 70% of the data)\n",
    "        :returns x_train_df, y_train_df, x_train, y_train, rows_to_drop: returns the dataframe versions of the remaining rows after removal, as well as the indicies of the rows dropped\n",
    "    '''\n",
    "    # Convert to 2d tabular data\n",
    "    x_train_df = pd.DataFrame(x_train, columns = feature_col)\n",
    "    y_train_df = pd.DataFrame(y_train, columns = [y_col])\n",
    "    \n",
    "    # Fit the data for the kernel\n",
    "    kde = KernelDensity(kernel='gaussian', bandwidth=0.2).fit(x_train_df)\n",
    "    # Caculate the probability density \n",
    "    logprob = kde.score_samples(x_train_df)\n",
    "\n",
    "    # Drop the bottom k%, keeping the top k%\n",
    "    perc = rank_threshold\n",
    "    perc = int(len(logprob) * perc)\n",
    "\n",
    "    print('Drop Bottom ' + str(rank_threshold * 100) + '%')\n",
    "    rows_to_drop = np.argpartition(logprob, perc)[:perc]\n",
    "    print('Number of rows dropped: ', str(len(rows_to_drop)))\n",
    "    \n",
    "    x_train_df = x_train_df.drop(rows_to_drop, axis=0)\n",
    "    y_train_df = y_train_df.drop(rows_to_drop, axis=0)\n",
    "    \n",
    "    return x_train_df, y_train_df, rows_to_drop"
   ]
  },
  {
   "cell_type": "code",
   "execution_count": 439,
   "id": "d1ad980c",
   "metadata": {},
   "outputs": [],
   "source": [
    "feature_col = ['RIDAGEYR', 'DPQ020', 'DPQ040', 'BMXBMI', 'DR1IMAGN', 'DR1IIRON', 'DR1ISFAT',\n",
    "               'DR1IPFAT', 'DR1IMFAT', 'DR2IMAGN', 'DR2IIRON', 'DR2ISFAT', 'DR2IPFAT',\n",
    "               'DR2IMFAT', 'SLD012', 'SLQ120']\n",
    "y_col = ['sleep_disorder']"
   ]
  },
  {
   "cell_type": "code",
   "execution_count": 440,
   "id": "a2a94e1b",
   "metadata": {},
   "outputs": [
    {
     "name": "stdout",
     "output_type": "stream",
     "text": [
      "Drop Bottom 20.0%\n",
      "Number of rows dropped:  60\n",
      "Drop Bottom 50.0%\n",
      "Number of rows dropped:  359\n"
     ]
    },
    {
     "name": "stderr",
     "output_type": "stream",
     "text": [
      "/var/folders/9y/397btn495pd3_pbvzx814v7m0000gn/T/ipykernel_19847/2159240313.py:22: FutureWarning: The frame.append method is deprecated and will be removed from pandas in a future version. Use pandas.concat instead.\n",
      "  feature_train = feature_train_maj.append(feature_train_min, ignore_index=True)\n",
      "/var/folders/9y/397btn495pd3_pbvzx814v7m0000gn/T/ipykernel_19847/2159240313.py:23: FutureWarning: The frame.append method is deprecated and will be removed from pandas in a future version. Use pandas.concat instead.\n",
      "  label_train = label_train_maj.append(label_train_min, ignore_index=True)\n"
     ]
    }
   ],
   "source": [
    "maj_rank_threshold = 0.50\n",
    "min_rank_threshold = 0.20\n",
    "\n",
    "temp1 = og_feature_train.copy()\n",
    "temp1['sleep_disorder'] = og_label_train\n",
    "temp_neg = temp1[temp1['sleep_disorder'] == 0]\n",
    "temp_pos = temp1[temp1['sleep_disorder'] == 1]\n",
    "\n",
    "#print(len(og_feature_train))\n",
    "#print(len(temp_neg))\n",
    "#print(len(temp_pos))\n",
    "\n",
    "# KDE on each class\n",
    "feature_train_maj, label_train_maj, rows_dropped_maj = rank_removal(np.array(temp_neg.iloc[:,:-1]), \n",
    "                                                                    np.array(og_label_train[og_label_train['sleep_disorder'] == 0.0]), \n",
    "                                                                    feature_col, y_col, min_rank_threshold)\n",
    "feature_train_min, label_train_min, rows_dropped_min = rank_removal(np.array(temp_pos.iloc[:,:-1]), \n",
    "                                                                    np.array(og_label_train[og_label_train['sleep_disorder'] == 1.0]), \n",
    "                                                                    feature_col, y_col, maj_rank_threshold)\n",
    "\n",
    "# Combine the classes in both feature and label df\n",
    "feature_train = feature_train_maj.append(feature_train_min, ignore_index=True)\n",
    "label_train = label_train_maj.append(label_train_min, ignore_index=True)\n",
    "\n",
    "# Add the label to the feaure df\n",
    "feature_train['sleep_disorder'] = label_train\n",
    "\n",
    "# Shuffle\n",
    "feature_train = feature_train.sample(frac=1)\n",
    "\n",
    "# Separate feature and label df, get the label column first\n",
    "label_train = feature_train.iloc[:,-1:]\n",
    "feature_train = feature_train.iloc[:,:-1]"
   ]
  },
  {
   "cell_type": "markdown",
   "id": "fe0ebb06",
   "metadata": {},
   "source": [
    "# Hyperparameter Tuning"
   ]
  },
  {
   "cell_type": "code",
   "execution_count": 441,
   "id": "a3b6491e",
   "metadata": {},
   "outputs": [],
   "source": [
    "accuracy_list = []\n",
    "precision_list = []\n",
    "recall_list = []\n",
    "f1_list = []\n",
    "c_range = np.geomspace(start=0.001, stop=20, num=100)\n",
    "\n",
    "for c in c_range:\n",
    "    # Hyperparameter is the number of regularization strength (C), l2 by default\n",
    "    model = LogisticRegression(solver='liblinear', C=c, random_state=0)\n",
    "    \n",
    "    # Learn the model over the training data\n",
    "    model.fit(feature_train, label_train.values.ravel())\n",
    "\n",
    "    # Predict labels over the validation data\n",
    "    model.predict(feature_val)\n",
    "    \n",
    "    #print(label_val.head(1))\n",
    "    #print(model.predict(feature_val))\n",
    "\n",
    "    # Evaluate accuracy over the validation data\n",
    "    accuracy_list.append(accuracy_score(label_val, model.predict(feature_val)))\n",
    "    precision_list.append(precision_score(label_val, model.predict(feature_val)))\n",
    "    recall_list.append(recall_score(label_val, model.predict(feature_val)))\n",
    "    f1_list.append(f1_score(label_val, model.predict(feature_val)))"
   ]
  },
  {
   "cell_type": "code",
   "execution_count": 442,
   "id": "9cf29f96",
   "metadata": {},
   "outputs": [
    {
     "data": {
      "image/png": "[encoded data removed]",
      "text/plain": [
       "<Figure size 432x288 with 1 Axes>"
      ]
     },
     "metadata": {
      "needs_background": "light"
     },
     "output_type": "display_data"
    }
   ],
   "source": [
    "plt.scatter(c_range, accuracy_list, s = 5)\n",
    "\n",
    "plt.title('Regularization Strength vs Accuracy')\n",
    "plt.xlabel('Regularization Strength')\n",
    "plt.ylabel('Accuracy')\n",
    "plt.ylim(0.5, 0.9)\n",
    "\n",
    "\n",
    "plt.show()"
   ]
  },
  {
   "cell_type": "code",
   "execution_count": 443,
   "id": "c546fae8",
   "metadata": {},
   "outputs": [
    {
     "data": {
      "text/plain": [
       "(0.5, 0.9)"
      ]
     },
     "execution_count": 443,
     "metadata": {},
     "output_type": "execute_result"
    },
    {
     "data": {
      "image/png": "[encoded data removed]",
      "text/plain": [
       "<Figure size 432x288 with 1 Axes>"
      ]
     },
     "metadata": {
      "needs_background": "light"
     },
     "output_type": "display_data"
    }
   ],
   "source": [
    "plt.scatter(c_range, precision_list, s=5)\n",
    "plt.title('Regularization Strength vs Precision')\n",
    "plt.xlabel('Regularization Strength')\n",
    "plt.ylabel('Precision')\n",
    "plt.ylim(0.5, 0.9)"
   ]
  },
  {
   "cell_type": "code",
   "execution_count": 444,
   "id": "e9d37871",
   "metadata": {},
   "outputs": [
    {
     "data": {
      "text/plain": [
       "(0.5, 0.9)"
      ]
     },
     "execution_count": 444,
     "metadata": {},
     "output_type": "execute_result"
    },
    {
     "data": {
      "image/png": "[encoded data removed]",
      "text/plain": [
       "<Figure size 432x288 with 1 Axes>"
      ]
     },
     "metadata": {
      "needs_background": "light"
     },
     "output_type": "display_data"
    }
   ],
   "source": [
    "plt.scatter(c_range, recall_list, s=5)\n",
    "plt.title('Regularization Strength vs Recall')\n",
    "plt.xlabel('Regularization Strength')\n",
    "plt.ylabel('Recall')\n",
    "plt.ylim(0.5, 0.9)"
   ]
  },
  {
   "cell_type": "code",
   "execution_count": 445,
   "id": "9a290d2c",
   "metadata": {},
   "outputs": [
    {
     "data": {
      "text/plain": [
       "(0.5, 0.9)"
      ]
     },
     "execution_count": 445,
     "metadata": {},
     "output_type": "execute_result"
    },
    {
     "data": {
      "image/png": "[encoded data removed]",
      "text/plain": [
       "<Figure size 432x288 with 1 Axes>"
      ]
     },
     "metadata": {
      "needs_background": "light"
     },
     "output_type": "display_data"
    }
   ],
   "source": [
    "plt.scatter(c_range, f1_list, s=5)\n",
    "plt.title('Regularization Strength vs F1 Score')\n",
    "plt.xlabel('Regularization Strength')\n",
    "plt.ylabel('F1 Score')\n",
    "plt.ylim(0.5, 0.9)"
   ]
  },
  {
   "cell_type": "code",
   "execution_count": 446,
   "id": "e168c805",
   "metadata": {},
   "outputs": [],
   "source": [
    "best_accuracy = max(accuracy_list)\n",
    "best_accuracy_index = accuracy_list.index(best_accuracy)\n",
    "best_c = c_range[best_accuracy_index]"
   ]
  },
  {
   "cell_type": "code",
   "execution_count": 447,
   "id": "817d6aea",
   "metadata": {},
   "outputs": [
    {
     "name": "stdout",
     "output_type": "stream",
     "text": [
      "Best Accuracy:  0.7894736842105263\n",
      "Best regularization value 0.12171605749635298\n"
     ]
    }
   ],
   "source": [
    "print('Best Accuracy: ', best_accuracy)\n",
    "print('Best regularization value', best_c)"
   ]
  },
  {
   "cell_type": "markdown",
   "id": "0ac99435",
   "metadata": {},
   "source": [
    "# Logistic Regression"
   ]
  },
  {
   "cell_type": "code",
   "execution_count": null,
   "id": "4bb48890",
   "metadata": {},
   "outputs": [],
   "source": []
  },
  {
   "cell_type": "code",
   "execution_count": 448,
   "id": "5ee66a98",
   "metadata": {},
   "outputs": [
    {
     "data": {
      "text/plain": [
       "array([1., 1., 1., 0., 1., 1., 1., 1., 0., 1., 1., 1., 1., 1., 1., 1., 1.,\n",
       "       1., 1., 1., 1., 1., 1., 1., 1., 1., 1., 1., 1., 1., 1., 1., 1., 1.,\n",
       "       1., 1., 1., 0., 0., 1., 0., 1., 1., 0., 1., 0., 1., 1., 1., 1., 1.,\n",
       "       1., 1., 1., 0., 1., 1., 1., 1., 1., 0., 0., 1., 1., 1., 1., 1., 1.,\n",
       "       1., 0., 1., 1., 0., 1., 1., 1., 1., 1., 1., 1., 1., 0., 1., 1., 1.,\n",
       "       1., 1., 1., 0., 1., 0., 1., 1., 1., 1., 1., 1., 1., 1., 1., 1., 0.,\n",
       "       1.])"
      ]
     },
     "execution_count": 448,
     "metadata": {},
     "output_type": "execute_result"
    }
   ],
   "source": [
    "# Hyperparameter is the number of regularization strength (C), l2 by default\n",
    "model = LogisticRegression(solver='liblinear', C=best_c, random_state=0)\n",
    "\n",
    "# Learn the model over the training data\n",
    "model.fit(feature_train, label_train.values.ravel())\n",
    "\n",
    "# Predict labels over the testing data\n",
    "model.predict(feature_test)"
   ]
  },
  {
   "cell_type": "markdown",
   "id": "412702f1",
   "metadata": {},
   "source": [
    "# Interpret Results"
   ]
  },
  {
   "cell_type": "code",
   "execution_count": 449,
   "id": "3497c96b",
   "metadata": {},
   "outputs": [
    {
     "data": {
      "image/png": "[encoded data removed]",
      "text/plain": [
       "<Figure size 576x576 with 1 Axes>"
      ]
     },
     "metadata": {
      "needs_background": "light"
     },
     "output_type": "display_data"
    }
   ],
   "source": [
    "cm = confusion_matrix(label_test, model.predict(feature_test))\n",
    "fig, ax = plt.subplots(figsize=(8, 8))\n",
    "ax.imshow(cm)\n",
    "ax.grid(False)\n",
    "ax.xaxis.set(ticks=(0, 1), ticklabels=('Predicted Negative Sleep Disorder ', 'Predicted Positive Sleep Disorder'))\n",
    "ax.yaxis.set(ticks=(0, 1), ticklabels=('Actual Negative Sleep Disorder', 'Actual Positive Sleep Disorder'))\n",
    "ax.set_ylim(1.5, -0.5)\n",
    "for i in range(2):\n",
    "    for j in range(2):\n",
    "        ax.text(j, i, cm[i, j], ha='center', va='center', color='red')\n",
    "plt.show()"
   ]
  },
  {
   "cell_type": "code",
   "execution_count": 450,
   "id": "b4e56de2",
   "metadata": {},
   "outputs": [
    {
     "name": "stdout",
     "output_type": "stream",
     "text": [
      "              precision    recall  f1-score   support\n",
      "\n",
      "         0.0       0.50      0.26      0.34        31\n",
      "         1.0       0.74      0.89      0.81        72\n",
      "\n",
      "    accuracy                           0.70       103\n",
      "   macro avg       0.62      0.57      0.57       103\n",
      "weighted avg       0.66      0.70      0.67       103\n",
      "\n"
     ]
    }
   ],
   "source": [
    "print(classification_report(label_test, model.predict(feature_test)))"
   ]
  },
  {
   "cell_type": "markdown",
   "id": "a304b731",
   "metadata": {},
   "source": [
    "# Driver (to run entire experiment over k iterations, if needed)"
   ]
  },
  {
   "cell_type": "code",
   "execution_count": 451,
   "id": "f7bce041",
   "metadata": {},
   "outputs": [],
   "source": [
    "avg_acc = []\n",
    "\n",
    "avg_prec_maj = []\n",
    "avg_recall_maj = []\n",
    "avg_f1_maj = []\n",
    "\n",
    "avg_prec_min = []\n",
    "avg_recall_min = []\n",
    "avg_f1_min = []\n",
    "\n",
    "for i in range (50) :\n",
    "    feature_train_dump, feature_test, label_train_dump, label_test = train_test_split(og_feature_train, og_label_train, test_size=0.1)\n",
    "\n",
    "    # Hyperparameter is the number of regularization strength (C), l2 by default\n",
    "    model = LogisticRegression(solver='liblinear', C=best_c, random_state=0)\n",
    "\n",
    "    # Learn the model over the training data\n",
    "    model.fit(feature_train, label_train.values.ravel())\n",
    "\n",
    "    # Predict labels over the testing data\n",
    "    model.predict(feature_test)\n",
    "\n",
    "    report = classification_report(label_test, model.predict(feature_test), output_dict=True)\n",
    "    \n",
    "    # Evaluate accuracy over the testing data\n",
    "    avg_acc.append(report['accuracy'])\n",
    "    \n",
    "    \n",
    "    maj_precision = report['1.0']['precision'] \n",
    "    maj_recall = report['1.0']['recall']    \n",
    "    maj_f1 = report['1.0']['f1-score']\n",
    "    \n",
    "    min_precision = report['0.0']['precision'] \n",
    "    min_recall = report['0.0']['recall']    \n",
    "    min_f1 = report['0.0']['f1-score']\n",
    "    \n",
    "    avg_prec_maj.append(maj_precision)\n",
    "    avg_recall_maj.append(maj_recall)\n",
    "    avg_f1_maj.append(maj_f1)\n",
    "    \n",
    "    avg_prec_min.append(min_precision)\n",
    "    avg_recall_min.append(min_recall)\n",
    "    avg_f1_min.append(min_f1)\n",
    "    "
   ]
  },
  {
   "cell_type": "code",
   "execution_count": 452,
   "id": "d9ea0b1e",
   "metadata": {},
   "outputs": [
    {
     "name": "stdout",
     "output_type": "stream",
     "text": [
      "0.6974757281553399\n",
      "0.7450268588905877\n",
      "0.8606788889572108\n",
      "0.7973956117522338\n",
      "0.5111734411719807\n",
      "0.33055807247160474\n",
      "0.39639066162089936\n"
     ]
    }
   ],
   "source": [
    "print(mean(avg_acc))\n",
    "print(mean(avg_prec_maj))\n",
    "print(mean(avg_recall_maj))\n",
    "print(mean(avg_f1_maj))\n",
    "print(mean(avg_prec_min))\n",
    "print(mean(avg_recall_min))\n",
    "print(mean(avg_f1_min))"
   ]
  },
  {
   "cell_type": "code",
   "execution_count": 453,
   "id": "6c99be76",
   "metadata": {},
   "outputs": [
    {
     "data": {
      "image/png": "[encoded data removed]",
      "text/plain": [
       "<Figure size 432x288 with 1 Axes>"
      ]
     },
     "metadata": {
      "needs_background": "light"
     },
     "output_type": "display_data"
    }
   ],
   "source": [
    "# Saved mean metrics from i = 20 iterations above\n",
    "X = ['Precision','Recall','F1 Score'] \n",
    "majority = [mean(avg_prec_maj), mean(avg_recall_maj), mean(avg_f1_maj)] \n",
    "minority = [mean(avg_prec_min), mean(avg_recall_min), mean(avg_f1_min)] \n",
    "  \n",
    "X_axis = np.arange(len(X)) \n",
    "  \n",
    "plt.bar(X_axis - 0.2, majority, 0.4, label = 'Sleep Disorder') \n",
    "plt.bar(X_axis + 0.2, minority, 0.4, label = 'No Sleep Disorder') \n",
    "  \n",
    "plt.xticks(X_axis, X) \n",
    "plt.ylabel('Percentage') \n",
    "plt.title('Evaluation Metrics by Class') \n",
    "plt.legend(bbox_to_anchor=(1.02, 1), loc='upper left', borderaxespad=0) \n",
    "plt.ylim(0,1)\n",
    "plt.show() "
   ]
  },
  {
   "cell_type": "code",
   "execution_count": null,
   "id": "7c720128",
   "metadata": {},
   "outputs": [],
   "source": []
  },
  {
   "cell_type": "code",
   "execution_count": null,
   "id": "cf8c755d",
   "metadata": {},
   "outputs": [],
   "source": []
  }
 ],
 "metadata": {
  "kernelspec": {
   "display_name": "Python 3 (ipykernel)",
   "language": "python",
   "name": "python3"
  },
  "language_info": {
   "codemirror_mode": {
    "name": "ipython",
    "version": 3
   },
   "file_extension": ".py",
   "mimetype": "text/x-python",
   "name": "python",
   "nbconvert_exporter": "python",
   "pygments_lexer": "ipython3",
   "version": "3.9.12"
  }
 },
 "nbformat": 4,
 "nbformat_minor": 5
}
