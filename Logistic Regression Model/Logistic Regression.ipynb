{
 "cells": [
  {
   "cell_type": "markdown",
   "id": "0263d0bb",
   "metadata": {},
   "source": [
    "# Import "
   ]
  },
  {
   "cell_type": "code",
   "execution_count": 573,
   "id": "9c7d3bc7",
   "metadata": {},
   "outputs": [],
   "source": [
    "# Data structure libraries\n",
    "import pandas as pd\n",
    "import numpy as np\n",
    "\n",
    "# ML libraries\n",
    "from sklearn.linear_model import LogisticRegression\n",
    "from sklearn.model_selection import train_test_split\n",
    "from sklearn.preprocessing import PolynomialFeatures\n",
    "from sklearn.neighbors import KernelDensity\n",
    "\n",
    "# Math libraries\n",
    "from statistics import mean \n",
    "\n",
    "# Visualization libraries\n",
    "import matplotlib.pyplot as plt\n",
    "from sklearn.metrics import classification_report, confusion_matrix"
   ]
  },
  {
   "cell_type": "markdown",
   "id": "7f88e9fb",
   "metadata": {},
   "source": [
    "# Load Dataset"
   ]
  },
  {
   "cell_type": "code",
   "execution_count": 667,
   "id": "29ac6456",
   "metadata": {},
   "outputs": [],
   "source": [
    "sleep_data = pd.read_csv('./Data/processed_data.csv')"
   ]
  },
  {
   "cell_type": "markdown",
   "id": "ab3f0318",
   "metadata": {},
   "source": [
    "# Data Preprocessing"
   ]
  },
  {
   "cell_type": "code",
   "execution_count": 668,
   "id": "a97d6188",
   "metadata": {},
   "outputs": [],
   "source": [
    "def normalize_feature(feature_to_normalize, max_val, min_val) :\n",
    "    feature_length = len(feature_to_normalize)\n",
    "    normalized = []\n",
    "    for i in range(feature_length) :\n",
    "        normalized.append(((feature_to_normalize[i] - min_val) / (max_val - min_val)))\n",
    "    return normalized"
   ]
  },
  {
   "cell_type": "code",
   "execution_count": 669,
   "id": "27e6d58d",
   "metadata": {},
   "outputs": [],
   "source": [
    "# Removing unnamed column\n",
    "sleep_data = sleep_data.loc[:, ~sleep_data.columns.str.contains('^Unnamed')]"
   ]
  },
  {
   "cell_type": "code",
   "execution_count": 670,
   "id": "ce98f1a4",
   "metadata": {},
   "outputs": [],
   "source": [
    "# Removing SEQN\n",
    "sleep_data = sleep_data.loc[:, ~sleep_data.columns.str.contains('SEQN')]"
   ]
  },
  {
   "cell_type": "code",
   "execution_count": 671,
   "id": "c7cd352c",
   "metadata": {},
   "outputs": [],
   "source": [
    "# Rearrange columns\n",
    "new_cols = ['RIAGENDR', 'RIDAGEYR', 'SLQ040', 'SLQ050', 'DPQ020', 'DPQ030', 'DPQ040', 'BMXBMI',\n",
    "                      'DR1IMAGN', 'DR1IIRON', 'DR1ISFAT', 'DR1IPFAT', 'DR1IMFAT', \n",
    "                      'DR2IMAGN', 'DR2IIRON', 'DR2ISFAT', 'DR2IPFAT', 'DR2IMFAT',\n",
    "                      'SLD012', 'SLQ120', 'sleep_disorder']\n",
    "\n",
    "sleep_data = sleep_data[new_cols]\n",
    "\n",
    "# Normalize data\n",
    "maxList = sleep_data.max()\n",
    "minList = sleep_data.min()\n",
    "\n",
    "# Lists that store the normalized values\n",
    "RIAGENDR_norm = normalize_feature(sleep_data['RIAGENDR'].values.tolist(), maxList[0], minList[0])\n",
    "RIDAGEYR_norm = normalize_feature(sleep_data['RIDAGEYR'].values.tolist(), maxList[1], minList[1])\n",
    "SLQ040_norm = normalize_feature(sleep_data['SLQ040'].values.tolist(), maxList[2], minList[2])\n",
    "SLQ050_norm = normalize_feature(sleep_data['SLQ050'].values.tolist(), maxList[3], minList[3])\n",
    "\n",
    "DPQ020_norm = normalize_feature(sleep_data['DPQ020'].values.tolist(), maxList[4], minList[4])\n",
    "DPQ030_norm = normalize_feature(sleep_data['DPQ030'].values.tolist(), maxList[5], minList[5])\n",
    "DPQ040_norm = normalize_feature(sleep_data['DPQ040'].values.tolist(), maxList[6], minList[6])\n",
    "\n",
    "BMXBMI_norm = normalize_feature(sleep_data['BMXBMI'].values.tolist(), maxList[7], minList[7])\n",
    "\n",
    "DR1IMAGN_norm = normalize_feature(sleep_data['DR1IMAGN'].values.tolist(), maxList[8], minList[8])\n",
    "DR1IIRON_norm = normalize_feature(sleep_data['DR1IIRON'].values.tolist(), maxList[9], minList[9])\n",
    "\n",
    "DR1ISFAT_norm = normalize_feature(sleep_data['DR1ISFAT'].values.tolist(), maxList[10], minList[10])\n",
    "DR1IPFAT_norm = normalize_feature(sleep_data['DR1IPFAT'].values.tolist(), maxList[11], minList[11])\n",
    "DR1IMFAT_norm = normalize_feature(sleep_data['DR1IMFAT'].values.tolist(), maxList[12], minList[12])\n",
    "DR2IMAGN_norm = normalize_feature(sleep_data['DR2IMAGN'].values.tolist(), maxList[13], minList[13])\n",
    "\n",
    "DR2IIRON_norm = normalize_feature(sleep_data['DR2IIRON'].values.tolist(), maxList[14], minList[14])\n",
    "DR2ISFAT_norm = normalize_feature(sleep_data['DR2ISFAT'].values.tolist(), maxList[15], minList[15])\n",
    "DR2IPFAT_norm = normalize_feature(sleep_data['DR2IPFAT'].values.tolist(), maxList[16], minList[16])\n",
    "DR2IMFAT_norm = normalize_feature(sleep_data['DR2IMFAT'].values.tolist(), maxList[17], minList[17])\n",
    "\n",
    "SLD012_norm = normalize_feature(sleep_data['SLD012'].values.tolist(), maxList[18], minList[18])\n",
    "SLQ120_norm = normalize_feature(sleep_data['SLQ120'].values.tolist(), maxList[19], minList[19])\n",
    "\n",
    "sleep_disorder_norm = normalize_feature(sleep_data['sleep_disorder'].values.tolist(), maxList[20], minList[20])\n",
    "\n",
    "# Create a new dataframe with the normalized values\n",
    "normalized_features = {\n",
    "         'RIAGENDR': RIAGENDR_norm,\n",
    "         'RIDAGEYR': RIDAGEYR_norm, \n",
    "         'SLQ040': SLQ040_norm,\n",
    "         'SLQ050': SLQ050_norm,\n",
    "         'DPQ020': DPQ020_norm,\n",
    "         'DPQ030': DPQ030_norm,\n",
    "         'DPQ040': DPQ040_norm,\n",
    "         'BMXBMI': BMXBMI_norm,\n",
    "         'DR1IMAGN': DR1IMAGN_norm,\n",
    "         'DR1IIRON': DR1IIRON_norm, \n",
    "         'DR1ISFAT': DR1ISFAT_norm,\n",
    "         'DR1IPFAT': DR1IPFAT_norm,\n",
    "         'DR1IMFAT': DR1IMFAT_norm,\n",
    "         'DR2IMAGN': DR2IMAGN_norm,\n",
    "         'DR2IIRON': DR2IIRON_norm, \n",
    "         'DR2ISFAT': DR2ISFAT_norm,\n",
    "         'DR2IPFAT': DR2IPFAT_norm,\n",
    "         'DR2IMFAT': DR2IMFAT_norm,\n",
    "         'SLD012': SLD012_norm,\n",
    "         'SLQ120': SLQ120_norm,\n",
    "         'sleep_disorder': sleep_disorder_norm}"
   ]
  },
  {
   "cell_type": "code",
   "execution_count": 672,
   "id": "da26426e",
   "metadata": {},
   "outputs": [],
   "source": [
    "# Convert dictionary into dataframe\n",
    "norm_df = pd.DataFrame.from_dict(normalized_features)"
   ]
  },
  {
   "cell_type": "code",
   "execution_count": 673,
   "id": "24de3e3d",
   "metadata": {},
   "outputs": [],
   "source": [
    "# Drop columns that are already hot encoded, or not helpful\n",
    "norm_df = norm_df.drop(columns=['RIAGENDR', 'SLQ040', 'SLQ050'])"
   ]
  },
  {
   "cell_type": "code",
   "execution_count": 674,
   "id": "efc8141b",
   "metadata": {},
   "outputs": [
    {
     "name": "stdout",
     "output_type": "stream",
     "text": [
      "805\n"
     ]
    }
   ],
   "source": [
    "print(len(norm_df[norm_df['sleep_disorder'] == 1.0]))"
   ]
  },
  {
   "cell_type": "markdown",
   "id": "394e5df0",
   "metadata": {},
   "source": [
    "# Train - Validation Split"
   ]
  },
  {
   "cell_type": "code",
   "execution_count": 675,
   "id": "8646d3da",
   "metadata": {},
   "outputs": [],
   "source": [
    "# All feature data\n",
    "features = norm_df.iloc[:,:-1]\n",
    "# All label data\n",
    "labels = norm_df.iloc[:,-1:]\n",
    "\n",
    "# Using the remaining training records, split into validation, slightly larger split to make it comparable to test size\n",
    "og_feature_train, feature_val, og_label_train, label_val = train_test_split(features, labels, test_size=0.1)\n",
    "\n",
    "# In the end, we get 3 groups:\n",
    "\n",
    "# feature_train\n",
    "# label_train\n",
    "\n",
    "# feature_test\n",
    "# label_test\n",
    "\n",
    "# feature_validation\n",
    "# label_validation"
   ]
  },
  {
   "cell_type": "markdown",
   "id": "863dfd7d",
   "metadata": {},
   "source": [
    "# Density Estimation Removal (Rank Removal)"
   ]
  },
  {
   "cell_type": "code",
   "execution_count": 676,
   "id": "973d8b7d",
   "metadata": {},
   "outputs": [],
   "source": [
    "def rank_removal(x_train, y_train, feature_col, y_col, rank_threshold) :\n",
    "    '''\n",
    "        :param x_train: the np array of learning data\n",
    "        :param y_train: the np array of labels for learning data\n",
    "        :param feature_col: actual column names []\n",
    "        :param y_col: the label column\n",
    "        :param rank_threshold: the percentage of data we want to drop (like 0.30 to keep the top 70% of the data)\n",
    "        :returns x_train_df, y_train_df, x_train, y_train, rows_to_drop: returns the dataframe versions of the remaining rows after removal, as well as the indicies of the rows dropped\n",
    "    '''\n",
    "    # Convert to 2d tabular data\n",
    "    x_train_df = pd.DataFrame(x_train, columns = feature_col)\n",
    "    y_train_df = pd.DataFrame(y_train, columns = [y_col])\n",
    "    \n",
    "    # Fit the data for the kernel\n",
    "    kde = KernelDensity(kernel='gaussian', bandwidth=0.2).fit(x_train_df)\n",
    "    # Caculate the probability density \n",
    "    logprob = kde.score_samples(x_train_df)\n",
    "\n",
    "    # Drop the bottom k%, keeping the top k%\n",
    "    perc = rank_threshold\n",
    "    perc = int(len(logprob) * perc)\n",
    "\n",
    "    print('Drop Bottom ' + str(rank_threshold * 100) + '%')\n",
    "    rows_to_drop = np.argpartition(logprob, perc)[:perc]\n",
    "    print('Number of rows dropped: ', str(len(rows_to_drop)))\n",
    "    \n",
    "    x_train_df = x_train_df.drop(rows_to_drop, axis=0)\n",
    "    y_train_df = y_train_df.drop(rows_to_drop, axis=0)\n",
    "    \n",
    "    return x_train_df, y_train_df, rows_to_drop"
   ]
  },
  {
   "cell_type": "code",
   "execution_count": 677,
   "id": "1a1a9e73",
   "metadata": {},
   "outputs": [],
   "source": [
    "feature_col = ['RIDAGEYR', 'DPQ020', 'DPQ030', 'DPQ040', 'BMXBMI', 'DR1IMAGN', 'DR1IIRON', 'DR1ISFAT',\n",
    "               'DR1IPFAT', 'DR1IMFAT', 'DR2IMAGN', 'DR2IIRON', 'DR2ISFAT', 'DR2IPFAT',\n",
    "               'DR2IMFAT', 'SLD012', 'SLQ120']\n",
    "y_col = ['sleep_disorder']"
   ]
  },
  {
   "cell_type": "code",
   "execution_count": 678,
   "id": "89b1edf0",
   "metadata": {},
   "outputs": [
    {
     "name": "stdout",
     "output_type": "stream",
     "text": [
      "Drop Bottom 5.0%\n",
      "Number of rows dropped:  51\n"
     ]
    }
   ],
   "source": [
    "rank_threshold = 0.05\n",
    "feature_train, label_train, rows_dropped = rank_removal(np.array(og_feature_train), np.array(og_label_train), feature_col, y_col, rank_threshold)"
   ]
  },
  {
   "cell_type": "markdown",
   "id": "a76df533",
   "metadata": {},
   "source": [
    "# Investigating potiential non linear relationships via basis function"
   ]
  },
  {
   "cell_type": "code",
   "execution_count": 679,
   "id": "1f6d87c1",
   "metadata": {},
   "outputs": [],
   "source": [
    "# In progress\n",
    "#poly = PolynomialFeatures(3, include_bias=False)\n",
    "#poly.fit_transform(feature_val[:, None])"
   ]
  },
  {
   "cell_type": "markdown",
   "id": "fe0ebb06",
   "metadata": {},
   "source": [
    "# Hyperparameter Tuning"
   ]
  },
  {
   "cell_type": "code",
   "execution_count": 680,
   "id": "a3b6491e",
   "metadata": {},
   "outputs": [],
   "source": [
    "accuracy_list = []\n",
    "c_range = np.geomspace(start=0.001, stop=10, num=100)\n",
    "\n",
    "for c in c_range:\n",
    "    # Hyperparameter is the number of regularization strength (C), l2 by default\n",
    "    model = LogisticRegression(solver='liblinear', C=c, random_state=0)\n",
    "    \n",
    "    # Learn the model over the training data\n",
    "    model.fit(feature_train, label_train.values.ravel())\n",
    "\n",
    "    # Predict labels over the validation data\n",
    "    model.predict(feature_val)\n",
    "\n",
    "    # Evaluate accuracy over the validation data\n",
    "    accuracy_list.append(model.score(feature_val, label_val))"
   ]
  },
  {
   "cell_type": "code",
   "execution_count": 681,
   "id": "bed1d0a2",
   "metadata": {},
   "outputs": [
    {
     "data": {
      "image/png": "[encoded data removed]",
      "text/plain": [
       "<Figure size 432x288 with 1 Axes>"
      ]
     },
     "metadata": {
      "needs_background": "light"
     },
     "output_type": "display_data"
    }
   ],
   "source": [
    "plt.scatter(c_range, accuracy_list, s = 10)\n",
    "plt.show()"
   ]
  },
  {
   "cell_type": "code",
   "execution_count": 682,
   "id": "12cd54a1",
   "metadata": {},
   "outputs": [],
   "source": [
    "best_accuracy = max(accuracy_list)\n",
    "best_accuracy_index = accuracy_list.index(best_accuracy)\n",
    "best_c = c_range[best_accuracy_index]"
   ]
  },
  {
   "cell_type": "code",
   "execution_count": 683,
   "id": "3ad83c0a",
   "metadata": {},
   "outputs": [
    {
     "name": "stdout",
     "output_type": "stream",
     "text": [
      "Best Accuracy:  0.7192982456140351\n",
      "Best regularization value 0.08697490026177834\n"
     ]
    }
   ],
   "source": [
    "print('Best Accuracy: ', best_accuracy)\n",
    "print('Best regularization value', best_c)"
   ]
  },
  {
   "cell_type": "markdown",
   "id": "0ac99435",
   "metadata": {},
   "source": [
    "# Logistic Regression"
   ]
  },
  {
   "cell_type": "code",
   "execution_count": 684,
   "id": "0228c3c6",
   "metadata": {},
   "outputs": [],
   "source": [
    "feature_train_dump, feature_test, label_train_dump, label_test = train_test_split(og_feature_train, og_label_train, test_size=0.1)"
   ]
  },
  {
   "cell_type": "code",
   "execution_count": 685,
   "id": "5ee66a98",
   "metadata": {},
   "outputs": [],
   "source": [
    "# Hyperparameter is the number of regularization strength (C), l2 by default\n",
    "model = LogisticRegression(solver='liblinear', C=best_c, random_state=0)\n",
    "\n",
    "# Learn the model over the training data\n",
    "model.fit(feature_train, label_train.values.ravel())\n",
    "\n",
    "# Predict labels over the testing data\n",
    "model.predict(feature_test)\n",
    "\n",
    "# Evaluate accuracy over the testing data\n",
    "accuracy = model.score(feature_test, label_test)"
   ]
  },
  {
   "cell_type": "code",
   "execution_count": 686,
   "id": "943c5212",
   "metadata": {},
   "outputs": [
    {
     "name": "stdout",
     "output_type": "stream",
     "text": [
      "0.7864077669902912\n"
     ]
    }
   ],
   "source": [
    "print(accuracy)"
   ]
  },
  {
   "cell_type": "markdown",
   "id": "412702f1",
   "metadata": {},
   "source": [
    "# Interpret Results"
   ]
  },
  {
   "cell_type": "code",
   "execution_count": 687,
   "id": "3497c96b",
   "metadata": {},
   "outputs": [
    {
     "data": {
      "image/png": "[encoded data removed]",
      "text/plain": [
       "<Figure size 576x576 with 1 Axes>"
      ]
     },
     "metadata": {
      "needs_background": "light"
     },
     "output_type": "display_data"
    }
   ],
   "source": [
    "cm = confusion_matrix(label_test, model.predict(feature_test))\n",
    "\n",
    "fig, ax = plt.subplots(figsize=(8, 8))\n",
    "ax.imshow(cm)\n",
    "ax.grid(False)\n",
    "ax.xaxis.set(ticks=(0, 1), ticklabels=('Predicted Negative Sleep Disorder ', 'Predicted Positive Sleep Disorder'))\n",
    "ax.yaxis.set(ticks=(0, 1), ticklabels=('Actual Negative Sleep Disorder', 'Actual Positive Sleep Disorder'))\n",
    "ax.set_ylim(1.5, -0.5)\n",
    "for i in range(2):\n",
    "    for j in range(2):\n",
    "        ax.text(j, i, cm[i, j], ha='center', va='center', color='red')\n",
    "plt.show()"
   ]
  },
  {
   "cell_type": "code",
   "execution_count": 688,
   "id": "424ef85a",
   "metadata": {},
   "outputs": [
    {
     "name": "stdout",
     "output_type": "stream",
     "text": [
      "              precision    recall  f1-score   support\n",
      "\n",
      "         0.0       1.00      0.08      0.15        24\n",
      "         1.0       0.78      1.00      0.88        79\n",
      "\n",
      "    accuracy                           0.79       103\n",
      "   macro avg       0.89      0.54      0.52       103\n",
      "weighted avg       0.83      0.79      0.71       103\n",
      "\n"
     ]
    }
   ],
   "source": [
    "print(classification_report(label_test, model.predict(feature_test)))"
   ]
  },
  {
   "cell_type": "markdown",
   "id": "a304b731",
   "metadata": {},
   "source": [
    "# Driver (to run entire experiment over k iterations, if needed)"
   ]
  },
  {
   "cell_type": "code",
   "execution_count": 689,
   "id": "f7bce041",
   "metadata": {},
   "outputs": [],
   "source": [
    "avg_acc = []\n",
    "for i in range (50) :\n",
    "    feature_train_dump, feature_test, label_train_dump, label_test = train_test_split(og_feature_train, og_label_train, test_size=0.1)\n",
    "\n",
    "    # Hyperparameter is the number of regularization strength (C), l2 by default\n",
    "    model = LogisticRegression(solver='liblinear', C=best_c, random_state=0)\n",
    "\n",
    "    # Learn the model over the training data\n",
    "    model.fit(feature_train, label_train.values.ravel())\n",
    "\n",
    "    # Predict labels over the testing data\n",
    "    model.predict(feature_test)\n",
    "\n",
    "    # Evaluate accuracy over the testing data\n",
    "    avg_acc.append(model.score(feature_test, label_test))"
   ]
  },
  {
   "cell_type": "code",
   "execution_count": 690,
   "id": "d417eff1",
   "metadata": {},
   "outputs": [
    {
     "name": "stdout",
     "output_type": "stream",
     "text": [
      "0.7209708737864078\n"
     ]
    }
   ],
   "source": [
    "print(mean(avg_acc))"
   ]
  },
  {
   "cell_type": "code",
   "execution_count": null,
   "id": "981ad16e",
   "metadata": {},
   "outputs": [],
   "source": []
  }
 ],
 "metadata": {
  "kernelspec": {
   "display_name": "Python 3 (ipykernel)",
   "language": "python",
   "name": "python3"
  },
  "language_info": {
   "codemirror_mode": {
    "name": "ipython",
    "version": 3
   },
   "file_extension": ".py",
   "mimetype": "text/x-python",
   "name": "python",
   "nbconvert_exporter": "python",
   "pygments_lexer": "ipython3",
   "version": "3.9.12"
  }
 },
 "nbformat": 4,
 "nbformat_minor": 5
}
