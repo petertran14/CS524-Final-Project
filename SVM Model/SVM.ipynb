{
 "cells": [
  {
   "cell_type": "markdown",
   "id": "0263d0bb",
   "metadata": {},
   "source": [
    "# Import "
   ]
  },
  {
   "cell_type": "code",
   "execution_count": null,
   "id": "9c7d3bc7",
   "metadata": {},
   "outputs": [],
   "source": [
    "# Data structure libaries\n",
    "import pandas as pd\n",
    "import numpy as np\n",
    "\n",
    "# ML libaries\n",
    "from sklearn import svm\n",
    "from sklearn.model_selection import train_test_split\n",
    "\n",
    "# Visualization libraries\n",
    "import matplotlib.pyplot as plt\n",
    "from sklearn.metrics import classification_report, confusion_matrix"
   ]
  },
  {
   "cell_type": "markdown",
   "id": "7f88e9fb",
   "metadata": {},
   "source": [
    "# Load Dataset"
   ]
  },
  {
   "cell_type": "code",
   "execution_count": null,
   "id": "29ac6456",
   "metadata": {},
   "outputs": [],
   "source": [
    "sleep_data = pd.read_csv('./processed_data.csv')"
   ]
  },
  {
   "cell_type": "markdown",
   "id": "ab3f0318",
   "metadata": {},
   "source": [
    "# Data Preprocessing"
   ]
  },
  {
   "cell_type": "code",
   "execution_count": 1,
   "id": "27e6d58d",
   "metadata": {},
   "outputs": [],
   "source": [
    "# Returns a list [] of normalized features\n",
    "def normalize_feature(feature_to_normalize, max_val, min_val) :\n",
    "    feature_length = len(feature_to_normalize)\n",
    "    normalized = []\n",
    "    for i in range(feature_length) :\n",
    "        normalized.append(((feature_to_normalize[i] - min_val) / (max_val - min_val))[0])\n",
    "    return normalized"
   ]
  },
  {
   "cell_type": "code",
   "execution_count": null,
   "id": "7847d43d",
   "metadata": {},
   "outputs": [],
   "source": [
    "# Removing unnamed column\n",
    "sleep_data = sleep_data.loc[:, ~sleep_data.columns.str.contains('^Unnamed')]"
   ]
  },
  {
   "cell_type": "code",
   "execution_count": null,
   "id": "7bc6c416",
   "metadata": {},
   "outputs": [],
   "source": [
    "# Removing SEQN\n",
    "sleep_data = sleep_data.loc[:, ~sleep_data.columns.str.contains('SEQN')]"
   ]
  },
  {
   "cell_type": "code",
   "execution_count": null,
   "id": "a62216bc",
   "metadata": {},
   "outputs": [],
   "source": [
    "# Rearranging columns to the dataframe so that last column is the label\n",
    "sleep_data.columns =[['RIAGENDR', 'RIDAGEYR', 'SLQ040', 'SLQ050', 'PAQ605', 'PAQ620', 'SMQ040', \n",
    "                      'ALQ130', 'DIQ010', 'BMXBMI', 'physical_activity', 'smoking', 'alcohol', 'diabetes',\n",
    "                      'DR1IMAGN', 'DR1IIRON', 'DR1ISFAT', 'DR1IPFAT', 'DR1IMFAT', \n",
    "                      'DR2IMAGN', 'DR2IIRON', 'DR2ISFAT', 'DR2IPFAT', 'DR2IMFAT','sleep_disorder']]\n",
    "\n",
    "# Normalize data\n",
    "maxList = sleep_data.max()\n",
    "minList = sleep_data.min()\n",
    "\n",
    "# Lists that store the normalized values\n",
    "RIAGENDR_norm = normalize_feature(sleep_data['RIAGENDR'].values.tolist(), maxList[0], minList[0])\n",
    "RIDAGEYR_norm = normalize_feature(sleep_data['RIDAGEYR'].values.tolist(), maxList[1], minList[1])\n",
    "SLQ040_norm = normalize_feature(sleep_data['SLQ040'].values.tolist(), maxList[2], minList[2])\n",
    "SLQ050_norm = normalize_feature(sleep_data['SLQ050'].values.tolist(), maxList[3], minList[3])\n",
    "\n",
    "PAQ605_norm = normalize_feature(sleep_data['PAQ605'].values.tolist(), maxList[4], minList[4])\n",
    "PAQ620_norm = normalize_feature(sleep_data['PAQ620'].values.tolist(), maxList[5], minList[5])\n",
    "SMQ040_norm = normalize_feature(sleep_data['SMQ040'].values.tolist(), maxList[6], minList[6])\n",
    "ALQ130_norm = normalize_feature(sleep_data['ALQ130'].values.tolist(), maxList[7], minList[7])\n",
    "\n",
    "DIQ010_norm = normalize_feature(sleep_data['DIQ010'].values.tolist(), maxList[8], minList[8])\n",
    "BMXBMI_norm = normalize_feature(sleep_data['BMXBMI'].values.tolist(), maxList[9], minList[9])\n",
    "physical_activity_norm = normalize_feature(sleep_data['physical_activity'].values.tolist(), maxList[10], minList[10])\n",
    "smoking_norm = normalize_feature(sleep_data['smoking'].values.tolist(), maxList[11], minList[11])\n",
    "\n",
    "alcohol_norm = normalize_feature(sleep_data['alcohol'].values.tolist(), maxList[12], minList[12])\n",
    "diabetes_norm = normalize_feature(sleep_data['diabetes'].values.tolist(), maxList[13], minList[13])\n",
    "DR1IMAGN_norm = normalize_feature(sleep_data['DR1IMAGN'].values.tolist(), maxList[14], minList[14])\n",
    "DR1IIRON_norm = normalize_feature(sleep_data['DR1IIRON'].values.tolist(), maxList[15], minList[15])\n",
    "\n",
    "DR1ISFAT_norm = normalize_feature(sleep_data['DR1ISFAT'].values.tolist(), maxList[16], minList[16])\n",
    "DR1IPFAT_norm = normalize_feature(sleep_data['DR1IPFAT'].values.tolist(), maxList[17], minList[17])\n",
    "DR1IMFAT_norm = normalize_feature(sleep_data['DR1IMFAT'].values.tolist(), maxList[18], minList[18])\n",
    "DR2IMAGN_norm = normalize_feature(sleep_data['DR2IMAGN'].values.tolist(), maxList[19], minList[19])\n",
    "\n",
    "DR2IIRON_norm = normalize_feature(sleep_data['DR2IIRON'].values.tolist(), maxList[20], minList[20])\n",
    "DR2ISFAT_norm = normalize_feature(sleep_data['DR2ISFAT'].values.tolist(), maxList[21], minList[21])\n",
    "DR2IPFAT_norm = normalize_feature(sleep_data['DR2IPFAT'].values.tolist(), maxList[22], minList[22])\n",
    "DR2IMFAT_norm = normalize_feature(sleep_data['DR2IMFAT'].values.tolist(), maxList[23], minList[23])\n",
    "\n",
    "sleep_disorder_norm = normalize_feature(sleep_data['sleep_disorder'].values.tolist(), maxList[24], minList[24])\n",
    "\n",
    "# Create a new dataframe with the normalized values\n",
    "normalized_features = {\n",
    "         'RIAGENDR': RIAGENDR_norm,\n",
    "         'RIDAGEYR': RIDAGEYR_norm, \n",
    "         'SLQ040': SLQ040_norm,\n",
    "         'SLQ050': SLQ050_norm,\n",
    "         'PAQ605': PAQ605_norm,\n",
    "         'PAQ620': PAQ620_norm, \n",
    "         'SMQ040': SMQ040_norm,\n",
    "         'ALQ130': ALQ130_norm,\n",
    "         'DIQ010': DIQ010_norm,\n",
    "         'BMXBMI': BMXBMI_norm,\n",
    "         'physical_activity': physical_activity_norm, \n",
    "         'smoking': smoking_norm,\n",
    "         'alcohol': alcohol_norm,\n",
    "         'diabetes': diabetes_norm,\n",
    "         'DR1IMAGN': DR1IMAGN_norm,\n",
    "         'DR1IIRON': DR1IIRON_norm, \n",
    "         'DR1ISFAT': DR1ISFAT_norm,\n",
    "         'DR1IPFAT': DR1IPFAT_norm,\n",
    "         'DR1IMFAT': DR1IMFAT_norm,\n",
    "         'DR2IMAGN': DR2IMAGN_norm,\n",
    "         'DR2IIRON': DR2IIRON_norm, \n",
    "         'DR2ISFAT': DR2ISFAT_norm,\n",
    "         'DR2IPFAT': DR2IPFAT_norm,\n",
    "         'DR2IMFAT': DR2IMFAT_norm,\n",
    "         'sleep_disorder': sleep_disorder_norm}"
   ]
  },
  {
   "cell_type": "code",
   "execution_count": null,
   "id": "0fd12715",
   "metadata": {},
   "outputs": [],
   "source": [
    "# Convert resultant dictionary into dataframe\n",
    "norm_df = pd.DataFrame.from_dict(normalized_features)"
   ]
  },
  {
   "cell_type": "code",
   "execution_count": null,
   "id": "e8e49b4b",
   "metadata": {},
   "outputs": [],
   "source": [
    "# Drop columns that may be troublesome. For LR, these specific columns made accuracy 100% regardless of regularization strength\n",
    "# That may mean that there isn't enough variety within these columns so they are close to 1:1 with the label prediction\n",
    "norm_df = norm_df.drop(columns=['RIAGENDR', 'SLQ040', 'SLQ050', 'PAQ605', 'PAQ620', 'SMQ040', 'ALQ130', 'DIQ010',\n",
    "                                'physical_activity', 'diabetes'])"
   ]
  },
  {
   "cell_type": "markdown",
   "id": "394e5df0",
   "metadata": {},
   "source": [
    "# Train - Validation - Test Split"
   ]
  },
  {
   "cell_type": "code",
   "execution_count": null,
   "id": "6a5049a6",
   "metadata": {},
   "outputs": [],
   "source": [
    "# In the end, we get 3 groups:\n",
    "\n",
    "# feature_train: target features of the training set\n",
    "# label_train: target label of the training set\n",
    "\n",
    "# feature_test: target features of the testing set\n",
    "# label_test: target label of the testing set\n",
    "\n",
    "# feature_val: target features of the validation set\n",
    "# label_val: target label of the validation set"
   ]
  },
  {
   "cell_type": "code",
   "execution_count": null,
   "id": "8646d3da",
   "metadata": {},
   "outputs": [],
   "source": [
    "# All feature data\n",
    "features = norm_df.iloc[:,:-1]\n",
    "# All label data\n",
    "labels = norm_df.iloc[:,-1:]\n",
    "\n",
    "# Split into train and validation sets\n",
    "feature_train, feature_val, label_train, label_val = train_test_split(features, labels, test_size=0.3)"
   ]
  },
  {
   "cell_type": "markdown",
   "id": "fe0ebb06",
   "metadata": {},
   "source": [
    "# Hyperparameter Tuning"
   ]
  },
  {
   "cell_type": "markdown",
   "id": "24be571a",
   "metadata": {},
   "source": [
    "These are ones that I know. Please choose whichever you prefer.\n",
    "\n",
    "Hyperparameter can include be the kernel type:\n",
    "    1. Linear Kernel\n",
    "    2. Polynomial Kernel\n",
    "    3. Radial Basis Function (RBF) Kernel\n",
    "    \n",
    "Can also include regularization term (C) : Lower values of C creates a hyperplane that separates the classes, though by a smaller margin. Too low and we will overfit. Higher values of C creates a hyperplane that separates the classes, though by a larger margin. Too high and we will underfit.\n",
    "    \n",
    "Can also include gamma term (g) : Lower values of g calcuates the optimal hyperplane using only a few points. Too low and we will underfit. Higher values of g calculates the optimal hyperplance using many points. Too high and we will overfit. "
   ]
  },
  {
   "cell_type": "markdown",
   "id": "0ac99435",
   "metadata": {},
   "source": [
    "# SVM"
   ]
  },
  {
   "cell_type": "code",
   "execution_count": null,
   "id": "89f8d3ac",
   "metadata": {},
   "outputs": [],
   "source": [
    "# Using remaining training data, split into testing set. Although, we want to use our original training data\n",
    "# from above so won't keep this set of training data\n",
    "feature_train_dump, feature_test, label_train_dump, label_test = train_test_split(feature_train, label_train, test_size=0.3)"
   ]
  },
  {
   "cell_type": "markdown",
   "id": "c4792bce",
   "metadata": {},
   "source": [
    "This has helped me in the past: https://www.datacamp.com/tutorial/svm-classification-scikit-learn-python"
   ]
  },
  {
   "cell_type": "markdown",
   "id": "412702f1",
   "metadata": {},
   "source": [
    "# Interpret Results"
   ]
  },
  {
   "cell_type": "code",
   "execution_count": null,
   "id": "3497c96b",
   "metadata": {},
   "outputs": [],
   "source": []
  },
  {
   "cell_type": "markdown",
   "id": "a304b731",
   "metadata": {},
   "source": [
    "# Driver (to run entire experiment over k iterations, if needed)"
   ]
  },
  {
   "cell_type": "code",
   "execution_count": null,
   "id": "f7bce041",
   "metadata": {},
   "outputs": [],
   "source": []
  }
 ],
 "metadata": {
  "kernelspec": {
   "display_name": "Python 3 (ipykernel)",
   "language": "python",
   "name": "python3"
  },
  "language_info": {
   "codemirror_mode": {
    "name": "ipython",
    "version": 3
   },
   "file_extension": ".py",
   "mimetype": "text/x-python",
   "name": "python",
   "nbconvert_exporter": "python",
   "pygments_lexer": "ipython3",
   "version": "3.9.12"
  }
 },
 "nbformat": 4,
 "nbformat_minor": 5
}
