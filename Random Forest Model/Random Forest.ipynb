{
 "cells": [
  {
   "cell_type": "markdown",
   "id": "0263d0bb",
   "metadata": {},
   "source": [
    "# Import "
   ]
  },
  {
   "cell_type": "code",
   "execution_count": 920,
   "id": "9c7d3bc7",
   "metadata": {},
   "outputs": [],
   "source": [
    "# Data structure libaries\n",
    "import pandas as pd\n",
    "import numpy as np\n",
    "\n",
    "# ML libraries\n",
    "from sklearn.ensemble import RandomForestClassifier\n",
    "from sklearn.metrics import accuracy_score, f1_score, precision_score, recall_score\n",
    "from sklearn.model_selection import RandomizedSearchCV, train_test_split\n",
    "from scipy.stats import randint\n",
    "from sklearn.neighbors import KernelDensity\n",
    "\n",
    "# Math libraries\n",
    "from statistics import mean \n",
    "\n",
    "# Visualization libraries\n",
    "import matplotlib.pyplot as plt\n",
    "from sklearn.metrics import classification_report, confusion_matrix"
   ]
  },
  {
   "cell_type": "markdown",
   "id": "7f88e9fb",
   "metadata": {},
   "source": [
    "# Load Dataset"
   ]
  },
  {
   "cell_type": "code",
   "execution_count": 985,
   "id": "29ac6456",
   "metadata": {},
   "outputs": [],
   "source": [
    "sleep_data = pd.read_csv('./Data/processed_data_II.csv')"
   ]
  },
  {
   "cell_type": "code",
   "execution_count": 990,
   "id": "5fcb360a",
   "metadata": {},
   "outputs": [
    {
     "name": "stdout",
     "output_type": "stream",
     "text": [
      "1136\n",
      "805\n",
      "331\n"
     ]
    }
   ],
   "source": [
    "print(len(sleep_data))\n",
    "print(len(sleep_data[sleep_data['sleep_disorder'] == 1]))\n",
    "print(len(sleep_data[sleep_data['sleep_disorder'] == 0]))"
   ]
  },
  {
   "cell_type": "markdown",
   "id": "ab3f0318",
   "metadata": {},
   "source": [
    "# Data Preprocessing (Normalization)"
   ]
  },
  {
   "cell_type": "code",
   "execution_count": 922,
   "id": "27e6d58d",
   "metadata": {},
   "outputs": [],
   "source": [
    "def normalize_feature(feature_to_normalize, max_val, min_val) :\n",
    "    feature_length = len(feature_to_normalize)\n",
    "    normalized = []\n",
    "    for i in range(feature_length) :\n",
    "        normalized.append(((feature_to_normalize[i] - min_val) / (max_val - min_val)))\n",
    "    return normalized"
   ]
  },
  {
   "cell_type": "code",
   "execution_count": 923,
   "id": "85ccc3d5",
   "metadata": {},
   "outputs": [],
   "source": [
    "# Removing unnamed column\n",
    "sleep_data = sleep_data.loc[:, ~sleep_data.columns.str.contains('^Unnamed')]"
   ]
  },
  {
   "cell_type": "code",
   "execution_count": 924,
   "id": "643eebe7",
   "metadata": {},
   "outputs": [],
   "source": [
    "# Removing SEQN\n",
    "sleep_data = sleep_data.loc[:, ~sleep_data.columns.str.contains('SEQN')]"
   ]
  },
  {
   "cell_type": "code",
   "execution_count": 925,
   "id": "5f8321d7",
   "metadata": {},
   "outputs": [],
   "source": [
    "# Rearrange columns\n",
    "new_cols = ['RIAGENDR', 'RIDAGEYR', 'SLQ040', 'SLQ050', 'DPQ020', 'DPQ030', 'DPQ040', 'BMXBMI',\n",
    "                      'DR1IMAGN', 'DR1IIRON', 'DR1ISFAT', 'DR1IPFAT', 'DR1IMFAT', \n",
    "                      'DR2IMAGN', 'DR2IIRON', 'DR2ISFAT', 'DR2IPFAT', 'DR2IMFAT',\n",
    "                      'SLD012', 'SLQ120', 'sleep_disorder']\n",
    "\n",
    "sleep_data = sleep_data[new_cols]\n",
    "\n",
    "# Normalize data\n",
    "maxList = sleep_data.max()\n",
    "minList = sleep_data.min()\n",
    "\n",
    "# Lists that store the normalized values\n",
    "RIAGENDR_norm = normalize_feature(sleep_data['RIAGENDR'].values.tolist(), maxList[0], minList[0])\n",
    "RIDAGEYR_norm = normalize_feature(sleep_data['RIDAGEYR'].values.tolist(), maxList[1], minList[1])\n",
    "SLQ040_norm = normalize_feature(sleep_data['SLQ040'].values.tolist(), maxList[2], minList[2])\n",
    "SLQ050_norm = normalize_feature(sleep_data['SLQ050'].values.tolist(), maxList[3], minList[3])\n",
    "\n",
    "DPQ020_norm = normalize_feature(sleep_data['DPQ020'].values.tolist(), maxList[4], minList[4])\n",
    "DPQ030_norm = normalize_feature(sleep_data['DPQ030'].values.tolist(), maxList[5], minList[5])\n",
    "DPQ040_norm = normalize_feature(sleep_data['DPQ040'].values.tolist(), maxList[6], minList[6])\n",
    "\n",
    "BMXBMI_norm = normalize_feature(sleep_data['BMXBMI'].values.tolist(), maxList[7], minList[7])\n",
    "\n",
    "DR1IMAGN_norm = normalize_feature(sleep_data['DR1IMAGN'].values.tolist(), maxList[8], minList[8])\n",
    "DR1IIRON_norm = normalize_feature(sleep_data['DR1IIRON'].values.tolist(), maxList[9], minList[9])\n",
    "\n",
    "DR1ISFAT_norm = normalize_feature(sleep_data['DR1ISFAT'].values.tolist(), maxList[10], minList[10])\n",
    "DR1IPFAT_norm = normalize_feature(sleep_data['DR1IPFAT'].values.tolist(), maxList[11], minList[11])\n",
    "DR1IMFAT_norm = normalize_feature(sleep_data['DR1IMFAT'].values.tolist(), maxList[12], minList[12])\n",
    "DR2IMAGN_norm = normalize_feature(sleep_data['DR2IMAGN'].values.tolist(), maxList[13], minList[13])\n",
    "\n",
    "DR2IIRON_norm = normalize_feature(sleep_data['DR2IIRON'].values.tolist(), maxList[14], minList[14])\n",
    "DR2ISFAT_norm = normalize_feature(sleep_data['DR2ISFAT'].values.tolist(), maxList[15], minList[15])\n",
    "DR2IPFAT_norm = normalize_feature(sleep_data['DR2IPFAT'].values.tolist(), maxList[16], minList[16])\n",
    "DR2IMFAT_norm = normalize_feature(sleep_data['DR2IMFAT'].values.tolist(), maxList[17], minList[17])\n",
    "\n",
    "SLD012_norm = normalize_feature(sleep_data['SLD012'].values.tolist(), maxList[18], minList[18])\n",
    "SLQ120_norm = normalize_feature(sleep_data['SLQ120'].values.tolist(), maxList[19], minList[19])\n",
    "\n",
    "sleep_disorder_norm = normalize_feature(sleep_data['sleep_disorder'].values.tolist(), maxList[20], minList[20])\n",
    "\n",
    "# Create a new dataframe with the normalized values\n",
    "normalized_features = {\n",
    "         'RIAGENDR': RIAGENDR_norm,\n",
    "         'RIDAGEYR': RIDAGEYR_norm, \n",
    "         'SLQ040': SLQ040_norm,\n",
    "         'SLQ050': SLQ050_norm,\n",
    "         'DPQ020': DPQ020_norm,\n",
    "         'DPQ030': DPQ030_norm,\n",
    "         'DPQ040': DPQ040_norm,\n",
    "         'BMXBMI': BMXBMI_norm,\n",
    "         'DR1IMAGN': DR1IMAGN_norm,\n",
    "         'DR1IIRON': DR1IIRON_norm, \n",
    "         'DR1ISFAT': DR1ISFAT_norm,\n",
    "         'DR1IPFAT': DR1IPFAT_norm,\n",
    "         'DR1IMFAT': DR1IMFAT_norm,\n",
    "         'DR2IMAGN': DR2IMAGN_norm,\n",
    "         'DR2IIRON': DR2IIRON_norm, \n",
    "         'DR2ISFAT': DR2ISFAT_norm,\n",
    "         'DR2IPFAT': DR2IPFAT_norm,\n",
    "         'DR2IMFAT': DR2IMFAT_norm,\n",
    "         'SLD012': SLD012_norm,\n",
    "         'SLQ120': SLQ120_norm,\n",
    "         'sleep_disorder': sleep_disorder_norm}"
   ]
  },
  {
   "cell_type": "code",
   "execution_count": 926,
   "id": "dc53fa6f",
   "metadata": {},
   "outputs": [],
   "source": [
    "# Convert dictionary into dataframe\n",
    "norm_df = pd.DataFrame.from_dict(normalized_features)"
   ]
  },
  {
   "cell_type": "code",
   "execution_count": 927,
   "id": "7cbd0b7b",
   "metadata": {},
   "outputs": [],
   "source": [
    "# Drop columns that are already hot encoded, or not helpful\n",
    "norm_df = norm_df.drop(columns=['RIAGENDR', 'SLQ040', 'SLQ050', 'DPQ030'])"
   ]
  },
  {
   "cell_type": "code",
   "execution_count": 928,
   "id": "d57ad4b7",
   "metadata": {},
   "outputs": [
    {
     "name": "stdout",
     "output_type": "stream",
     "text": [
      "Index(['RIDAGEYR', 'DPQ020', 'DPQ040', 'BMXBMI', 'DR1IMAGN', 'DR1IIRON',\n",
      "       'DR1ISFAT', 'DR1IPFAT', 'DR1IMFAT', 'DR2IMAGN', 'DR2IIRON', 'DR2ISFAT',\n",
      "       'DR2IPFAT', 'DR2IMFAT', 'SLD012', 'SLQ120', 'sleep_disorder'],\n",
      "      dtype='object')\n"
     ]
    }
   ],
   "source": [
    "print(norm_df.columns)"
   ]
  },
  {
   "cell_type": "markdown",
   "id": "394e5df0",
   "metadata": {},
   "source": [
    "# Train - Validation Split"
   ]
  },
  {
   "cell_type": "code",
   "execution_count": 929,
   "id": "8646d3da",
   "metadata": {},
   "outputs": [],
   "source": [
    "# All feature data\n",
    "features = norm_df.iloc[:,:-1]\n",
    "# All label data\n",
    "labels = norm_df.iloc[:,-1:]\n",
    "\n",
    "# Using the remaining training records, split into validation, slightly larger split to make it comparable to test size\n",
    "og_feature_train, feature_val, og_label_train, label_val = train_test_split(features, labels, test_size=0.15, stratify=labels)\n",
    "\n",
    "\n",
    "# In the end, we get 3 groups:\n",
    "\n",
    "# feature_train\n",
    "# label_train\n",
    "\n",
    "# feature_test\n",
    "# label_test\n",
    "\n",
    "# feature_validation\n",
    "# label_validation"
   ]
  },
  {
   "cell_type": "markdown",
   "id": "0f442db7",
   "metadata": {},
   "source": [
    "# Kernel Density Estimation (Rank Removal)"
   ]
  },
  {
   "cell_type": "code",
   "execution_count": 930,
   "id": "2196dc5b",
   "metadata": {},
   "outputs": [],
   "source": [
    "def rank_removal(x_train, y_train, feature_col, y_col, rank_threshold) :\n",
    "    '''\n",
    "        :param x_train: the np array of learning data\n",
    "        :param y_train: the np array of labels for learning data\n",
    "        :param feature_col: actual column names []\n",
    "        :param y_col: the label column\n",
    "        :param rank_threshold: the percentage of data we want to drop (like 0.30 to keep the top 70% of the data)\n",
    "        :returns x_train_df, y_train_df, x_train, y_train, rows_to_drop: returns the dataframe versions of the remaining rows after removal, as well as the indicies of the rows dropped\n",
    "    '''\n",
    "    # Convert to 2d tabular data\n",
    "    x_train_df = pd.DataFrame(x_train, columns = feature_col)\n",
    "    y_train_df = pd.DataFrame(y_train, columns = [y_col])\n",
    "    \n",
    "    # Fit the data for the kernel\n",
    "    kde = KernelDensity(kernel='gaussian', bandwidth=0.2).fit(x_train_df)\n",
    "    # Caculate the probability density \n",
    "    logprob = kde.score_samples(x_train_df)\n",
    "\n",
    "    # Drop the bottom k%, keeping the top k%\n",
    "    perc = rank_threshold\n",
    "    perc = int(len(logprob) * perc)\n",
    "\n",
    "    print('Drop Bottom ' + str(rank_threshold * 100) + '%')\n",
    "    rows_to_drop = np.argpartition(logprob, perc)[:perc]\n",
    "    print('Number of rows dropped: ', str(len(rows_to_drop)))\n",
    "    \n",
    "    x_train_df = x_train_df.drop(rows_to_drop, axis=0)\n",
    "    y_train_df = y_train_df.drop(rows_to_drop, axis=0)\n",
    "    \n",
    "    return x_train_df, y_train_df, rows_to_drop"
   ]
  },
  {
   "cell_type": "code",
   "execution_count": 931,
   "id": "40e7db88",
   "metadata": {},
   "outputs": [],
   "source": [
    "feature_col = ['RIDAGEYR', 'DPQ020', 'DPQ040', 'BMXBMI', 'DR1IMAGN', 'DR1IIRON', 'DR1ISFAT',\n",
    "               'DR1IPFAT', 'DR1IMFAT', 'DR2IMAGN', 'DR2IIRON', 'DR2ISFAT', 'DR2IPFAT',\n",
    "               'DR2IMFAT', 'SLD012', 'SLQ120']\n",
    "y_col = ['sleep_disorder']"
   ]
  },
  {
   "cell_type": "code",
   "execution_count": 932,
   "id": "492289c6",
   "metadata": {},
   "outputs": [
    {
     "name": "stdout",
     "output_type": "stream",
     "text": [
      "Drop Bottom 60.0%\n",
      "Number of rows dropped:  579\n"
     ]
    }
   ],
   "source": [
    "# Specify the bottom % to drop\n",
    "rank_threshold = 0.60\n",
    "feature_train, label_train, rows_dropped = rank_removal(np.array(og_feature_train), np.array(og_label_train), feature_col, y_col, rank_threshold)"
   ]
  },
  {
   "cell_type": "markdown",
   "id": "9fba8396",
   "metadata": {},
   "source": [
    "# Hyperparameter Tuning "
   ]
  },
  {
   "cell_type": "code",
   "execution_count": 933,
   "id": "e8022975",
   "metadata": {},
   "outputs": [],
   "source": [
    "# The maximum depth allowed. Generally, if the depth is too low we will underfit. If it is too high we will overfit \n",
    "n_trees = list(range(1,100))\n",
    "best_param = []\n",
    "\n",
    "accuracy_list = []\n",
    "precision_list = []\n",
    "recall_list = []\n",
    "f1_list = []\n",
    "\n",
    "# Iterate over values of num_trees to find best fit\n",
    "for n in n_trees :\n",
    "    param_dist = {'n_estimators': [n], 'max_depth': randint(1,10)}\n",
    "\n",
    "    # Create a random forest classifier\n",
    "    model = RandomForestClassifier()\n",
    "\n",
    "    # Use random search to find the best hyperparameters\n",
    "    rand_search = RandomizedSearchCV(model, param_distributions = param_dist, n_iter=3, cv=3)\n",
    "\n",
    "    # Fit the random search object to the data\n",
    "    rand_search.fit(feature_train, label_train.values.ravel())\n",
    "    \n",
    "    # Create a variable for the best model\n",
    "    best_param.append(rand_search.best_params_)\n",
    "    \n",
    "    accuracy_list.append(accuracy_score(label_val, rand_search.predict(feature_val)))\n",
    "    precision_list.append(precision_score(label_val, rand_search.predict(feature_val)))\n",
    "    recall_list.append(recall_score(label_val, rand_search.predict(feature_val)))\n",
    "    f1_list.append(f1_score(label_val, rand_search.predict(feature_val)))\n",
    "    "
   ]
  },
  {
   "cell_type": "code",
   "execution_count": 909,
   "id": "50a79784",
   "metadata": {},
   "outputs": [
    {
     "data": {
      "text/plain": [
       "[<matplotlib.lines.Line2D at 0x7fcc92f1c790>]"
      ]
     },
     "execution_count": 909,
     "metadata": {},
     "output_type": "execute_result"
    },
    {
     "data": {
      "image/png": "[encoded data removed]",
      "text/plain": [
       "<Figure size 432x288 with 1 Axes>"
      ]
     },
     "metadata": {
      "needs_background": "light"
     },
     "output_type": "display_data"
    }
   ],
   "source": [
    "plt.scatter(n_trees, accuracy_list, s=5)\n",
    "plt.title('Number of Trees vs Accuracy')\n",
    "plt.xlabel('Number of Trees')\n",
    "plt.ylabel('Accuracy')\n",
    "plt.ylim(0.5, 1.0)\n",
    "\n",
    "# Calculate equation for trendline\n",
    "z = np.polyfit(n_trees, accuracy_list, 2)\n",
    "p = np.poly1d(z)\n",
    "\n",
    "plt.plot(n_trees, p(n_trees), color='red')"
   ]
  },
  {
   "cell_type": "code",
   "execution_count": 889,
   "id": "355bd7d4",
   "metadata": {},
   "outputs": [
    {
     "data": {
      "text/plain": [
       "[<matplotlib.lines.Line2D at 0x7fcc91e6f490>]"
      ]
     },
     "execution_count": 889,
     "metadata": {},
     "output_type": "execute_result"
    },
    {
     "data": {
      "image/png": "[encoded data removed]",
      "text/plain": [
       "<Figure size 432x288 with 1 Axes>"
      ]
     },
     "metadata": {
      "needs_background": "light"
     },
     "output_type": "display_data"
    }
   ],
   "source": [
    "plt.scatter(n_trees, precision_list, s=5)\n",
    "plt.title('Number of Trees vs Precision')\n",
    "plt.xlabel('Number of Trees')\n",
    "plt.ylabel('Precision')\n",
    "plt.ylim(0.5, 1.0)\n",
    "\n",
    "# Calculate equation for trendline\n",
    "z = np.polyfit(n_trees, precision_list, 2)\n",
    "p = np.poly1d(z)\n",
    "\n",
    "plt.plot(n_trees, p(n_trees), color='red')"
   ]
  },
  {
   "cell_type": "code",
   "execution_count": 890,
   "id": "b954bfdc",
   "metadata": {},
   "outputs": [
    {
     "data": {
      "text/plain": [
       "[<matplotlib.lines.Line2D at 0x7fcc91f4fdc0>]"
      ]
     },
     "execution_count": 890,
     "metadata": {},
     "output_type": "execute_result"
    },
    {
     "data": {
      "image/png": "[encoded data removed]",
      "text/plain": [
       "<Figure size 432x288 with 1 Axes>"
      ]
     },
     "metadata": {
      "needs_background": "light"
     },
     "output_type": "display_data"
    }
   ],
   "source": [
    "plt.scatter(n_trees, recall_list, s=5)\n",
    "plt.title('Number of Trees vs Recall')\n",
    "plt.xlabel('Number of Trees')\n",
    "plt.ylabel('Recall')\n",
    "plt.ylim(0.5, 1.0)\n",
    "\n",
    "# Calculate equation for trendline\n",
    "z = np.polyfit(n_trees, recall_list, 2)\n",
    "p = np.poly1d(z)\n",
    "\n",
    "plt.plot(n_trees, p(n_trees), color='red')"
   ]
  },
  {
   "cell_type": "code",
   "execution_count": 892,
   "id": "81e119b4",
   "metadata": {},
   "outputs": [
    {
     "data": {
      "text/plain": [
       "[<matplotlib.lines.Line2D at 0x7fcc9213a220>]"
      ]
     },
     "execution_count": 892,
     "metadata": {},
     "output_type": "execute_result"
    },
    {
     "data": {
      "image/png": "[encoded data removed]",
      "text/plain": [
       "<Figure size 432x288 with 1 Axes>"
      ]
     },
     "metadata": {
      "needs_background": "light"
     },
     "output_type": "display_data"
    }
   ],
   "source": [
    "plt.scatter(n_trees, f1_list, s=5)\n",
    "plt.title('Number of Trees vs F1 Score')\n",
    "plt.xlabel('Number of Trees')\n",
    "plt.ylabel('F1 Score')\n",
    "plt.ylim(0.5, 1.0)\n",
    "\n",
    "# Calculate equation for trendline\n",
    "z = np.polyfit(n_trees, f1_list, 2)\n",
    "p = np.poly1d(z)\n",
    "\n",
    "plt.plot(n_trees, p(n_trees), color='red')"
   ]
  },
  {
   "cell_type": "code",
   "execution_count": 884,
   "id": "6259b7d6",
   "metadata": {},
   "outputs": [
    {
     "name": "stdout",
     "output_type": "stream",
     "text": [
      "Best Number of Decision Trees:  13\n",
      "Best Maximum Depth:  5\n",
      "Best Accuracy:  0.7251461988304093\n",
      "Average Accuracy:  0.682615629984051\n"
     ]
    }
   ],
   "source": [
    "index = (accuracy_list.index(max(accuracy_list)))\n",
    "best_n_tree = best_param[index]['n_estimators']\n",
    "best_max_depth = best_param[index]['max_depth']\n",
    "print('Best Number of Decision Trees: ', best_n_tree + 1)\n",
    "print('Best Maximum Depth: ', best_max_depth + 1)\n",
    "print('Best Accuracy: ', max(accuracy_list))\n",
    "print('Average Accuracy: ', mean(accuracy_list))"
   ]
  },
  {
   "cell_type": "code",
   "execution_count": null,
   "id": "dab67705",
   "metadata": {},
   "outputs": [],
   "source": [
    "index = (precision_list.index(max(precision_list)))\n",
    "best_n_tree = best_param[index]['n_estimators']\n",
    "best_max_depth = best_param[index]['max_depth']\n",
    "print('Best Number of Decision Trees: ', best_n_tree + 1)\n",
    "print('Best Maximum Depth: ', best_max_depth + 1)\n",
    "print('Best Precision: ', max(precision_list))\n",
    "print('Average Precision: ', mean(precision_list))"
   ]
  },
  {
   "cell_type": "code",
   "execution_count": null,
   "id": "e9328b30",
   "metadata": {},
   "outputs": [],
   "source": [
    "index = (recall_list.index(max(recall_list)))\n",
    "best_n_tree = best_param[index]['n_estimators']\n",
    "best_max_depth = best_param[index]['max_depth']\n",
    "print('Best Number of Decision Trees: ', best_n_tree + 1)\n",
    "print('Best Maximum Depth: ', best_max_depth + 1)\n",
    "print('Best Recall: ', max(recall_list))\n",
    "print('Average Recall: ', mean(recall_list))"
   ]
  },
  {
   "cell_type": "code",
   "execution_count": null,
   "id": "19ebb7e4",
   "metadata": {},
   "outputs": [],
   "source": [
    "index = (f1_list.index(max(f1_list)))\n",
    "best_n_tree = best_param[index]['n_estimators']\n",
    "best_max_depth = best_param[index]['max_depth']\n",
    "print('Best Number of Decision Trees: ', best_n_tree + 1)\n",
    "print('Best Maximum Depth: ', best_max_depth + 1)\n",
    "print('Best F1 Score: ', max(f1_list))\n",
    "print('Average F1 Score: ', mean(f1_list))"
   ]
  },
  {
   "cell_type": "markdown",
   "id": "0ac99435",
   "metadata": {},
   "source": [
    "# Random Forest "
   ]
  },
  {
   "cell_type": "code",
   "execution_count": 952,
   "id": "4b0d5cab",
   "metadata": {},
   "outputs": [],
   "source": [
    "feature_train_dump, feature_test, label_train_dump, label_test = train_test_split(og_feature_train, og_label_train, test_size=0.2)"
   ]
  },
  {
   "cell_type": "code",
   "execution_count": 953,
   "id": "5ee66a98",
   "metadata": {},
   "outputs": [],
   "source": [
    "# Consistently been around:\n",
    "# best_n_tree = 45\n",
    "# best_max_depth = 5\n",
    "\n",
    "# Create model \n",
    "model = RandomForestClassifier(n_estimators = 45, max_depth = best_max_depth, random_state = 1)\n",
    "# Train the model on training data\n",
    "model.fit(feature_train, label_train.values.ravel());\n",
    "# Predict labels over the test data\n",
    "y_pred = model.predict(feature_test)\n",
    "# Evaluate accuracy over the testing data\n",
    "accuracy = accuracy_score(label_test, model.predict(feature_test))"
   ]
  },
  {
   "cell_type": "code",
   "execution_count": 954,
   "id": "b5a961ef",
   "metadata": {},
   "outputs": [
    {
     "name": "stdout",
     "output_type": "stream",
     "text": [
      "0.7979274611398963\n"
     ]
    }
   ],
   "source": [
    "print(accuracy)"
   ]
  },
  {
   "cell_type": "code",
   "execution_count": null,
   "id": "d4a21150",
   "metadata": {},
   "outputs": [],
   "source": []
  },
  {
   "cell_type": "markdown",
   "id": "412702f1",
   "metadata": {},
   "source": [
    "# Interpret Results"
   ]
  },
  {
   "cell_type": "code",
   "execution_count": 955,
   "id": "3497c96b",
   "metadata": {},
   "outputs": [
    {
     "data": {
      "image/png": "[encoded data removed]",
      "text/plain": [
       "<Figure size 576x576 with 1 Axes>"
      ]
     },
     "metadata": {
      "needs_background": "light"
     },
     "output_type": "display_data"
    }
   ],
   "source": [
    "# Create the confusion matrix\n",
    "cm = confusion_matrix(label_test, y_pred)\n",
    "\n",
    "fig, ax = plt.subplots(figsize=(8, 8))\n",
    "ax.imshow(cm)\n",
    "ax.grid(False)\n",
    "ax.xaxis.set(ticks=(0, 1), ticklabels=('Predicted Negative Sleep Disorder ', 'Predicted Positive Sleep Disorder'))\n",
    "ax.yaxis.set(ticks=(0, 1), ticklabels=('Actual Negative Sleep Disorder', 'Actual Positive Sleep Disorder'))\n",
    "ax.set_ylim(1.5, -0.5)\n",
    "for i in range(2):\n",
    "    for j in range(2):\n",
    "        ax.text(j, i, cm[i, j], ha='center', va='center', color='red')\n",
    "plt.show()"
   ]
  },
  {
   "cell_type": "code",
   "execution_count": 962,
   "id": "2a4e04fc",
   "metadata": {},
   "outputs": [
    {
     "data": {
      "text/plain": [
       "{'0.0': {'precision': 0.7857142857142857,\n",
       "  'recall': 0.23404255319148937,\n",
       "  'f1-score': 0.36065573770491804,\n",
       "  'support': 47},\n",
       " '1.0': {'precision': 0.7988826815642458,\n",
       "  'recall': 0.9794520547945206,\n",
       "  'f1-score': 0.88,\n",
       "  'support': 146},\n",
       " 'accuracy': 0.7979274611398963,\n",
       " 'macro avg': {'precision': 0.7922984836392657,\n",
       "  'recall': 0.6067473039930049,\n",
       "  'f1-score': 0.620327868852459,\n",
       "  'support': 193},\n",
       " 'weighted avg': {'precision': 0.7956758701396441,\n",
       "  'recall': 0.7979274611398963,\n",
       "  'f1-score': 0.7535275630680369,\n",
       "  'support': 193}}"
      ]
     },
     "execution_count": 962,
     "metadata": {},
     "output_type": "execute_result"
    }
   ],
   "source": [
    "report = classification_report(label_test, y_pred, output_dict=True)\n",
    "classification_report(label_test, y_pred, output_dict=True)"
   ]
  },
  {
   "cell_type": "code",
   "execution_count": 963,
   "id": "6252c67e",
   "metadata": {},
   "outputs": [
    {
     "name": "stdout",
     "output_type": "stream",
     "text": [
      "0.7857142857142857\n",
      "0.6067473039930049\n",
      "0.620327868852459\n"
     ]
    }
   ],
   "source": [
    "macro_precision =  report['0.0']['precision'] \n",
    "macro_recall = report['macro avg']['recall']    \n",
    "macro_f1 = report['macro avg']['f1-score']\n",
    "\n",
    "print(macro_precision)\n",
    "print(macro_recall)\n",
    "print(macro_f1)"
   ]
  },
  {
   "cell_type": "markdown",
   "id": "a304b731",
   "metadata": {},
   "source": [
    "# Driver (to run entire experiment over k iterations, if needed)"
   ]
  },
  {
   "cell_type": "code",
   "execution_count": 964,
   "id": "8b9d79eb",
   "metadata": {},
   "outputs": [],
   "source": [
    "\n",
    "avg_acc = []\n",
    "\n",
    "avg_prec_maj = []\n",
    "avg_recall_maj = []\n",
    "avg_f1_maj = []\n",
    "\n",
    "avg_prec_min = []\n",
    "avg_recall_min = []\n",
    "avg_f1_min = []\n",
    "\n",
    "for i in range (50) :\n",
    "    feature_train_dump, feature_test, label_train_dump, label_test = train_test_split(og_feature_train, og_label_train, test_size=0.15)\n",
    "\n",
    "    \n",
    "    # Create model \n",
    "    model = RandomForestClassifier(n_estimators = 45, max_depth = best_max_depth, random_state = 1)\n",
    "    # Train the model on training data\n",
    "    model.fit(feature_train, label_train.values.ravel());\n",
    "    # Predict labels over the test data\n",
    "    model.predict(feature_test)\n",
    "    \n",
    "    report = classification_report(label_test, model.predict(feature_test), output_dict=True)\n",
    "    \n",
    "    # Evaluate accuracy over the testing data\n",
    "    avg_acc.append(report['accuracy'])\n",
    "    \n",
    "    \n",
    "    maj_precision = report['1.0']['precision'] \n",
    "    maj_recall = report['1.0']['recall']    \n",
    "    maj_f1 = report['1.0']['f1-score']\n",
    "    \n",
    "    min_precision = report['0.0']['precision'] \n",
    "    min_recall = report['0.0']['recall']    \n",
    "    min_f1 = report['0.0']['f1-score']\n",
    "    \n",
    "    avg_prec_maj.append(maj_precision)\n",
    "    avg_recall_maj.append(maj_recall)\n",
    "    avg_f1_maj.append(maj_f1)\n",
    "    \n",
    "    avg_prec_min.append(min_precision)\n",
    "    avg_recall_min.append(min_recall)\n",
    "    avg_f1_min.append(min_f1)\n",
    "    \n",
    "    #print(classification_report(label_test, model.predict(feature_test)))\n"
   ]
  },
  {
   "cell_type": "code",
   "execution_count": 965,
   "id": "f7bce041",
   "metadata": {},
   "outputs": [
    {
     "name": "stdout",
     "output_type": "stream",
     "text": [
      "0.7455172413793103\n",
      "0.7513821942775336\n",
      "0.961539853273806\n",
      "0.8430221968511101\n",
      "0.6768462376976309\n",
      "0.2042108726214108\n",
      "0.3103949107000457\n"
     ]
    }
   ],
   "source": [
    "print(mean(avg_acc))\n",
    "print(mean(avg_prec_maj))\n",
    "print(mean(avg_recall_maj))\n",
    "print(mean(avg_f1_maj))\n",
    "print(mean(avg_prec_min))\n",
    "print(mean(avg_recall_min))\n",
    "print(mean(avg_f1_min))"
   ]
  },
  {
   "cell_type": "code",
   "execution_count": 982,
   "id": "d8d8db0f",
   "metadata": {},
   "outputs": [
    {
     "data": {
      "image/png": "[encoded data removed]",
      "text/plain": [
       "<Figure size 432x288 with 1 Axes>"
      ]
     },
     "metadata": {
      "needs_background": "light"
     },
     "output_type": "display_data"
    }
   ],
   "source": [
    "# Saved mean metrics from i = 20 iterations above\n",
    "X = ['Precision','Recall','F1 Score'] \n",
    "majority = [mean(avg_prec_maj), mean(avg_recall_maj), mean(avg_f1_maj)] \n",
    "minority = [mean(avg_prec_min), mean(avg_recall_min), mean(avg_f1_min)] \n",
    "  \n",
    "X_axis = np.arange(len(X)) \n",
    "  \n",
    "plt.bar(X_axis - 0.2, majority, 0.4, label = 'Sleep Disorder') \n",
    "plt.bar(X_axis + 0.2, minority, 0.4, label = 'No Sleep Disorder') \n",
    "  \n",
    "plt.xticks(X_axis, X) \n",
    "plt.ylabel('Percentage') \n",
    "plt.title('Evaluation Metrics by Class') \n",
    "plt.legend(bbox_to_anchor=(1.02, 1), loc='upper left', borderaxespad=0) \n",
    "plt.show() "
   ]
  },
  {
   "cell_type": "code",
   "execution_count": 991,
   "id": "ffddd3ff",
   "metadata": {},
   "outputs": [
    {
     "data": {
      "image/png": "[encoded data removed]",
      "text/plain": [
       "<Figure size 432x288 with 1 Axes>"
      ]
     },
     "metadata": {
      "needs_background": "light"
     },
     "output_type": "display_data"
    }
   ],
   "source": [
    "# For SVM: Saved mean metrics from i = 20 iterations above\n",
    "X = ['Precision','Recall','F1 Score'] \n",
    "majority = [0.74, 0.99, 0.85] \n",
    "minority = [0.86, 0.12, 0.22] \n",
    "  \n",
    "X_axis = np.arange(len(X)) \n",
    "  \n",
    "plt.bar(X_axis - 0.2, majority, 0.4, label = 'Sleep Disorder') \n",
    "plt.bar(X_axis + 0.2, minority, 0.4, label = 'No Sleep Disorder') \n",
    "  \n",
    "plt.xticks(X_axis, X) \n",
    "plt.ylabel('Percentage') \n",
    "plt.title('Evaluation Metrics by Class') \n",
    "plt.legend(bbox_to_anchor=(1.02, 1), loc='upper left', borderaxespad=0) \n",
    "plt.show() "
   ]
  },
  {
   "cell_type": "code",
   "execution_count": null,
   "id": "0dd89738",
   "metadata": {},
   "outputs": [],
   "source": []
  }
 ],
 "metadata": {
  "kernelspec": {
   "display_name": "Python 3 (ipykernel)",
   "language": "python",
   "name": "python3"
  },
  "language_info": {
   "codemirror_mode": {
    "name": "ipython",
    "version": 3
   },
   "file_extension": ".py",
   "mimetype": "text/x-python",
   "name": "python",
   "nbconvert_exporter": "python",
   "pygments_lexer": "ipython3",
   "version": "3.9.12"
  }
 },
 "nbformat": 4,
 "nbformat_minor": 5
}
