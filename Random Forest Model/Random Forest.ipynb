{
 "cells": [
  {
   "cell_type": "markdown",
   "id": "0263d0bb",
   "metadata": {},
   "source": [
    "# Import "
   ]
  },
  {
   "cell_type": "code",
   "execution_count": 410,
   "id": "9c7d3bc7",
   "metadata": {},
   "outputs": [],
   "source": [
    "# Data structure libaries\n",
    "import pandas as pd\n",
    "import numpy as np\n",
    "\n",
    "# ML libraries\n",
    "from sklearn.ensemble import RandomForestClassifier\n",
    "from sklearn.metrics import accuracy_score\n",
    "from sklearn.model_selection import RandomizedSearchCV, train_test_split\n",
    "from scipy.stats import randint\n",
    "from sklearn.neighbors import KernelDensity\n",
    "\n",
    "# Math libraries\n",
    "from statistics import mean \n",
    "\n",
    "# Visualization libraries\n",
    "import matplotlib.pyplot as plt\n",
    "from sklearn.metrics import classification_report, confusion_matrix"
   ]
  },
  {
   "cell_type": "markdown",
   "id": "7f88e9fb",
   "metadata": {},
   "source": [
    "# Load Dataset"
   ]
  },
  {
   "cell_type": "code",
   "execution_count": 426,
   "id": "29ac6456",
   "metadata": {},
   "outputs": [],
   "source": [
    "sleep_data = pd.read_csv('./data/Archive/processed_data.csv')"
   ]
  },
  {
   "cell_type": "markdown",
   "id": "ab3f0318",
   "metadata": {},
   "source": [
    "# Data Preprocessing (Normalization)"
   ]
  },
  {
   "cell_type": "code",
   "execution_count": 427,
   "id": "27e6d58d",
   "metadata": {},
   "outputs": [],
   "source": [
    "def normalize_feature(feature_to_normalize, max_val, min_val) :\n",
    "    feature_length = len(feature_to_normalize)\n",
    "    normalized = []\n",
    "    for i in range(feature_length) :\n",
    "        normalized.append(((feature_to_normalize[i] - min_val) / (max_val - min_val)))\n",
    "    return normalized"
   ]
  },
  {
   "cell_type": "code",
   "execution_count": 428,
   "id": "d6bd7732",
   "metadata": {},
   "outputs": [],
   "source": [
    "# Removing unnamed column\n",
    "sleep_data = sleep_data.loc[:, ~sleep_data.columns.str.contains('^Unnamed')]"
   ]
  },
  {
   "cell_type": "code",
   "execution_count": 429,
   "id": "ef3b8c40",
   "metadata": {},
   "outputs": [],
   "source": [
    "# Removing SEQN\n",
    "sleep_data = sleep_data.loc[:, ~sleep_data.columns.str.contains('SEQN')]"
   ]
  },
  {
   "cell_type": "code",
   "execution_count": 430,
   "id": "1c87bea9",
   "metadata": {},
   "outputs": [],
   "source": [
    "# Rearrange columns\n",
    "new_cols = ['RIAGENDR', 'RIDAGEYR', 'SLQ040', 'SLQ050', 'PAQ605', 'PAQ620', 'SMQ040', \n",
    "                      'ALQ130', 'DIQ010', 'BMXBMI', 'physical_activity', 'smoking', 'alcohol', 'diabetes',\n",
    "                      'DR1IMAGN', 'DR1IIRON', 'DR1ISFAT', 'DR1IPFAT', 'DR1IMFAT', \n",
    "                      'DR2IMAGN', 'DR2IIRON', 'DR2ISFAT', 'DR2IPFAT', 'DR2IMFAT', 'sleep_disorder']\n",
    "\n",
    "sleep_data = sleep_data[new_cols]\n",
    "\n",
    "# Normalize data\n",
    "maxList = sleep_data.max()\n",
    "minList = sleep_data.min()\n",
    "\n",
    "# Lists that store the normalized values\n",
    "RIAGENDR_norm = normalize_feature(sleep_data['RIAGENDR'].values.tolist(), maxList[0], minList[0])\n",
    "RIDAGEYR_norm = normalize_feature(sleep_data['RIDAGEYR'].values.tolist(), maxList[1], minList[1])\n",
    "SLQ040_norm = normalize_feature(sleep_data['SLQ040'].values.tolist(), maxList[2], minList[2])\n",
    "SLQ050_norm = normalize_feature(sleep_data['SLQ050'].values.tolist(), maxList[3], minList[3])\n",
    "\n",
    "PAQ605_norm = normalize_feature(sleep_data['PAQ605'].values.tolist(), maxList[4], minList[4])\n",
    "PAQ620_norm = normalize_feature(sleep_data['PAQ620'].values.tolist(), maxList[5], minList[5])\n",
    "SMQ040_norm = normalize_feature(sleep_data['SMQ040'].values.tolist(), maxList[6], minList[6])\n",
    "ALQ130_norm = normalize_feature(sleep_data['ALQ130'].values.tolist(), maxList[7], minList[7])\n",
    "\n",
    "DIQ010_norm = normalize_feature(sleep_data['DIQ010'].values.tolist(), maxList[8], minList[8])\n",
    "BMXBMI_norm = normalize_feature(sleep_data['BMXBMI'].values.tolist(), maxList[9], minList[9])\n",
    "physical_activity_norm = normalize_feature(sleep_data['physical_activity'].values.tolist(), maxList[10], minList[10])\n",
    "smoking_norm = normalize_feature(sleep_data['smoking'].values.tolist(), maxList[11], minList[11])\n",
    "\n",
    "alcohol_norm = normalize_feature(sleep_data['alcohol'].values.tolist(), maxList[12], minList[12])\n",
    "diabetes_norm = normalize_feature(sleep_data['diabetes'].values.tolist(), maxList[13], minList[13])\n",
    "DR1IMAGN_norm = normalize_feature(sleep_data['DR1IMAGN'].values.tolist(), maxList[14], minList[14])\n",
    "DR1IIRON_norm = normalize_feature(sleep_data['DR1IIRON'].values.tolist(), maxList[15], minList[15])\n",
    "\n",
    "DR1ISFAT_norm = normalize_feature(sleep_data['DR1ISFAT'].values.tolist(), maxList[16], minList[16])\n",
    "DR1IPFAT_norm = normalize_feature(sleep_data['DR1IPFAT'].values.tolist(), maxList[17], minList[17])\n",
    "DR1IMFAT_norm = normalize_feature(sleep_data['DR1IMFAT'].values.tolist(), maxList[18], minList[18])\n",
    "DR2IMAGN_norm = normalize_feature(sleep_data['DR2IMAGN'].values.tolist(), maxList[19], minList[19])\n",
    "\n",
    "DR2IIRON_norm = normalize_feature(sleep_data['DR2IIRON'].values.tolist(), maxList[20], minList[20])\n",
    "DR2ISFAT_norm = normalize_feature(sleep_data['DR2ISFAT'].values.tolist(), maxList[21], minList[21])\n",
    "DR2IPFAT_norm = normalize_feature(sleep_data['DR2IPFAT'].values.tolist(), maxList[22], minList[22])\n",
    "DR2IMFAT_norm = normalize_feature(sleep_data['DR2IMFAT'].values.tolist(), maxList[23], minList[23])\n",
    "\n",
    "sleep_disorder_norm = normalize_feature(sleep_data['sleep_disorder'].values.tolist(), maxList[24], minList[24])\n",
    "\n",
    "# Create a new dataframe with the normalized values\n",
    "normalized_features = {\n",
    "         'RIAGENDR': RIAGENDR_norm,\n",
    "         'RIDAGEYR': RIDAGEYR_norm, \n",
    "         'SLQ040': SLQ040_norm,\n",
    "         'SLQ050': SLQ050_norm,\n",
    "         'PAQ605': PAQ605_norm,\n",
    "         'PAQ620': PAQ620_norm, \n",
    "         'SMQ040': SMQ040_norm,\n",
    "         'ALQ130': ALQ130_norm,\n",
    "         'DIQ010': DIQ010_norm,\n",
    "         'BMXBMI': BMXBMI_norm,\n",
    "         'physical_activity': physical_activity_norm, \n",
    "         'smoking': smoking_norm,\n",
    "         'alcohol': alcohol_norm,\n",
    "         'diabetes': diabetes_norm,\n",
    "         'DR1IMAGN': DR1IMAGN_norm,\n",
    "         'DR1IIRON': DR1IIRON_norm, \n",
    "         'DR1ISFAT': DR1ISFAT_norm,\n",
    "         'DR1IPFAT': DR1IPFAT_norm,\n",
    "         'DR1IMFAT': DR1IMFAT_norm,\n",
    "         'DR2IMAGN': DR2IMAGN_norm,\n",
    "         'DR2IIRON': DR2IIRON_norm, \n",
    "         'DR2ISFAT': DR2ISFAT_norm,\n",
    "         'DR2IPFAT': DR2IPFAT_norm,\n",
    "         'DR2IMFAT': DR2IMFAT_norm,\n",
    "         'sleep_disorder': sleep_disorder_norm}"
   ]
  },
  {
   "cell_type": "code",
   "execution_count": 431,
   "id": "61e127cc",
   "metadata": {},
   "outputs": [],
   "source": [
    "# Convert dictionary into dataframe\n",
    "norm_df = pd.DataFrame.from_dict(normalized_features)"
   ]
  },
  {
   "cell_type": "code",
   "execution_count": 432,
   "id": "7ea05741",
   "metadata": {},
   "outputs": [],
   "source": [
    "# Drop columns that are already hot encoded\n",
    "norm_df = norm_df.drop(columns=['RIAGENDR', 'SLQ040', 'SLQ050', 'PAQ605', 'PAQ620', 'SMQ040', 'ALQ130', 'DIQ010'])"
   ]
  },
  {
   "cell_type": "code",
   "execution_count": 433,
   "id": "54dff906",
   "metadata": {},
   "outputs": [
    {
     "name": "stdout",
     "output_type": "stream",
     "text": [
      "Index(['RIDAGEYR', 'BMXBMI', 'physical_activity', 'smoking', 'alcohol',\n",
      "       'diabetes', 'DR1IMAGN', 'DR1IIRON', 'DR1ISFAT', 'DR1IPFAT', 'DR1IMFAT',\n",
      "       'DR2IMAGN', 'DR2IIRON', 'DR2ISFAT', 'DR2IPFAT', 'DR2IMFAT',\n",
      "       'sleep_disorder'],\n",
      "      dtype='object')\n"
     ]
    }
   ],
   "source": [
    "print(norm_df.columns)"
   ]
  },
  {
   "cell_type": "code",
   "execution_count": 434,
   "id": "ccb18fa1",
   "metadata": {},
   "outputs": [
    {
     "name": "stdout",
     "output_type": "stream",
     "text": [
      "2524\n",
      "1259\n"
     ]
    }
   ],
   "source": [
    "print(len(norm_df))\n",
    "print(len(norm_df[norm_df['sleep_disorder'] == 1.0]))"
   ]
  },
  {
   "cell_type": "code",
   "execution_count": 435,
   "id": "d667651e",
   "metadata": {},
   "outputs": [
    {
     "name": "stdout",
     "output_type": "stream",
     "text": [
      "2524\n",
      "1259\n"
     ]
    }
   ],
   "source": [
    "norm_df = norm_df.dropna()\n",
    "print(len(norm_df))\n",
    "print(len(norm_df[norm_df['sleep_disorder'] == 1.0]))"
   ]
  },
  {
   "cell_type": "markdown",
   "id": "394e5df0",
   "metadata": {},
   "source": [
    "# Train - Validation Split"
   ]
  },
  {
   "cell_type": "code",
   "execution_count": 436,
   "id": "8646d3da",
   "metadata": {},
   "outputs": [],
   "source": [
    "# All feature data\n",
    "features = norm_df.iloc[:,:-1]\n",
    "# All label data\n",
    "labels = norm_df.iloc[:,-1:]\n",
    "\n",
    "# Using the remaining training records, split into validation, slightly larger split to make it comparable to test size\n",
    "feature_train, feature_val, label_train, label_val = train_test_split(features, labels, test_size=0.1)\n",
    "\n",
    "# In the end, we get 3 groups:\n",
    "\n",
    "# feature_train\n",
    "# label_train\n",
    "\n",
    "# feature_test\n",
    "# label_test\n",
    "\n",
    "# feature_validation\n",
    "# label_validation"
   ]
  },
  {
   "cell_type": "markdown",
   "id": "c5e34598",
   "metadata": {},
   "source": [
    "# Kernel Density Estimation (Rank Removal)"
   ]
  },
  {
   "cell_type": "code",
   "execution_count": 446,
   "id": "527b28e6",
   "metadata": {},
   "outputs": [],
   "source": [
    "def rank_removal(x_train, y_train, feature_col, y_col, rank_threshold) :\n",
    "    '''\n",
    "        :param x_train: the np array of learning data\n",
    "        :param y_train: the np array of labels for learning data\n",
    "        :param feature_col: actual column names []\n",
    "        :param y_col: the label column\n",
    "        :param rank_threshold: the percentage of data we want to drop (like 0.30 to keep the top 70% of the data)\n",
    "        :returns x_train_df, y_train_df, x_train, y_train, rows_to_drop: returns the dataframe versions of the remaining rows after removal, as well as the indicies of the rows dropped\n",
    "    '''\n",
    "    # Convert to 2d tabular data\n",
    "    x_train_df = pd.DataFrame(x_train, columns = feature_col)\n",
    "    y_train_df = pd.DataFrame(y_train, columns = [y_col])\n",
    "    \n",
    "    # Fit the data for the kernel\n",
    "    kde = KernelDensity(kernel='gaussian', bandwidth=0.2).fit(x_train_df)\n",
    "    # Caculate the probability density \n",
    "    logprob = kde.score_samples(x_train_df)\n",
    "\n",
    "    # Drop the bottom k%, keeping the top k%\n",
    "    perc = rank_threshold\n",
    "    perc = int(len(logprob) * perc)\n",
    "\n",
    "    print('Drop Bottom ' + str(rank_threshold * 100) + '%')\n",
    "    rows_to_drop = np.argpartition(logprob, perc)[:perc]\n",
    "    print('Number of rows dropped: ', str(len(rows_to_drop)))\n",
    "    \n",
    "    x_train_df = x_train_df.drop(rows_to_drop, axis=0)\n",
    "    y_train_df = y_train_df.drop(rows_to_drop, axis=0)\n",
    "    \n",
    "    return x_train_df, y_train_df, rows_to_drop"
   ]
  },
  {
   "cell_type": "code",
   "execution_count": 447,
   "id": "dd802aa9",
   "metadata": {},
   "outputs": [
    {
     "name": "stdout",
     "output_type": "stream",
     "text": [
      "Index(['RIDAGEYR', 'BMXBMI', 'physical_activity', 'smoking', 'alcohol',\n",
      "       'diabetes', 'DR1IMAGN', 'DR1IIRON', 'DR1ISFAT', 'DR1IPFAT', 'DR1IMFAT',\n",
      "       'DR2IMAGN', 'DR2IIRON', 'DR2ISFAT', 'DR2IPFAT', 'DR2IMFAT'],\n",
      "      dtype='object')\n"
     ]
    }
   ],
   "source": [
    "feature_col = ['RIDAGEYR', 'BMXBMI', 'physical_activity',\n",
    "               'smoking', 'alcohol', 'diabetes', 'DR1IMAGN', 'DR1IIRON', 'DR1ISFAT',\n",
    "               'DR1IPFAT', 'DR1IMFAT', 'DR2IMAGN', 'DR2IIRON', 'DR2ISFAT', 'DR2IPFAT',\n",
    "               'DR2IMFAT']\n",
    "y_col = ['sleep_disorder']\n",
    "\n",
    "print(feature_train.columns)"
   ]
  },
  {
   "cell_type": "code",
   "execution_count": 448,
   "id": "1d330d14",
   "metadata": {},
   "outputs": [
    {
     "name": "stdout",
     "output_type": "stream",
     "text": [
      "Drop Bottom 30.0%\n",
      "Number of rows dropped:  681\n"
     ]
    }
   ],
   "source": [
    "rank_threshold = 0.30\n",
    "feature_train, label_train, rows_dropped = rank_removal(np.array(feature_train), np.array(label_train), feature_col, y_col, rank_threshold)"
   ]
  },
  {
   "cell_type": "markdown",
   "id": "e66b85b0",
   "metadata": {},
   "source": [
    "# Hyperparameter Tuning "
   ]
  },
  {
   "cell_type": "code",
   "execution_count": 449,
   "id": "9be6272e",
   "metadata": {},
   "outputs": [],
   "source": [
    "# The maximum depth allowed. Generally, if the depth is too low we will underfit. If it is too high we will overfit \n",
    "n_trees = list(range(1,100))\n",
    "best_param = []\n",
    "accuracy_list = []\n",
    "\n",
    "# Iterate over values of num_trees to find best fit\n",
    "for n in n_trees :\n",
    "    param_dist = {'n_estimators': [n], 'max_depth': randint(1,10)}\n",
    "\n",
    "    # Create a random forest classifier\n",
    "    model = RandomForestClassifier()\n",
    "\n",
    "    # Use random search to find the best hyperparameters\n",
    "    rand_search = RandomizedSearchCV(model, param_distributions = param_dist, n_iter=3, cv=3)\n",
    "\n",
    "    # Fit the random search object to the data\n",
    "    rand_search.fit(feature_train, label_train.values.ravel())\n",
    "    \n",
    "    # Create a variable for the best model\n",
    "    best_param.append(rand_search.best_params_)\n",
    "    accuracy_list.append(accuracy_score(label_val, rand_search.predict(feature_val)))\n",
    "    "
   ]
  },
  {
   "cell_type": "code",
   "execution_count": 450,
   "id": "055abdbc",
   "metadata": {},
   "outputs": [
    {
     "name": "stdout",
     "output_type": "stream",
     "text": [
      "[0.5612648221343873, 0.5177865612648221, 0.5019762845849802, 0.43873517786561267, 0.525691699604743, 0.4980237154150198, 0.525691699604743, 0.5217391304347826, 0.5296442687747036, 0.541501976284585, 0.5296442687747036, 0.5375494071146245, 0.5217391304347826, 0.48616600790513836, 0.5177865612648221, 0.5177865612648221, 0.5533596837944664, 0.5098814229249012, 0.5533596837944664, 0.5217391304347826, 0.5335968379446641, 0.5573122529644269, 0.5098814229249012, 0.525691699604743, 0.4980237154150198, 0.525691699604743, 0.5375494071146245, 0.5652173913043478, 0.5098814229249012, 0.5296442687747036, 0.5375494071146245, 0.5138339920948617, 0.5375494071146245, 0.5217391304347826, 0.541501976284585, 0.5138339920948617, 0.5335968379446641, 0.5217391304347826, 0.5098814229249012, 0.5177865612648221, 0.5375494071146245, 0.5612648221343873, 0.5573122529644269, 0.5335968379446641, 0.4980237154150198, 0.5217391304347826, 0.5533596837944664, 0.5059288537549407, 0.5296442687747036, 0.541501976284585, 0.5335968379446641, 0.5059288537549407, 0.5098814229249012, 0.4901185770750988, 0.541501976284585, 0.5533596837944664, 0.5177865612648221, 0.5296442687747036, 0.5059288537549407, 0.5296442687747036, 0.5375494071146245, 0.5454545454545454, 0.5217391304347826, 0.541501976284585, 0.525691699604743, 0.5375494071146245, 0.5217391304347826, 0.5296442687747036, 0.5612648221343873, 0.5375494071146245, 0.5138339920948617, 0.5612648221343873, 0.541501976284585, 0.5138339920948617, 0.5217391304347826, 0.5731225296442688, 0.5296442687747036, 0.5454545454545454, 0.5098814229249012, 0.525691699604743, 0.5217391304347826, 0.5335968379446641, 0.5098814229249012, 0.5454545454545454, 0.525691699604743, 0.5138339920948617, 0.5375494071146245, 0.4901185770750988, 0.5098814229249012, 0.5296442687747036, 0.5375494071146245, 0.5059288537549407, 0.5375494071146245, 0.5335968379446641, 0.5217391304347826, 0.5177865612648221, 0.549407114624506, 0.5454545454545454, 0.5375494071146245]\n"
     ]
    }
   ],
   "source": [
    "#best_param = {'max_depth': 4, 'n_estimators': 1}\n",
    "print(accuracy_list)"
   ]
  },
  {
   "cell_type": "code",
   "execution_count": 451,
   "id": "44cc2b79",
   "metadata": {},
   "outputs": [
    {
     "name": "stdout",
     "output_type": "stream",
     "text": [
      "Best Number of Decision Trees:  77\n",
      "Best Maximum Depth:  6\n",
      "Best Accuracy:  0.5731225296442688\n",
      "Average Accuracy:  0.527368547131393\n"
     ]
    }
   ],
   "source": [
    "index = (accuracy_list.index(max(accuracy_list))) + 1\n",
    "best_n_tree = best_param[index]['n_estimators']\n",
    "best_max_depth = best_param[index]['max_depth']\n",
    "print('Best Number of Decision Trees: ', best_n_tree)\n",
    "print('Best Maximum Depth: ', best_max_depth)\n",
    "print('Best Accuracy: ', max(accuracy_list))\n",
    "print('Average Accuracy: ', mean(accuracy_list))"
   ]
  },
  {
   "cell_type": "markdown",
   "id": "0ac99435",
   "metadata": {},
   "source": [
    "# Random Forest "
   ]
  },
  {
   "cell_type": "code",
   "execution_count": 452,
   "id": "7f9fa1db",
   "metadata": {},
   "outputs": [],
   "source": [
    "feature_train_dump, feature_test, label_train_dump, label_test = train_test_split(feature_train, label_train, test_size=0.1)"
   ]
  },
  {
   "cell_type": "code",
   "execution_count": 453,
   "id": "5ee66a98",
   "metadata": {},
   "outputs": [],
   "source": [
    "# Create model \n",
    "model = RandomForestClassifier(n_estimators = best_n_tree, max_depth = best_max_depth, random_state = 1)\n",
    "# Train the model on training data\n",
    "model.fit(feature_train, label_train.values.ravel());\n",
    "# Predict labels over the test data\n",
    "model.predict(feature_test)\n",
    "# Evaluate accuracy over the testing data\n",
    "accuracy = accuracy_score(label_test, model.predict(feature_test))"
   ]
  },
  {
   "cell_type": "code",
   "execution_count": 454,
   "id": "5f7e54d9",
   "metadata": {},
   "outputs": [
    {
     "name": "stdout",
     "output_type": "stream",
     "text": [
      "0.8490566037735849\n"
     ]
    }
   ],
   "source": [
    "print(accuracy)"
   ]
  },
  {
   "cell_type": "code",
   "execution_count": null,
   "id": "dba1af7b",
   "metadata": {},
   "outputs": [],
   "source": []
  },
  {
   "cell_type": "markdown",
   "id": "412702f1",
   "metadata": {},
   "source": [
    "# Interpret Results"
   ]
  },
  {
   "cell_type": "code",
   "execution_count": 455,
   "id": "3497c96b",
   "metadata": {},
   "outputs": [
    {
     "data": {
      "image/png": "[encoded data removed]",
      "text/plain": [
       "<Figure size 576x576 with 1 Axes>"
      ]
     },
     "metadata": {
      "needs_background": "light"
     },
     "output_type": "display_data"
    }
   ],
   "source": [
    "# Generate predictions with the best model. This will return regression values which are continuous\n",
    "y_pred = model.predict(feature_test)\n",
    "\n",
    "y_pred_binary = []\n",
    "for i in y_pred:\n",
    "    if (i < 0.5) :\n",
    "        y_pred_binary.append(0)\n",
    "    else :\n",
    "        y_pred_binary.append(1)\n",
    "        \n",
    "# Create the confusion matrix\n",
    "cm = confusion_matrix(label_test, y_pred_binary)\n",
    "\n",
    "fig, ax = plt.subplots(figsize=(8, 8))\n",
    "ax.imshow(cm)\n",
    "ax.grid(False)\n",
    "ax.xaxis.set(ticks=(0, 1), ticklabels=('Predicted Negative Sleep Disorder ', 'Predicted Positive Sleep Disorder'))\n",
    "ax.yaxis.set(ticks=(0, 1), ticklabels=('Actual Negative Sleep Disorder', 'Actual Positive Sleep Disorder'))\n",
    "ax.set_ylim(1.5, -0.5)\n",
    "for i in range(2):\n",
    "    for j in range(2):\n",
    "        ax.text(j, i, cm[i, j], ha='center', va='center', color='red')\n",
    "plt.show()"
   ]
  },
  {
   "cell_type": "code",
   "execution_count": 456,
   "id": "c1e67942",
   "metadata": {},
   "outputs": [
    {
     "name": "stdout",
     "output_type": "stream",
     "text": [
      "              precision    recall  f1-score   support\n",
      "\n",
      "         0.0       0.85      0.87      0.86        85\n",
      "         1.0       0.85      0.82      0.84        74\n",
      "\n",
      "    accuracy                           0.85       159\n",
      "   macro avg       0.85      0.85      0.85       159\n",
      "weighted avg       0.85      0.85      0.85       159\n",
      "\n"
     ]
    }
   ],
   "source": [
    "print(classification_report(label_test, y_pred_binary))"
   ]
  },
  {
   "cell_type": "markdown",
   "id": "a304b731",
   "metadata": {},
   "source": [
    "# Driver (to run entire experiment over k iterations, if needed)"
   ]
  },
  {
   "cell_type": "code",
   "execution_count": null,
   "id": "379356c9",
   "metadata": {},
   "outputs": [],
   "source": []
  },
  {
   "cell_type": "code",
   "execution_count": null,
   "id": "f7bce041",
   "metadata": {},
   "outputs": [],
   "source": []
  }
 ],
 "metadata": {
  "kernelspec": {
   "display_name": "Python 3 (ipykernel)",
   "language": "python",
   "name": "python3"
  },
  "language_info": {
   "codemirror_mode": {
    "name": "ipython",
    "version": 3
   },
   "file_extension": ".py",
   "mimetype": "text/x-python",
   "name": "python",
   "nbconvert_exporter": "python",
   "pygments_lexer": "ipython3",
   "version": "3.9.12"
  }
 },
 "nbformat": 4,
 "nbformat_minor": 5
}
