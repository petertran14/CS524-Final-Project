{
 "cells": [
  {
   "cell_type": "markdown",
   "id": "d466b146",
   "metadata": {},
   "source": [
    "# Import"
   ]
  },
  {
   "cell_type": "code",
   "execution_count": 1,
   "id": "e716a6ca",
   "metadata": {},
   "outputs": [],
   "source": [
    "import pandas as pd\n",
    "import numpy as np\n",
    "from functools import reduce"
   ]
  },
  {
   "cell_type": "markdown",
   "id": "5eaca712",
   "metadata": {},
   "source": [
    "# Load Dataset"
   ]
  },
  {
   "cell_type": "code",
   "execution_count": 106,
   "id": "634786c5",
   "metadata": {},
   "outputs": [],
   "source": [
    "# SEQN - Respondent sequence number\n",
    "# 2015-2016\n",
    "df_demo1 = pd.read_sas(\"./Data/2015-2016/2015-2016_DEMO_I.XPT\")#Demographic Variables and Sample Weights,1)Gender:'RIAGENDR', 2)Age:'RIDAGEYR', 3)Pregnancy:'RIDEXPRG'\n",
    "df_demo1 = df_demo1[['SEQN','RIAGENDR', 'RIDAGEYR', 'RIDEXPRG']]\n",
    "\n",
    "df_sleep1 = pd.read_sas(\"./Data/2015-2016/2015-2016_SLQ_I.XPT\")#Sleep Disorders, *1)Sleep hours:'SLD012', *2)How often do you snore?:'SLQ030', 3)How often do you snort or stop breathing:'SLQ040', 4)Ever told doctor had trouble sleeping?:'SLQ050'\n",
    "df_sleep1 = df_sleep1[['SEQN', 'SLQ040', 'SLQ050', 'SLD012', 'SLQ120']]\n",
    "\n",
    "df_dep1 = pd.read_sas(\"./Data/2015-2016/2015-2016_DPQ_I.XPT\") \n",
    "df_dep1 = df_dep1[['SEQN', 'DPQ020', 'DPQ030', 'DPQ040']]\n",
    "\n",
    "df_bmi1 = pd.read_sas(\"./Data/2015-2016/2015-2016_BMX_I.XPT\")#Body Mass Index:'BMXBMI'\n",
    "df_bmi1 = df_bmi1[['SEQN', 'BMXBMI']]\n",
    "\n",
    "\n",
    "\n",
    "# 2015 - 2016 Day 1\n",
    "df_mag1_d1 = pd.read_sas(\"./Data/2015-2016/2015-2016_Day1_I.XPT\")#Magnesium day 1:'DR1IMAGN'\n",
    "df_mag1_d1 = df_mag1_d1[['SEQN', 'DR1IMAGN']]\n",
    "\n",
    "df_iron1_d1 = pd.read_sas(\"./Data/2015-2016/2015-2016_Day1_I.XPT\")#Iron day 1:'DR1IIRON'\n",
    "df_iron1_d1 = df_iron1_d1[['SEQN', 'DR1IIRON']]\n",
    "\n",
    "df_satfat1_d1 = pd.read_sas(\"./Data/2015-2016/2015-2016_Day1_I.XPT\")#Total saturated fat day 1:'DR1ISFAT'\n",
    "df_satfat1_d1 = df_satfat1_d1[['SEQN', 'DR1ISFAT']]\n",
    "\n",
    "df_polyfat1_d1 = pd.read_sas(\"./Data/2015-2016/2015-2016_Day1_I.XPT\")#Total polyunsaturated fat day 1:'DR1IPFAT'\n",
    "df_polyfat1_d1 = df_polyfat1_d1[['SEQN', 'DR1IPFAT']]\n",
    "\n",
    "df_monofat1_d1 = pd.read_sas(\"./Data/2015-2016/2015-2016_Day1_I.XPT\")#Total polyunsaturated fat day 1:'DR1IMFAT'\n",
    "df_monofat1_d1 = df_monofat1_d1[['SEQN', 'DR1IMFAT']]\n",
    "\n",
    "# 2015 - 2016 Day 2\n",
    "df_mag1_d2 = pd.read_sas(\"./Data/2015-2016/2015-2016_Day2_I.XPT\")#Magnesium day 2:'DR2IMAGN'\n",
    "df_mag1_d2 = df_mag1_d2[['SEQN', 'DR2IMAGN']]\n",
    "\n",
    "df_iron1_d2 = pd.read_sas(\"./Data/2015-2016/2015-2016_Day2_I.XPT\")#Iron day 2:'DR2IIRON'\n",
    "df_iron1_d2 = df_iron1_d2[['SEQN', 'DR2IIRON']]\n",
    "\n",
    "df_satfat1_d2 = pd.read_sas(\"./Data/2015-2016/2015-2016_Day2_I.XPT\")#Total saturated fat day 2:'DR2ISFAT'\n",
    "df_satfat1_d2 = df_satfat1_d2[['SEQN', 'DR2ISFAT']]\n",
    "\n",
    "df_polyfat1_d2 = pd.read_sas(\"./Data/2015-2016/2015-2016_Day2_I.XPT\")#Total polyunsaturated fat day 2:'DR2IPFAT'\n",
    "df_polyfat1_d2 = df_polyfat1_d2[['SEQN', 'DR2IPFAT']]\n",
    "\n",
    "df_monofat1_d2 = pd.read_sas(\"./Data/2015-2016/2015-2016_Day2_I.XPT\")#Total polyunsaturated fat day 2:'DR2IMFAT'\n",
    "df_monofat1_d2 = df_monofat1_d2[['SEQN', 'DR2IMFAT']]\n",
    "\n",
    "\n",
    "\n",
    "\n",
    "# 2017-2018\n",
    "df_demo2 = pd.read_sas(\"./Data/2017-2018/2017-2018_DEMO_J.XPT\")#Demographic Variables and Sample Weights,1)Gender:'RIAGENDR', 2)Age:'RIDAGEYR', 3)Pregnancy:'RIDEXPRG'\n",
    "df_demo2 = df_demo2[['SEQN','RIAGENDR', 'RIDAGEYR', 'RIDEXPRG']]\n",
    "\n",
    "df_sleep2 = pd.read_sas(\"./Data/2017-2018/2017-2018_SLQ_J.XPT\")#Sleep Disorders, 1)Sleep hours:'SLD012', 2)How often do you snore?:'SLQ030', 3)How often do you snort or stop breathing:'SLQ040', 4)Ever told doctor had trouble sleeping?:'SLQ050'\n",
    "df_sleep2 = df_sleep2[['SEQN', 'SLQ040', 'SLQ050', 'SLD012', 'SLQ120']]\n",
    "\n",
    "df_dep2 = pd.read_sas(\"./Data/2017-2018/2017-2018_DPQ_J.XPT\") \n",
    "df_dep2 = df_dep2[['SEQN', 'DPQ020', 'DPQ030', 'DPQ040']]\n",
    "\n",
    "df_bmi2 = pd.read_sas(\"./Data/2017-2018/2017-2018_BMX_J.XPT\")#Body Mass Index:'BMXBMI'\n",
    "df_bmi2 = df_bmi2[['SEQN', 'BMXBMI']]\n",
    "\n",
    "\n",
    "\n",
    "\n",
    "# 2017 - 2018 Day 1\n",
    "df_mag2_d1 = pd.read_sas(\"./Data/2017-2018/2017-2018_Day1_J.XPT\")#Magnesium day 1:'DR1IMAGN'\n",
    "df_mag2_d1 = df_mag2_d1[['SEQN', 'DR1IMAGN']]\n",
    "\n",
    "df_iron2_d1 = pd.read_sas(\"./Data/2017-2018/2017-2018_Day1_J.XPT\")#Iron day 1:'DR1IIRON'\n",
    "df_iron2_d1 = df_iron2_d1[['SEQN', 'DR1IIRON']]\n",
    "\n",
    "df_satfat2_d1 = pd.read_sas(\"./Data/2017-2018/2017-2018_Day1_J.XPT\")#Total saturated fat day 1:'DR1ISFAT'\n",
    "df_satfat2_d1 = df_satfat2_d1[['SEQN', 'DR1ISFAT']]\n",
    "\n",
    "df_polyfat2_d1 = pd.read_sas(\"./Data/2017-2018/2017-2018_Day1_J.XPT\")#Total polyunsaturated fat day 1:'DR1IPFAT'\n",
    "df_polyfat2_d1 = df_polyfat2_d1[['SEQN', 'DR1IPFAT']]\n",
    "\n",
    "df_monofat2_d1 = pd.read_sas(\"./Data/2017-2018/2017-2018_Day1_J.XPT\")#Total polyunsaturated fat day 1:'DR1IMFAT'\n",
    "df_monofat2_d1 = df_monofat2_d1[['SEQN', 'DR1IMFAT']]\n",
    "\n",
    "\n",
    "df_mag2_d2 = pd.read_sas(\"./Data/2017-2018/2017-2018_Day2_J.XPT\")#Magnesium day 1:'DR1IMAGN'\n",
    "df_mag2_d2 = df_mag2_d2[['SEQN', 'DR2IMAGN']]\n",
    "\n",
    "df_iron2_d2 = pd.read_sas(\"./Data/2017-2018/2017-2018_Day2_J.XPT\")#Iron day 1:'DR1IIRON'\n",
    "df_iron2_d2 = df_iron2_d2[['SEQN', 'DR2IIRON']]\n",
    "\n",
    "df_satfat2_d2 = pd.read_sas(\"./Data/2017-2018/2017-2018_Day2_J.XPT\")#Total saturated fat day 1:'DR1ISFAT'\n",
    "df_satfat2_d2 = df_satfat2_d2[['SEQN', 'DR2ISFAT']]\n",
    "\n",
    "df_polyfat2_d2 = pd.read_sas(\"./Data/2017-2018/2017-2018_Day2_J.XPT\")#Total polyunsaturated fat day 1:'DR1IPFAT'\n",
    "df_polyfat2_d2 = df_polyfat2_d2[['SEQN', 'DR2IPFAT']]\n",
    "\n",
    "df_monofat2_d2 = pd.read_sas(\"./Data/2017-2018/2017-2018_Day2_J.XPT\")#Total polyunsaturated fat day 1:'DR1IMFAT'\n",
    "df_monofat2_d2 = df_monofat2_d2[['SEQN', 'DR2IMFAT']]"
   ]
  },
  {
   "cell_type": "code",
   "execution_count": 107,
   "id": "deb00d90",
   "metadata": {},
   "outputs": [],
   "source": [
    "# Average the multiple recordings throughout the day\n",
    "df_mag1_d1 = df_mag1_d1.groupby('SEQN', as_index=False).mean()\n",
    "df_iron1_d1 = df_iron1_d1.groupby('SEQN', as_index=False).mean()\n",
    "df_satfat1_d1 = df_satfat1_d1.groupby('SEQN', as_index=False).mean()\n",
    "df_polyfat1_d1 = df_polyfat1_d1.groupby('SEQN', as_index=False).mean()\n",
    "df_monofat1_d1 = df_monofat1_d1.groupby('SEQN', as_index=False).mean()\n",
    "\n",
    "df_mag1_d2 = df_mag1_d2.groupby('SEQN', as_index=False).mean()\n",
    "df_iron1_d2 = df_iron1_d2.groupby('SEQN', as_index=False).mean()\n",
    "df_satfat1_d2 = df_satfat1_d2.groupby('SEQN', as_index=False).mean()\n",
    "df_polyfat1_d2 = df_polyfat1_d2.groupby('SEQN', as_index=False).mean()\n",
    "df_monofat1_d2 = df_monofat1_d2.groupby('SEQN', as_index=False).mean()"
   ]
  },
  {
   "cell_type": "code",
   "execution_count": 108,
   "id": "8a998ddc",
   "metadata": {},
   "outputs": [],
   "source": [
    "# 2015-2016 merged by 'SEQN'\n",
    "dfs1 = [df_demo1, df_sleep1, df_dep1, df_bmi1,\n",
    "        df_mag1_d1, df_iron1_d1, df_satfat1_d1, df_polyfat1_d1, df_monofat1_d1,\n",
    "        df_mag1_d2, df_iron1_d2, df_satfat1_d2, df_polyfat1_d2, df_monofat1_d2]\n",
    "df_2015 = reduce(lambda left, right: pd.merge(left, right, on='SEQN', how='inner'), dfs1)\n",
    "\n"
   ]
  },
  {
   "cell_type": "code",
   "execution_count": 109,
   "id": "573d7109",
   "metadata": {},
   "outputs": [],
   "source": [
    "# Average the multiple recordings throughout the day\n",
    "df_mag2_d1 = df_mag2_d1.groupby('SEQN', as_index=False).mean()\n",
    "df_iron2_d1 = df_iron2_d1.groupby('SEQN', as_index=False).mean()\n",
    "df_satfat2_d1 = df_satfat2_d1.groupby('SEQN', as_index=False).mean()\n",
    "df_polyfat2_d1 = df_polyfat2_d1.groupby('SEQN', as_index=False).mean()\n",
    "df_monofat2_d1 = df_monofat2_d1.groupby('SEQN', as_index=False).mean()\n",
    "\n",
    "df_mag2_d2 = df_mag2_d2.groupby('SEQN', as_index=False).mean()\n",
    "df_iron2_d2 = df_iron2_d2.groupby('SEQN', as_index=False).mean()\n",
    "df_satfat2_d2 = df_satfat2_d2.groupby('SEQN', as_index=False).mean()\n",
    "df_polyfat2_d2 = df_polyfat2_d2.groupby('SEQN', as_index=False).mean()\n",
    "df_monofat2_d2 = df_monofat2_d2.groupby('SEQN', as_index=False).mean()"
   ]
  },
  {
   "cell_type": "code",
   "execution_count": 110,
   "id": "41e59b38",
   "metadata": {},
   "outputs": [],
   "source": [
    "# 2017-2018 merged by 'SEQN'\n",
    "dfs2 = [df_demo2, df_sleep2, df_dep2, df_bmi2,\n",
    "        df_mag2_d1, df_iron2_d1, df_satfat2_d1, df_polyfat2_d1, df_monofat2_d1,\n",
    "        df_mag2_d2, df_iron2_d2, df_satfat2_d2, df_polyfat2_d2, df_monofat2_d2]\n",
    "df_2017 = reduce(lambda left, right: pd.merge(left, right, on='SEQN', how='inner'), dfs2)\n",
    "\n"
   ]
  },
  {
   "cell_type": "code",
   "execution_count": 111,
   "id": "a928c172",
   "metadata": {},
   "outputs": [
    {
     "data": {
      "text/plain": [
       "(8743, 22)"
      ]
     },
     "execution_count": 111,
     "metadata": {},
     "output_type": "execute_result"
    }
   ],
   "source": [
    "# 2015-2016 & 2017-2018 merge\n",
    "df = pd.concat([df_2015, df_2017], axis=0)\n",
    "\n",
    "df.shape"
   ]
  },
  {
   "cell_type": "code",
   "execution_count": null,
   "id": "fc7c7203",
   "metadata": {},
   "outputs": [],
   "source": []
  },
  {
   "cell_type": "code",
   "execution_count": 112,
   "id": "9536c117",
   "metadata": {},
   "outputs": [
    {
     "name": "stdout",
     "output_type": "stream",
     "text": [
      "Index(['SEQN', 'RIAGENDR', 'RIDAGEYR', 'RIDEXPRG', 'SLQ040', 'SLQ050',\n",
      "       'SLD012', 'SLQ120', 'DPQ020', 'DPQ030', 'DPQ040', 'BMXBMI', 'DR1IMAGN',\n",
      "       'DR1IIRON', 'DR1ISFAT', 'DR1IPFAT', 'DR1IMFAT', 'DR2IMAGN', 'DR2IIRON',\n",
      "       'DR2ISFAT', 'DR2IPFAT', 'DR2IMFAT'],\n",
      "      dtype='object')\n"
     ]
    }
   ],
   "source": [
    "print(df.columns)"
   ]
  },
  {
   "cell_type": "markdown",
   "id": "29662ca3",
   "metadata": {},
   "source": [
    "# Data Preprocessing"
   ]
  },
  {
   "cell_type": "code",
   "execution_count": 113,
   "id": "a0ab579e",
   "metadata": {},
   "outputs": [],
   "source": [
    "#Demographic Variables\n",
    "\n",
    "# Drop pregnancy\n",
    "df = df[df['RIDEXPRG'] != 1]\n",
    "df = df.drop('RIDEXPRG', axis=1)\n",
    "# Filter Age older than 18\n",
    "df = df[(df['RIDAGEYR'] >= 18)]"
   ]
  },
  {
   "cell_type": "code",
   "execution_count": 114,
   "id": "6ca83ab7",
   "metadata": {},
   "outputs": [],
   "source": [
    "# Filter valid data about Sleep Disorder\n",
    "valid_values = [0, 1, 2, 3]\n",
    "df = df[df['SLQ040'].isin(valid_values) | df['SLQ050'].isin(valid_values)]"
   ]
  },
  {
   "cell_type": "code",
   "execution_count": 115,
   "id": "c3cd3b9c",
   "metadata": {},
   "outputs": [],
   "source": [
    "# Filter data for Sleepiness\n",
    "valid_values = [0, 1, 2, 3, 4]\n",
    "df = df[df['SLQ120'].isin(valid_values)]"
   ]
  },
  {
   "cell_type": "code",
   "execution_count": 116,
   "id": "60e73c2c",
   "metadata": {},
   "outputs": [],
   "source": [
    "# Filter valid data about Depression\n",
    "valid_values = [0, 1, 2, 3]\n",
    "df = df[(df['DPQ020'].isin(valid_values) & df['DPQ030'].isin(valid_values)) & df['DPQ040'].isin(valid_values)]"
   ]
  },
  {
   "cell_type": "code",
   "execution_count": 117,
   "id": "2315c22a",
   "metadata": {},
   "outputs": [],
   "source": [
    "# Filter valid data about BMI\n",
    "columns_to_check = ['BMXBMI']\n",
    "\n",
    "for col in columns_to_check:\n",
    "    df = df[pd.to_numeric(df[col], errors='coerce').notna()]"
   ]
  },
  {
   "cell_type": "code",
   "execution_count": 118,
   "id": "860c0008",
   "metadata": {},
   "outputs": [],
   "source": [
    "# Filter valid data about BMI\n",
    "df = df[pd.to_numeric(df['BMXBMI'], errors='coerce').notna()]"
   ]
  },
  {
   "cell_type": "code",
   "execution_count": 119,
   "id": "00e4c346",
   "metadata": {},
   "outputs": [
    {
     "data": {
      "text/plain": [
       "(1148, 21)"
      ]
     },
     "execution_count": 119,
     "metadata": {},
     "output_type": "execute_result"
    }
   ],
   "source": [
    "#Replace outliers with 0\n",
    "df[df < 1e-10] = 0\n",
    "df.shape"
   ]
  },
  {
   "cell_type": "code",
   "execution_count": 120,
   "id": "53dbf027",
   "metadata": {},
   "outputs": [],
   "source": [
    "# Specifically for sleep hours\n",
    "df = df.dropna()"
   ]
  },
  {
   "cell_type": "code",
   "execution_count": 121,
   "id": "0f1a55a1",
   "metadata": {},
   "outputs": [
    {
     "data": {
      "text/plain": [
       "(1136, 21)"
      ]
     },
     "execution_count": 121,
     "metadata": {},
     "output_type": "execute_result"
    }
   ],
   "source": [
    "df.shape"
   ]
  },
  {
   "cell_type": "code",
   "execution_count": 122,
   "id": "27a5ed86",
   "metadata": {},
   "outputs": [
    {
     "name": "stdout",
     "output_type": "stream",
     "text": [
      "male：437\n",
      "female：699\n"
     ]
    }
   ],
   "source": [
    "count_male = df['RIAGENDR'].value_counts().get(1, 0)\n",
    "count_female = df['RIAGENDR'].value_counts().get(2, 0)\n",
    "\n",
    "print(f'male：{count_male}')\n",
    "print(f'female：{count_female}')"
   ]
  },
  {
   "cell_type": "markdown",
   "id": "d980b433",
   "metadata": {},
   "source": [
    "# Set categorical features"
   ]
  },
  {
   "cell_type": "code",
   "execution_count": 123,
   "id": "181faf9e",
   "metadata": {},
   "outputs": [
    {
     "name": "stdout",
     "output_type": "stream",
     "text": [
      "sleep disorder：805\n"
     ]
    }
   ],
   "source": [
    "# add category: 0-no sleep problems;  1-sleep disorder\n",
    "def apply_condition_sleep(df):\n",
    "    if df['SLQ040'] in [1, 2, 3] or df['SLQ050'] == 1:\n",
    "        return 1\n",
    "    else:\n",
    "        return 0\n",
    "\n",
    "df['sleep_disorder'] = df.apply(apply_condition_sleep, axis=1)\n",
    "sleep_disorder = df['sleep_disorder'].sum()\n",
    "print(f'sleep disorder：{sleep_disorder}')"
   ]
  },
  {
   "cell_type": "markdown",
   "id": "ad2ec98f",
   "metadata": {},
   "source": [
    "from sklearn.preprocessing import StandardScaler\n",
    "\n",
    "scaler = StandardScaler()\n",
    "feature_to_scale = 'BMXBMI'\n",
    "df['BMXBMI'] = scaler.fit_transform(df[['BMXBMI']])"
   ]
  },
  {
   "cell_type": "code",
   "execution_count": 124,
   "id": "8593fb67",
   "metadata": {},
   "outputs": [
    {
     "name": "stdout",
     "output_type": "stream",
     "text": [
      "1136\n"
     ]
    }
   ],
   "source": [
    "print(len(df))"
   ]
  },
  {
   "cell_type": "code",
   "execution_count": 125,
   "id": "b278726e",
   "metadata": {},
   "outputs": [
    {
     "name": "stdout",
     "output_type": "stream",
     "text": [
      "       SEQN  RIAGENDR  RIDAGEYR  SLQ040  SLQ050  SLD012  SLQ120  DPQ020  \\\n",
      "13  83759.0       2.0      19.0     0.0     1.0     8.5     4.0     1.0   \n",
      "\n",
      "    DPQ030  DPQ040  ...  DR1IIRON  DR1ISFAT  DR1IPFAT  DR1IMFAT  DR2IMAGN  \\\n",
      "13     3.0     3.0  ...  1.668889  3.091667  1.412389  2.180889      15.0   \n",
      "\n",
      "    DR2IIRON  DR2ISFAT  DR2IPFAT  DR2IMFAT  sleep_disorder  \n",
      "13  0.654348  3.424348     1.476     2.488               1  \n",
      "\n",
      "[1 rows x 22 columns]\n"
     ]
    }
   ],
   "source": [
    "print(df.head(1))"
   ]
  },
  {
   "cell_type": "code",
   "execution_count": 126,
   "id": "cc96a412",
   "metadata": {},
   "outputs": [],
   "source": [
    "# Save data to current directory\n",
    "df.to_csv('processed_data.csv')"
   ]
  },
  {
   "cell_type": "code",
   "execution_count": null,
   "id": "18c5a26c",
   "metadata": {},
   "outputs": [],
   "source": []
  },
  {
   "cell_type": "code",
   "execution_count": null,
   "id": "e7800a71",
   "metadata": {},
   "outputs": [],
   "source": []
  }
 ],
 "metadata": {
  "kernelspec": {
   "display_name": "Python 3 (ipykernel)",
   "language": "python",
   "name": "python3"
  },
  "language_info": {
   "codemirror_mode": {
    "name": "ipython",
    "version": 3
   },
   "file_extension": ".py",
   "mimetype": "text/x-python",
   "name": "python",
   "nbconvert_exporter": "python",
   "pygments_lexer": "ipython3",
   "version": "3.9.12"
  }
 },
 "nbformat": 4,
 "nbformat_minor": 5
}
