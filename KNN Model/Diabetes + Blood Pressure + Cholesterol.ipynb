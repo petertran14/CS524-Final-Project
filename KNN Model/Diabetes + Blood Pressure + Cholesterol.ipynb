{
 "cells": [
  {
   "cell_type": "markdown",
   "id": "9d04491c",
   "metadata": {},
   "source": [
    "# Imports"
   ]
  },
  {
   "cell_type": "code",
   "execution_count": 1,
   "id": "3cb60aad",
   "metadata": {},
   "outputs": [],
   "source": [
    "# Math and data management\n",
    "import numpy as np\n",
    "import pandas as pd\n",
    "import math\n",
    "import statistics\n",
    "\n",
    "# Machine Learning\n",
    "from sklearn.model_selection import train_test_split\n",
    "from sklearn.neighbors import NearestNeighbors\n",
    "from sklearn import tree\n",
    "\n",
    "# Visualization libraries\n",
    "import matplotlib\n",
    "import matplotlib.pyplot as plt\n",
    "import seaborn as sns"
   ]
  },
  {
   "cell_type": "markdown",
   "id": "5de9574c",
   "metadata": {},
   "source": [
    "# Load Data"
   ]
  },
  {
   "cell_type": "code",
   "execution_count": null,
   "id": "5f140f63",
   "metadata": {},
   "outputs": [],
   "source": []
  },
  {
   "cell_type": "markdown",
   "id": "f2432a85",
   "metadata": {},
   "source": [
    "# Understanding the Data"
   ]
  },
  {
   "cell_type": "code",
   "execution_count": null,
   "id": "3874fb9f",
   "metadata": {},
   "outputs": [],
   "source": [
    "# Statistical metrics and visualization about the distribution of our features"
   ]
  },
  {
   "cell_type": "markdown",
   "id": "ea961b50",
   "metadata": {},
   "source": [
    "# Training - Validation - Test Split"
   ]
  },
  {
   "cell_type": "code",
   "execution_count": null,
   "id": "b608bad8",
   "metadata": {},
   "outputs": [],
   "source": []
  },
  {
   "cell_type": "markdown",
   "id": "79be80b4",
   "metadata": {},
   "source": [
    "# Learning the Model"
   ]
  },
  {
   "cell_type": "code",
   "execution_count": null,
   "id": "e7f24d5f",
   "metadata": {},
   "outputs": [],
   "source": []
  },
  {
   "cell_type": "markdown",
   "id": "50eed121",
   "metadata": {},
   "source": [
    "# Hyperparameter tuning on Validation Set"
   ]
  },
  {
   "cell_type": "code",
   "execution_count": null,
   "id": "8a42b7bd",
   "metadata": {},
   "outputs": [],
   "source": [
    "# KNN would tune on the value of k\n",
    "# Random Forest would tune on number of trees\n",
    "\n",
    "# We can have a visual to show the results over the hyperparameters"
   ]
  },
  {
   "cell_type": "markdown",
   "id": "98db56fa",
   "metadata": {},
   "source": [
    "# Evaluating on Testing Set"
   ]
  },
  {
   "cell_type": "code",
   "execution_count": null,
   "id": "73359563",
   "metadata": {},
   "outputs": [],
   "source": []
  },
  {
   "cell_type": "markdown",
   "id": "a96499bf",
   "metadata": {},
   "source": [
    "# Driver (to run repeated iterations of the entire experiment, if needed)"
   ]
  },
  {
   "cell_type": "code",
   "execution_count": null,
   "id": "c792046c",
   "metadata": {},
   "outputs": [],
   "source": []
  }
 ],
 "metadata": {
  "kernelspec": {
   "display_name": "Python 3 (ipykernel)",
   "language": "python",
   "name": "python3"
  },
  "language_info": {
   "codemirror_mode": {
    "name": "ipython",
    "version": 3
   },
   "file_extension": ".py",
   "mimetype": "text/x-python",
   "name": "python",
   "nbconvert_exporter": "python",
   "pygments_lexer": "ipython3",
   "version": "3.9.12"
  }
 },
 "nbformat": 4,
 "nbformat_minor": 5
}
